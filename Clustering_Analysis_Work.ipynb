{
 "cells": [
  {
   "cell_type": "markdown",
   "id": "72c8fe04",
   "metadata": {
    "id": "RDSjQ1jhv5-N",
    "papermill": {
     "duration": 0.019089,
     "end_time": "2022-06-30T14:23:24.290259",
     "exception": false,
     "start_time": "2022-06-30T14:23:24.271170",
     "status": "completed"
    },
    "tags": []
   },
   "source": [
    "# CLUSTERING ANALYSIS WORK"
   ]
  },
  {
   "cell_type": "code",
   "execution_count": 1,
   "id": "edf996c6",
   "metadata": {
    "execution": {
     "iopub.execute_input": "2022-06-30T14:23:24.327869Z",
     "iopub.status.busy": "2022-06-30T14:23:24.327437Z",
     "iopub.status.idle": "2022-06-30T14:23:25.502084Z",
     "shell.execute_reply": "2022-06-30T14:23:25.500883Z"
    },
    "id": "ed14446b",
    "papermill": {
     "duration": 1.196806,
     "end_time": "2022-06-30T14:23:25.504981",
     "exception": false,
     "start_time": "2022-06-30T14:23:24.308175",
     "status": "completed"
    },
    "tags": []
   },
   "outputs": [],
   "source": [
    "# Import necessary libraries\n",
    "\n",
    "import pandas as pd\n",
    "import numpy as np\n",
    "import matplotlib.pyplot as plt\n",
    "import seaborn as sns\n",
    "\n",
    "plt.figure(figsize=(15,15))\n",
    "%matplotlib inline\n"
   ]
  },
  {
   "cell_type": "code",
   "execution_count": 2,
   "id": "8b6fbc79",
   "metadata": {
    "execution": {
     "iopub.execute_input": "2022-06-30T14:23:25.544197Z",
     "iopub.status.busy": "2022-06-30T14:23:25.543780Z",
     "iopub.status.idle": "2022-06-30T14:23:25.989744Z",
     "shell.execute_reply": "2022-06-30T14:23:25.988214Z"
    },
    "id": "h171is3mGDdU",
    "papermill": {
     "duration": 0.46973,
     "end_time": "2022-06-30T14:23:25.992549",
     "exception": false,
     "start_time": "2022-06-30T14:23:25.522819",
     "status": "completed"
    },
    "tags": []
   },
   "outputs": [],
   "source": [
    "from sklearn.cluster import KMeans\n",
    "from sklearn.preprocessing import StandardScaler\n",
    "from sklearn.metrics import silhouette_score\n",
    "from sklearn.metrics import adjusted_rand_score, adjusted_mutual_info_score, mutual_info_score, davies_bouldin_score\n",
    "\n",
    "import warnings\n",
    "warnings.filterwarnings('ignore')"
   ]
  },
  {
   "cell_type": "code",
   "execution_count": 3,
   "id": "2b78003f",
   "metadata": {
    "execution": {
     "iopub.execute_input": "2022-06-30T14:23:26.031290Z",
     "iopub.status.busy": "2022-06-30T14:23:26.030880Z",
     "iopub.status.idle": "2022-06-30T14:23:26.337360Z",
     "shell.execute_reply": "2022-06-30T14:23:26.336199Z"
    },
    "id": "7ec96ee5",
    "outputId": "d792cfd7-ef06-43d9-f7ea-c1b3c45c754b",
    "papermill": {
     "duration": 0.327901,
     "end_time": "2022-06-30T14:23:26.339756",
     "exception": false,
     "start_time": "2022-06-30T14:23:26.011855",
     "status": "completed"
    },
    "tags": []
   },
   "outputs": [
    {
     "data": {
      "text/html": [
       "<div>\n",
       "<style scoped>\n",
       "    .dataframe tbody tr th:only-of-type {\n",
       "        vertical-align: middle;\n",
       "    }\n",
       "\n",
       "    .dataframe tbody tr th {\n",
       "        vertical-align: top;\n",
       "    }\n",
       "\n",
       "    .dataframe thead th {\n",
       "        text-align: right;\n",
       "    }\n",
       "</style>\n",
       "<table border=\"1\" class=\"dataframe\">\n",
       "  <thead>\n",
       "    <tr style=\"text-align: right;\">\n",
       "      <th></th>\n",
       "      <th>Country Name</th>\n",
       "      <th>Country Code</th>\n",
       "      <th>Indicator Name</th>\n",
       "      <th>Indicator Code</th>\n",
       "      <th>1960</th>\n",
       "      <th>1961</th>\n",
       "      <th>1962</th>\n",
       "      <th>1963</th>\n",
       "      <th>1964</th>\n",
       "      <th>1965</th>\n",
       "      <th>...</th>\n",
       "      <th>2012</th>\n",
       "      <th>2013</th>\n",
       "      <th>2014</th>\n",
       "      <th>2015</th>\n",
       "      <th>2016</th>\n",
       "      <th>2017</th>\n",
       "      <th>2018</th>\n",
       "      <th>2019</th>\n",
       "      <th>2020</th>\n",
       "      <th>2021</th>\n",
       "    </tr>\n",
       "  </thead>\n",
       "  <tbody>\n",
       "    <tr>\n",
       "      <th>0</th>\n",
       "      <td>Aruba</td>\n",
       "      <td>ABW</td>\n",
       "      <td>Urban population (% of total population)</td>\n",
       "      <td>SP.URB.TOTL.IN.ZS</td>\n",
       "      <td>50.776</td>\n",
       "      <td>50.761000</td>\n",
       "      <td>50.746000</td>\n",
       "      <td>50.730000</td>\n",
       "      <td>50.715000</td>\n",
       "      <td>50.700000</td>\n",
       "      <td>...</td>\n",
       "      <td>42.957000</td>\n",
       "      <td>42.990000</td>\n",
       "      <td>43.041000</td>\n",
       "      <td>43.108000</td>\n",
       "      <td>43.192000</td>\n",
       "      <td>43.293000</td>\n",
       "      <td>43.411000</td>\n",
       "      <td>43.546000</td>\n",
       "      <td>43.697000</td>\n",
       "      <td>NaN</td>\n",
       "    </tr>\n",
       "    <tr>\n",
       "      <th>1</th>\n",
       "      <td>Aruba</td>\n",
       "      <td>ABW</td>\n",
       "      <td>Urban population</td>\n",
       "      <td>SP.URB.TOTL</td>\n",
       "      <td>27525.000</td>\n",
       "      <td>28139.000000</td>\n",
       "      <td>28537.000000</td>\n",
       "      <td>28763.000000</td>\n",
       "      <td>28922.000000</td>\n",
       "      <td>29080.000000</td>\n",
       "      <td>...</td>\n",
       "      <td>44059.000000</td>\n",
       "      <td>44351.000000</td>\n",
       "      <td>44666.000000</td>\n",
       "      <td>44978.000000</td>\n",
       "      <td>45293.000000</td>\n",
       "      <td>45614.000000</td>\n",
       "      <td>45949.000000</td>\n",
       "      <td>46294.000000</td>\n",
       "      <td>46654.000000</td>\n",
       "      <td>NaN</td>\n",
       "    </tr>\n",
       "    <tr>\n",
       "      <th>2</th>\n",
       "      <td>Aruba</td>\n",
       "      <td>ABW</td>\n",
       "      <td>Urban population growth (annual %)</td>\n",
       "      <td>SP.URB.GROW</td>\n",
       "      <td>NaN</td>\n",
       "      <td>2.206183</td>\n",
       "      <td>1.404498</td>\n",
       "      <td>0.788835</td>\n",
       "      <td>0.551271</td>\n",
       "      <td>0.544810</td>\n",
       "      <td>...</td>\n",
       "      <td>0.543931</td>\n",
       "      <td>0.660561</td>\n",
       "      <td>0.707733</td>\n",
       "      <td>0.696090</td>\n",
       "      <td>0.697901</td>\n",
       "      <td>0.706219</td>\n",
       "      <td>0.731740</td>\n",
       "      <td>0.748028</td>\n",
       "      <td>0.774631</td>\n",
       "      <td>NaN</td>\n",
       "    </tr>\n",
       "    <tr>\n",
       "      <th>3</th>\n",
       "      <td>Aruba</td>\n",
       "      <td>ABW</td>\n",
       "      <td>Population, total</td>\n",
       "      <td>SP.POP.TOTL</td>\n",
       "      <td>54208.000</td>\n",
       "      <td>55434.000000</td>\n",
       "      <td>56234.000000</td>\n",
       "      <td>56699.000000</td>\n",
       "      <td>57029.000000</td>\n",
       "      <td>57357.000000</td>\n",
       "      <td>...</td>\n",
       "      <td>102565.000000</td>\n",
       "      <td>103165.000000</td>\n",
       "      <td>103776.000000</td>\n",
       "      <td>104339.000000</td>\n",
       "      <td>104865.000000</td>\n",
       "      <td>105361.000000</td>\n",
       "      <td>105846.000000</td>\n",
       "      <td>106310.000000</td>\n",
       "      <td>106766.000000</td>\n",
       "      <td>NaN</td>\n",
       "    </tr>\n",
       "    <tr>\n",
       "      <th>4</th>\n",
       "      <td>Aruba</td>\n",
       "      <td>ABW</td>\n",
       "      <td>Population growth (annual %)</td>\n",
       "      <td>SP.POP.GROW</td>\n",
       "      <td>NaN</td>\n",
       "      <td>2.236462</td>\n",
       "      <td>1.432843</td>\n",
       "      <td>0.823502</td>\n",
       "      <td>0.580334</td>\n",
       "      <td>0.573498</td>\n",
       "      <td>...</td>\n",
       "      <td>0.503385</td>\n",
       "      <td>0.583290</td>\n",
       "      <td>0.590508</td>\n",
       "      <td>0.541048</td>\n",
       "      <td>0.502860</td>\n",
       "      <td>0.471874</td>\n",
       "      <td>0.459266</td>\n",
       "      <td>0.437415</td>\n",
       "      <td>0.428017</td>\n",
       "      <td>NaN</td>\n",
       "    </tr>\n",
       "  </tbody>\n",
       "</table>\n",
       "<p>5 rows × 66 columns</p>\n",
       "</div>"
      ],
      "text/plain": [
       "  Country Name Country Code                            Indicator Name  \\\n",
       "0        Aruba          ABW  Urban population (% of total population)   \n",
       "1        Aruba          ABW                          Urban population   \n",
       "2        Aruba          ABW        Urban population growth (annual %)   \n",
       "3        Aruba          ABW                         Population, total   \n",
       "4        Aruba          ABW              Population growth (annual %)   \n",
       "\n",
       "      Indicator Code       1960          1961          1962          1963  \\\n",
       "0  SP.URB.TOTL.IN.ZS     50.776     50.761000     50.746000     50.730000   \n",
       "1        SP.URB.TOTL  27525.000  28139.000000  28537.000000  28763.000000   \n",
       "2        SP.URB.GROW        NaN      2.206183      1.404498      0.788835   \n",
       "3        SP.POP.TOTL  54208.000  55434.000000  56234.000000  56699.000000   \n",
       "4        SP.POP.GROW        NaN      2.236462      1.432843      0.823502   \n",
       "\n",
       "           1964          1965  ...           2012           2013  \\\n",
       "0     50.715000     50.700000  ...      42.957000      42.990000   \n",
       "1  28922.000000  29080.000000  ...   44059.000000   44351.000000   \n",
       "2      0.551271      0.544810  ...       0.543931       0.660561   \n",
       "3  57029.000000  57357.000000  ...  102565.000000  103165.000000   \n",
       "4      0.580334      0.573498  ...       0.503385       0.583290   \n",
       "\n",
       "            2014           2015           2016           2017           2018  \\\n",
       "0      43.041000      43.108000      43.192000      43.293000      43.411000   \n",
       "1   44666.000000   44978.000000   45293.000000   45614.000000   45949.000000   \n",
       "2       0.707733       0.696090       0.697901       0.706219       0.731740   \n",
       "3  103776.000000  104339.000000  104865.000000  105361.000000  105846.000000   \n",
       "4       0.590508       0.541048       0.502860       0.471874       0.459266   \n",
       "\n",
       "            2019           2020  2021  \n",
       "0      43.546000      43.697000   NaN  \n",
       "1   46294.000000   46654.000000   NaN  \n",
       "2       0.748028       0.774631   NaN  \n",
       "3  106310.000000  106766.000000   NaN  \n",
       "4       0.437415       0.428017   NaN  \n",
       "\n",
       "[5 rows x 66 columns]"
      ]
     },
     "execution_count": 3,
     "metadata": {},
     "output_type": "execute_result"
    }
   ],
   "source": [
    "# Read in the data downloaded from World Bank Data\n",
    "\n",
    "df = pd.read_csv('../input/api-yemsquare/API_19_DS2_en_csv_v2_4151283.csv', skiprows=4)\n",
    "df.head()"
   ]
  },
  {
   "cell_type": "code",
   "execution_count": 4,
   "id": "3fc5e5aa",
   "metadata": {
    "execution": {
     "iopub.execute_input": "2022-06-30T14:23:26.378510Z",
     "iopub.status.busy": "2022-06-30T14:23:26.378074Z",
     "iopub.status.idle": "2022-06-30T14:23:26.394226Z",
     "shell.execute_reply": "2022-06-30T14:23:26.393169Z"
    },
    "id": "27542795",
    "outputId": "82e9274f-d9c7-478a-b7f1-fdbce67ef139",
    "papermill": {
     "duration": 0.03805,
     "end_time": "2022-06-30T14:23:26.396575",
     "exception": false,
     "start_time": "2022-06-30T14:23:26.358525",
     "status": "completed"
    },
    "scrolled": true,
    "tags": []
   },
   "outputs": [
    {
     "data": {
      "text/plain": [
       "array(['Urban population (% of total population)', 'Urban population',\n",
       "       'Urban population growth (annual %)', 'Population, total',\n",
       "       'Population growth (annual %)',\n",
       "       'Poverty headcount ratio at $1.90 a day (2011 PPP) (% of population)',\n",
       "       'Prevalence of underweight, weight for age (% of children under 5)',\n",
       "       'Community health workers (per 1,000 people)',\n",
       "       'Mortality rate, under-5 (per 1,000 live births)',\n",
       "       'Primary completion rate, total (% of relevant age group)',\n",
       "       'School enrollment, primary and secondary (gross), gender parity index (GPI)',\n",
       "       'Agriculture, forestry, and fishing, value added (% of GDP)',\n",
       "       'CPIA public sector management and institutions cluster average (1=low to 6=high)',\n",
       "       'Ease of doing business rank (1=most business-friendly regulations)',\n",
       "       'Terrestrial and marine protected areas (% of total territorial area)',\n",
       "       'Marine protected areas (% of territorial waters)',\n",
       "       'Terrestrial protected areas (% of total land area)',\n",
       "       'Annual freshwater withdrawals, total (% of internal resources)',\n",
       "       'Annual freshwater withdrawals, total (billion cubic meters)',\n",
       "       'Population in urban agglomerations of more than 1 million (% of total population)',\n",
       "       'Population living in areas where elevation is below 5 meters (% of total population)',\n",
       "       'Urban population living in areas where elevation is below 5 meters (% of total population)',\n",
       "       'Rural population living in areas where elevation is below 5 meters (% of total population)',\n",
       "       'Droughts, floods, extreme temperatures (% of population, average 1990-2009)',\n",
       "       'GHG net emissions/removals by LUCF (Mt of CO2 equivalent)',\n",
       "       'Disaster risk reduction progress score (1-5 scale; 5=best)',\n",
       "       'SF6 gas emissions (thousand metric tons of CO2 equivalent)',\n",
       "       'PFC gas emissions (thousand metric tons of CO2 equivalent)',\n",
       "       'Nitrous oxide emissions (% change from 1990)',\n",
       "       'Nitrous oxide emissions (thousand metric tons of CO2 equivalent)',\n",
       "       'Methane emissions (% change from 1990)',\n",
       "       'Methane emissions (kt of CO2 equivalent)',\n",
       "       'HFC gas emissions (thousand metric tons of CO2 equivalent)',\n",
       "       'Total greenhouse gas emissions (% change from 1990)',\n",
       "       'Total greenhouse gas emissions (kt of CO2 equivalent)',\n",
       "       'Other greenhouse gas emissions (% change from 1990)',\n",
       "       'Other greenhouse gas emissions, HFC, PFC and SF6 (thousand metric tons of CO2 equivalent)',\n",
       "       'CO2 emissions from solid fuel consumption (% of total)',\n",
       "       'CO2 emissions from solid fuel consumption (kt)',\n",
       "       'CO2 emissions (kg per 2017 PPP $ of GDP)',\n",
       "       'CO2 emissions (kg per PPP $ of GDP)',\n",
       "       'CO2 emissions (metric tons per capita)',\n",
       "       'CO2 emissions from liquid fuel consumption (% of total)',\n",
       "       'CO2 emissions from liquid fuel consumption (kt)',\n",
       "       'CO2 emissions (kt)', 'CO2 emissions (kg per 2015 US$ of GDP)',\n",
       "       'CO2 emissions from gaseous fuel consumption (% of total)',\n",
       "       'CO2 emissions from gaseous fuel consumption (kt)',\n",
       "       'CO2 intensity (kg per kg of oil equivalent energy use)',\n",
       "       'Energy use (kg of oil equivalent per capita)',\n",
       "       'Electric power consumption (kWh per capita)',\n",
       "       'Energy use (kg of oil equivalent) per $1,000 GDP (constant 2017 PPP)',\n",
       "       'Renewable energy consumption (% of total final energy consumption)',\n",
       "       'Electricity production from renewable sources, excluding hydroelectric (% of total)',\n",
       "       'Electricity production from renewable sources, excluding hydroelectric (kWh)',\n",
       "       'Renewable electricity output (% of total electricity output)',\n",
       "       'Electricity production from oil sources (% of total)',\n",
       "       'Electricity production from nuclear sources (% of total)',\n",
       "       'Electricity production from natural gas sources (% of total)',\n",
       "       'Electricity production from hydroelectric sources (% of total)',\n",
       "       'Electricity production from coal sources (% of total)',\n",
       "       'Access to electricity (% of population)',\n",
       "       'Foreign direct investment, net inflows (% of GDP)',\n",
       "       'Cereal yield (kg per hectare)',\n",
       "       'Average precipitation in depth (mm per year)',\n",
       "       'Agricultural irrigated land (% of total agricultural land)',\n",
       "       'Forest area (% of land area)', 'Forest area (sq. km)',\n",
       "       'Land area where elevation is below 5 meters (% of total land area)',\n",
       "       'Urban land area where elevation is below 5 meters (% of total land area)',\n",
       "       'Urban land area where elevation is below 5 meters (sq. km)',\n",
       "       'Rural land area where elevation is below 5 meters (% of total land area)',\n",
       "       'Rural land area where elevation is below 5 meters (sq. km)',\n",
       "       'Arable land (% of land area)',\n",
       "       'Agricultural land (% of land area)', 'Agricultural land (sq. km)'],\n",
       "      dtype=object)"
      ]
     },
     "execution_count": 4,
     "metadata": {},
     "output_type": "execute_result"
    }
   ],
   "source": [
    "# Check for the unique indicators in the dataset\n",
    "\n",
    "df['Indicator Name'].unique()"
   ]
  },
  {
   "cell_type": "code",
   "execution_count": 5,
   "id": "b8bdf9c9",
   "metadata": {
    "execution": {
     "iopub.execute_input": "2022-06-30T14:23:26.435519Z",
     "iopub.status.busy": "2022-06-30T14:23:26.435087Z",
     "iopub.status.idle": "2022-06-30T14:23:26.469923Z",
     "shell.execute_reply": "2022-06-30T14:23:26.468753Z"
    },
    "id": "c7ec0005",
    "outputId": "194e1959-6489-4d42-b7e5-40a13d1e659a",
    "papermill": {
     "duration": 0.057565,
     "end_time": "2022-06-30T14:23:26.472567",
     "exception": false,
     "start_time": "2022-06-30T14:23:26.415002",
     "status": "completed"
    },
    "tags": []
   },
   "outputs": [
    {
     "data": {
      "text/html": [
       "<div>\n",
       "<style scoped>\n",
       "    .dataframe tbody tr th:only-of-type {\n",
       "        vertical-align: middle;\n",
       "    }\n",
       "\n",
       "    .dataframe tbody tr th {\n",
       "        vertical-align: top;\n",
       "    }\n",
       "\n",
       "    .dataframe thead th {\n",
       "        text-align: right;\n",
       "    }\n",
       "</style>\n",
       "<table border=\"1\" class=\"dataframe\">\n",
       "  <thead>\n",
       "    <tr style=\"text-align: right;\">\n",
       "      <th></th>\n",
       "      <th>Country Name</th>\n",
       "      <th>Country Code</th>\n",
       "      <th>Indicator Name</th>\n",
       "      <th>Indicator Code</th>\n",
       "      <th>1960</th>\n",
       "      <th>1961</th>\n",
       "      <th>1962</th>\n",
       "      <th>1963</th>\n",
       "      <th>1964</th>\n",
       "      <th>1965</th>\n",
       "      <th>...</th>\n",
       "      <th>2012</th>\n",
       "      <th>2013</th>\n",
       "      <th>2014</th>\n",
       "      <th>2015</th>\n",
       "      <th>2016</th>\n",
       "      <th>2017</th>\n",
       "      <th>2018</th>\n",
       "      <th>2019</th>\n",
       "      <th>2020</th>\n",
       "      <th>2021</th>\n",
       "    </tr>\n",
       "  </thead>\n",
       "  <tbody>\n",
       "    <tr>\n",
       "      <th>37</th>\n",
       "      <td>Aruba</td>\n",
       "      <td>ABW</td>\n",
       "      <td>CO2 emissions from solid fuel consumption (% o...</td>\n",
       "      <td>EN.ATM.CO2E.SF.ZS</td>\n",
       "      <td>0.000000</td>\n",
       "      <td>0.000000</td>\n",
       "      <td>0.000000</td>\n",
       "      <td>0.000000</td>\n",
       "      <td>0.000000</td>\n",
       "      <td>0.000000</td>\n",
       "      <td>...</td>\n",
       "      <td>NaN</td>\n",
       "      <td>NaN</td>\n",
       "      <td>NaN</td>\n",
       "      <td>NaN</td>\n",
       "      <td>NaN</td>\n",
       "      <td>NaN</td>\n",
       "      <td>NaN</td>\n",
       "      <td>NaN</td>\n",
       "      <td>NaN</td>\n",
       "      <td>NaN</td>\n",
       "    </tr>\n",
       "    <tr>\n",
       "      <th>113</th>\n",
       "      <td>Africa Eastern and Southern</td>\n",
       "      <td>AFE</td>\n",
       "      <td>CO2 emissions from solid fuel consumption (% o...</td>\n",
       "      <td>EN.ATM.CO2E.SF.ZS</td>\n",
       "      <td>82.898414</td>\n",
       "      <td>82.135139</td>\n",
       "      <td>81.540091</td>\n",
       "      <td>81.208316</td>\n",
       "      <td>79.035536</td>\n",
       "      <td>79.527407</td>\n",
       "      <td>...</td>\n",
       "      <td>74.480709</td>\n",
       "      <td>71.663847</td>\n",
       "      <td>72.979637</td>\n",
       "      <td>70.246113</td>\n",
       "      <td>71.736710</td>\n",
       "      <td>NaN</td>\n",
       "      <td>NaN</td>\n",
       "      <td>NaN</td>\n",
       "      <td>NaN</td>\n",
       "      <td>NaN</td>\n",
       "    </tr>\n",
       "    <tr>\n",
       "      <th>189</th>\n",
       "      <td>Afghanistan</td>\n",
       "      <td>AFG</td>\n",
       "      <td>CO2 emissions from solid fuel consumption (% o...</td>\n",
       "      <td>EN.ATM.CO2E.SF.ZS</td>\n",
       "      <td>30.973451</td>\n",
       "      <td>35.820896</td>\n",
       "      <td>43.085106</td>\n",
       "      <td>37.305699</td>\n",
       "      <td>35.807860</td>\n",
       "      <td>37.818182</td>\n",
       "      <td>...</td>\n",
       "      <td>35.090909</td>\n",
       "      <td>46.322268</td>\n",
       "      <td>56.061434</td>\n",
       "      <td>49.750038</td>\n",
       "      <td>65.351001</td>\n",
       "      <td>NaN</td>\n",
       "      <td>NaN</td>\n",
       "      <td>NaN</td>\n",
       "      <td>NaN</td>\n",
       "      <td>NaN</td>\n",
       "    </tr>\n",
       "    <tr>\n",
       "      <th>265</th>\n",
       "      <td>Africa Western and Central</td>\n",
       "      <td>AFW</td>\n",
       "      <td>CO2 emissions from solid fuel consumption (% o...</td>\n",
       "      <td>EN.ATM.CO2E.SF.ZS</td>\n",
       "      <td>18.794475</td>\n",
       "      <td>17.755182</td>\n",
       "      <td>17.862538</td>\n",
       "      <td>13.441373</td>\n",
       "      <td>13.214473</td>\n",
       "      <td>9.876087</td>\n",
       "      <td>...</td>\n",
       "      <td>0.732431</td>\n",
       "      <td>0.666588</td>\n",
       "      <td>0.927653</td>\n",
       "      <td>1.031379</td>\n",
       "      <td>1.296756</td>\n",
       "      <td>NaN</td>\n",
       "      <td>NaN</td>\n",
       "      <td>NaN</td>\n",
       "      <td>NaN</td>\n",
       "      <td>NaN</td>\n",
       "    </tr>\n",
       "    <tr>\n",
       "      <th>341</th>\n",
       "      <td>Angola</td>\n",
       "      <td>AGO</td>\n",
       "      <td>CO2 emissions from solid fuel consumption (% o...</td>\n",
       "      <td>EN.ATM.CO2E.SF.ZS</td>\n",
       "      <td>22.666667</td>\n",
       "      <td>13.709677</td>\n",
       "      <td>7.763975</td>\n",
       "      <td>1.910828</td>\n",
       "      <td>6.287425</td>\n",
       "      <td>4.629630</td>\n",
       "      <td>...</td>\n",
       "      <td>0.000000</td>\n",
       "      <td>0.000000</td>\n",
       "      <td>0.000000</td>\n",
       "      <td>0.000000</td>\n",
       "      <td>0.000000</td>\n",
       "      <td>NaN</td>\n",
       "      <td>NaN</td>\n",
       "      <td>NaN</td>\n",
       "      <td>NaN</td>\n",
       "      <td>NaN</td>\n",
       "    </tr>\n",
       "  </tbody>\n",
       "</table>\n",
       "<p>5 rows × 66 columns</p>\n",
       "</div>"
      ],
      "text/plain": [
       "                    Country Name Country Code  \\\n",
       "37                         Aruba          ABW   \n",
       "113  Africa Eastern and Southern          AFE   \n",
       "189                  Afghanistan          AFG   \n",
       "265   Africa Western and Central          AFW   \n",
       "341                       Angola          AGO   \n",
       "\n",
       "                                        Indicator Name     Indicator Code  \\\n",
       "37   CO2 emissions from solid fuel consumption (% o...  EN.ATM.CO2E.SF.ZS   \n",
       "113  CO2 emissions from solid fuel consumption (% o...  EN.ATM.CO2E.SF.ZS   \n",
       "189  CO2 emissions from solid fuel consumption (% o...  EN.ATM.CO2E.SF.ZS   \n",
       "265  CO2 emissions from solid fuel consumption (% o...  EN.ATM.CO2E.SF.ZS   \n",
       "341  CO2 emissions from solid fuel consumption (% o...  EN.ATM.CO2E.SF.ZS   \n",
       "\n",
       "          1960       1961       1962       1963       1964       1965  ...  \\\n",
       "37    0.000000   0.000000   0.000000   0.000000   0.000000   0.000000  ...   \n",
       "113  82.898414  82.135139  81.540091  81.208316  79.035536  79.527407  ...   \n",
       "189  30.973451  35.820896  43.085106  37.305699  35.807860  37.818182  ...   \n",
       "265  18.794475  17.755182  17.862538  13.441373  13.214473   9.876087  ...   \n",
       "341  22.666667  13.709677   7.763975   1.910828   6.287425   4.629630  ...   \n",
       "\n",
       "          2012       2013       2014       2015       2016  2017  2018  2019  \\\n",
       "37         NaN        NaN        NaN        NaN        NaN   NaN   NaN   NaN   \n",
       "113  74.480709  71.663847  72.979637  70.246113  71.736710   NaN   NaN   NaN   \n",
       "189  35.090909  46.322268  56.061434  49.750038  65.351001   NaN   NaN   NaN   \n",
       "265   0.732431   0.666588   0.927653   1.031379   1.296756   NaN   NaN   NaN   \n",
       "341   0.000000   0.000000   0.000000   0.000000   0.000000   NaN   NaN   NaN   \n",
       "\n",
       "     2020  2021  \n",
       "37    NaN   NaN  \n",
       "113   NaN   NaN  \n",
       "189   NaN   NaN  \n",
       "265   NaN   NaN  \n",
       "341   NaN   NaN  \n",
       "\n",
       "[5 rows x 66 columns]"
      ]
     },
     "execution_count": 5,
     "metadata": {},
     "output_type": "execute_result"
    }
   ],
   "source": [
    "# Extract CO2 Emission records\n",
    "\n",
    "df_co2 = df[df['Indicator Name']=='CO2 emissions from solid fuel consumption (% of total)']\n",
    "df_co2.head()"
   ]
  },
  {
   "cell_type": "code",
   "execution_count": 6,
   "id": "0a379f9b",
   "metadata": {
    "execution": {
     "iopub.execute_input": "2022-06-30T14:23:26.512477Z",
     "iopub.status.busy": "2022-06-30T14:23:26.512014Z",
     "iopub.status.idle": "2022-06-30T14:23:26.519523Z",
     "shell.execute_reply": "2022-06-30T14:23:26.518343Z"
    },
    "id": "58ab6b4b",
    "outputId": "8608501b-40ce-4544-9b34-119e96f39272",
    "papermill": {
     "duration": 0.029961,
     "end_time": "2022-06-30T14:23:26.521859",
     "exception": false,
     "start_time": "2022-06-30T14:23:26.491898",
     "status": "completed"
    },
    "tags": []
   },
   "outputs": [
    {
     "data": {
      "text/plain": [
       "(266, 66)"
      ]
     },
     "execution_count": 6,
     "metadata": {},
     "output_type": "execute_result"
    }
   ],
   "source": [
    "# Checking the number of rows and columns in the dataset\n",
    "\n",
    "df_co2.shape"
   ]
  },
  {
   "cell_type": "code",
   "execution_count": 7,
   "id": "2c9cb2fb",
   "metadata": {
    "execution": {
     "iopub.execute_input": "2022-06-30T14:23:26.561236Z",
     "iopub.status.busy": "2022-06-30T14:23:26.560825Z",
     "iopub.status.idle": "2022-06-30T14:23:26.591731Z",
     "shell.execute_reply": "2022-06-30T14:23:26.590652Z"
    },
    "id": "7cdf9ea8",
    "outputId": "4331f24e-f4d1-4ffd-e373-a4a8d1da259c",
    "papermill": {
     "duration": 0.053132,
     "end_time": "2022-06-30T14:23:26.593915",
     "exception": false,
     "start_time": "2022-06-30T14:23:26.540783",
     "status": "completed"
    },
    "tags": []
   },
   "outputs": [
    {
     "data": {
      "text/html": [
       "<div>\n",
       "<style scoped>\n",
       "    .dataframe tbody tr th:only-of-type {\n",
       "        vertical-align: middle;\n",
       "    }\n",
       "\n",
       "    .dataframe tbody tr th {\n",
       "        vertical-align: top;\n",
       "    }\n",
       "\n",
       "    .dataframe thead th {\n",
       "        text-align: right;\n",
       "    }\n",
       "</style>\n",
       "<table border=\"1\" class=\"dataframe\">\n",
       "  <thead>\n",
       "    <tr style=\"text-align: right;\">\n",
       "      <th></th>\n",
       "      <th>Country Name</th>\n",
       "      <th>Country Code</th>\n",
       "      <th>Indicator Name</th>\n",
       "      <th>Indicator Code</th>\n",
       "      <th>1960</th>\n",
       "      <th>1961</th>\n",
       "      <th>1962</th>\n",
       "      <th>1963</th>\n",
       "      <th>1964</th>\n",
       "      <th>1965</th>\n",
       "      <th>...</th>\n",
       "      <th>2012</th>\n",
       "      <th>2013</th>\n",
       "      <th>2014</th>\n",
       "      <th>2015</th>\n",
       "      <th>2016</th>\n",
       "      <th>2017</th>\n",
       "      <th>2018</th>\n",
       "      <th>2019</th>\n",
       "      <th>2020</th>\n",
       "      <th>2021</th>\n",
       "    </tr>\n",
       "  </thead>\n",
       "  <tbody>\n",
       "    <tr>\n",
       "      <th>61</th>\n",
       "      <td>Aruba</td>\n",
       "      <td>ABW</td>\n",
       "      <td>Access to electricity (% of population)</td>\n",
       "      <td>EG.ELC.ACCS.ZS</td>\n",
       "      <td>NaN</td>\n",
       "      <td>NaN</td>\n",
       "      <td>NaN</td>\n",
       "      <td>NaN</td>\n",
       "      <td>NaN</td>\n",
       "      <td>NaN</td>\n",
       "      <td>...</td>\n",
       "      <td>100.000000</td>\n",
       "      <td>100.000000</td>\n",
       "      <td>100.000000</td>\n",
       "      <td>100.000000</td>\n",
       "      <td>100.000000</td>\n",
       "      <td>100.000000</td>\n",
       "      <td>100.000000</td>\n",
       "      <td>100.000000</td>\n",
       "      <td>100.000000</td>\n",
       "      <td>NaN</td>\n",
       "    </tr>\n",
       "    <tr>\n",
       "      <th>137</th>\n",
       "      <td>Africa Eastern and Southern</td>\n",
       "      <td>AFE</td>\n",
       "      <td>Access to electricity (% of population)</td>\n",
       "      <td>EG.ELC.ACCS.ZS</td>\n",
       "      <td>NaN</td>\n",
       "      <td>NaN</td>\n",
       "      <td>NaN</td>\n",
       "      <td>NaN</td>\n",
       "      <td>NaN</td>\n",
       "      <td>NaN</td>\n",
       "      <td>...</td>\n",
       "      <td>31.844384</td>\n",
       "      <td>31.794160</td>\n",
       "      <td>32.001027</td>\n",
       "      <td>33.871910</td>\n",
       "      <td>38.880173</td>\n",
       "      <td>40.261358</td>\n",
       "      <td>43.061877</td>\n",
       "      <td>44.270860</td>\n",
       "      <td>45.803485</td>\n",
       "      <td>NaN</td>\n",
       "    </tr>\n",
       "    <tr>\n",
       "      <th>213</th>\n",
       "      <td>Afghanistan</td>\n",
       "      <td>AFG</td>\n",
       "      <td>Access to electricity (% of population)</td>\n",
       "      <td>EG.ELC.ACCS.ZS</td>\n",
       "      <td>NaN</td>\n",
       "      <td>NaN</td>\n",
       "      <td>NaN</td>\n",
       "      <td>NaN</td>\n",
       "      <td>NaN</td>\n",
       "      <td>NaN</td>\n",
       "      <td>...</td>\n",
       "      <td>69.099998</td>\n",
       "      <td>68.290649</td>\n",
       "      <td>89.500000</td>\n",
       "      <td>71.500000</td>\n",
       "      <td>97.699997</td>\n",
       "      <td>97.699997</td>\n",
       "      <td>96.616135</td>\n",
       "      <td>97.699997</td>\n",
       "      <td>97.699997</td>\n",
       "      <td>NaN</td>\n",
       "    </tr>\n",
       "    <tr>\n",
       "      <th>289</th>\n",
       "      <td>Africa Western and Central</td>\n",
       "      <td>AFW</td>\n",
       "      <td>Access to electricity (% of population)</td>\n",
       "      <td>EG.ELC.ACCS.ZS</td>\n",
       "      <td>NaN</td>\n",
       "      <td>NaN</td>\n",
       "      <td>NaN</td>\n",
       "      <td>NaN</td>\n",
       "      <td>NaN</td>\n",
       "      <td>NaN</td>\n",
       "      <td>...</td>\n",
       "      <td>44.167973</td>\n",
       "      <td>47.048316</td>\n",
       "      <td>47.599323</td>\n",
       "      <td>46.766294</td>\n",
       "      <td>50.953487</td>\n",
       "      <td>48.861191</td>\n",
       "      <td>51.259712</td>\n",
       "      <td>51.290193</td>\n",
       "      <td>52.111601</td>\n",
       "      <td>NaN</td>\n",
       "    </tr>\n",
       "    <tr>\n",
       "      <th>365</th>\n",
       "      <td>Angola</td>\n",
       "      <td>AGO</td>\n",
       "      <td>Access to electricity (% of population)</td>\n",
       "      <td>EG.ELC.ACCS.ZS</td>\n",
       "      <td>NaN</td>\n",
       "      <td>NaN</td>\n",
       "      <td>NaN</td>\n",
       "      <td>NaN</td>\n",
       "      <td>NaN</td>\n",
       "      <td>NaN</td>\n",
       "      <td>...</td>\n",
       "      <td>37.131321</td>\n",
       "      <td>38.278030</td>\n",
       "      <td>32.000000</td>\n",
       "      <td>42.000000</td>\n",
       "      <td>41.813129</td>\n",
       "      <td>43.013260</td>\n",
       "      <td>45.290001</td>\n",
       "      <td>45.642799</td>\n",
       "      <td>46.890610</td>\n",
       "      <td>NaN</td>\n",
       "    </tr>\n",
       "  </tbody>\n",
       "</table>\n",
       "<p>5 rows × 66 columns</p>\n",
       "</div>"
      ],
      "text/plain": [
       "                    Country Name Country Code  \\\n",
       "61                         Aruba          ABW   \n",
       "137  Africa Eastern and Southern          AFE   \n",
       "213                  Afghanistan          AFG   \n",
       "289   Africa Western and Central          AFW   \n",
       "365                       Angola          AGO   \n",
       "\n",
       "                              Indicator Name  Indicator Code  1960  1961  \\\n",
       "61   Access to electricity (% of population)  EG.ELC.ACCS.ZS   NaN   NaN   \n",
       "137  Access to electricity (% of population)  EG.ELC.ACCS.ZS   NaN   NaN   \n",
       "213  Access to electricity (% of population)  EG.ELC.ACCS.ZS   NaN   NaN   \n",
       "289  Access to electricity (% of population)  EG.ELC.ACCS.ZS   NaN   NaN   \n",
       "365  Access to electricity (% of population)  EG.ELC.ACCS.ZS   NaN   NaN   \n",
       "\n",
       "     1962  1963  1964  1965  ...        2012        2013        2014  \\\n",
       "61    NaN   NaN   NaN   NaN  ...  100.000000  100.000000  100.000000   \n",
       "137   NaN   NaN   NaN   NaN  ...   31.844384   31.794160   32.001027   \n",
       "213   NaN   NaN   NaN   NaN  ...   69.099998   68.290649   89.500000   \n",
       "289   NaN   NaN   NaN   NaN  ...   44.167973   47.048316   47.599323   \n",
       "365   NaN   NaN   NaN   NaN  ...   37.131321   38.278030   32.000000   \n",
       "\n",
       "           2015        2016        2017        2018        2019        2020  \\\n",
       "61   100.000000  100.000000  100.000000  100.000000  100.000000  100.000000   \n",
       "137   33.871910   38.880173   40.261358   43.061877   44.270860   45.803485   \n",
       "213   71.500000   97.699997   97.699997   96.616135   97.699997   97.699997   \n",
       "289   46.766294   50.953487   48.861191   51.259712   51.290193   52.111601   \n",
       "365   42.000000   41.813129   43.013260   45.290001   45.642799   46.890610   \n",
       "\n",
       "     2021  \n",
       "61    NaN  \n",
       "137   NaN  \n",
       "213   NaN  \n",
       "289   NaN  \n",
       "365   NaN  \n",
       "\n",
       "[5 rows x 66 columns]"
      ]
     },
     "execution_count": 7,
     "metadata": {},
     "output_type": "execute_result"
    }
   ],
   "source": [
    "# Ectract annual population growth records\n",
    "\n",
    "df_elec = df[df['Indicator Name']=='Access to electricity (% of population)']\n",
    "df_elec.head()"
   ]
  },
  {
   "cell_type": "code",
   "execution_count": 8,
   "id": "5bcd9e65",
   "metadata": {
    "execution": {
     "iopub.execute_input": "2022-06-30T14:23:26.633833Z",
     "iopub.status.busy": "2022-06-30T14:23:26.633416Z",
     "iopub.status.idle": "2022-06-30T14:23:26.639915Z",
     "shell.execute_reply": "2022-06-30T14:23:26.639041Z"
    },
    "id": "xU_X4POdM2ml",
    "outputId": "10753c3b-3c09-4676-8623-73f5edacb048",
    "papermill": {
     "duration": 0.029082,
     "end_time": "2022-06-30T14:23:26.642085",
     "exception": false,
     "start_time": "2022-06-30T14:23:26.613003",
     "status": "completed"
    },
    "tags": []
   },
   "outputs": [
    {
     "data": {
      "text/plain": [
       "(266, 66)"
      ]
     },
     "execution_count": 8,
     "metadata": {},
     "output_type": "execute_result"
    }
   ],
   "source": [
    "# Checking the number of rows and columns in the dataset\n",
    "\n",
    "df_elec.shape"
   ]
  },
  {
   "cell_type": "code",
   "execution_count": 9,
   "id": "41e626a4",
   "metadata": {
    "execution": {
     "iopub.execute_input": "2022-06-30T14:23:26.682959Z",
     "iopub.status.busy": "2022-06-30T14:23:26.682580Z",
     "iopub.status.idle": "2022-06-30T14:23:26.706330Z",
     "shell.execute_reply": "2022-06-30T14:23:26.705579Z"
    },
    "id": "6e91e17f",
    "outputId": "a969805a-33ce-4396-8c71-7b7f4d8d0a02",
    "papermill": {
     "duration": 0.04701,
     "end_time": "2022-06-30T14:23:26.708462",
     "exception": false,
     "start_time": "2022-06-30T14:23:26.661452",
     "status": "completed"
    },
    "tags": []
   },
   "outputs": [
    {
     "data": {
      "text/html": [
       "<div>\n",
       "<style scoped>\n",
       "    .dataframe tbody tr th:only-of-type {\n",
       "        vertical-align: middle;\n",
       "    }\n",
       "\n",
       "    .dataframe tbody tr th {\n",
       "        vertical-align: top;\n",
       "    }\n",
       "\n",
       "    .dataframe thead th {\n",
       "        text-align: right;\n",
       "    }\n",
       "</style>\n",
       "<table border=\"1\" class=\"dataframe\">\n",
       "  <thead>\n",
       "    <tr style=\"text-align: right;\">\n",
       "      <th></th>\n",
       "      <th>name</th>\n",
       "      <th>alpha-2</th>\n",
       "      <th>alpha-3</th>\n",
       "      <th>country-code</th>\n",
       "      <th>iso_3166-2</th>\n",
       "      <th>region</th>\n",
       "      <th>sub-region</th>\n",
       "      <th>intermediate-region</th>\n",
       "      <th>region-code</th>\n",
       "      <th>sub-region-code</th>\n",
       "      <th>intermediate-region-code</th>\n",
       "    </tr>\n",
       "  </thead>\n",
       "  <tbody>\n",
       "    <tr>\n",
       "      <th>0</th>\n",
       "      <td>Afghanistan</td>\n",
       "      <td>AF</td>\n",
       "      <td>AFG</td>\n",
       "      <td>4</td>\n",
       "      <td>ISO 3166-2:AF</td>\n",
       "      <td>Asia</td>\n",
       "      <td>Southern Asia</td>\n",
       "      <td>NaN</td>\n",
       "      <td>142.0</td>\n",
       "      <td>34.0</td>\n",
       "      <td>NaN</td>\n",
       "    </tr>\n",
       "    <tr>\n",
       "      <th>1</th>\n",
       "      <td>Åland Islands</td>\n",
       "      <td>AX</td>\n",
       "      <td>ALA</td>\n",
       "      <td>248</td>\n",
       "      <td>ISO 3166-2:AX</td>\n",
       "      <td>Europe</td>\n",
       "      <td>Northern Europe</td>\n",
       "      <td>NaN</td>\n",
       "      <td>150.0</td>\n",
       "      <td>154.0</td>\n",
       "      <td>NaN</td>\n",
       "    </tr>\n",
       "    <tr>\n",
       "      <th>2</th>\n",
       "      <td>Albania</td>\n",
       "      <td>AL</td>\n",
       "      <td>ALB</td>\n",
       "      <td>8</td>\n",
       "      <td>ISO 3166-2:AL</td>\n",
       "      <td>Europe</td>\n",
       "      <td>Southern Europe</td>\n",
       "      <td>NaN</td>\n",
       "      <td>150.0</td>\n",
       "      <td>39.0</td>\n",
       "      <td>NaN</td>\n",
       "    </tr>\n",
       "    <tr>\n",
       "      <th>3</th>\n",
       "      <td>Algeria</td>\n",
       "      <td>DZ</td>\n",
       "      <td>DZA</td>\n",
       "      <td>12</td>\n",
       "      <td>ISO 3166-2:DZ</td>\n",
       "      <td>Africa</td>\n",
       "      <td>Northern Africa</td>\n",
       "      <td>NaN</td>\n",
       "      <td>2.0</td>\n",
       "      <td>15.0</td>\n",
       "      <td>NaN</td>\n",
       "    </tr>\n",
       "    <tr>\n",
       "      <th>4</th>\n",
       "      <td>American Samoa</td>\n",
       "      <td>AS</td>\n",
       "      <td>ASM</td>\n",
       "      <td>16</td>\n",
       "      <td>ISO 3166-2:AS</td>\n",
       "      <td>Oceania</td>\n",
       "      <td>Polynesia</td>\n",
       "      <td>NaN</td>\n",
       "      <td>9.0</td>\n",
       "      <td>61.0</td>\n",
       "      <td>NaN</td>\n",
       "    </tr>\n",
       "  </tbody>\n",
       "</table>\n",
       "</div>"
      ],
      "text/plain": [
       "             name alpha-2 alpha-3  country-code     iso_3166-2   region  \\\n",
       "0     Afghanistan      AF     AFG             4  ISO 3166-2:AF     Asia   \n",
       "1   Åland Islands      AX     ALA           248  ISO 3166-2:AX   Europe   \n",
       "2         Albania      AL     ALB             8  ISO 3166-2:AL   Europe   \n",
       "3         Algeria      DZ     DZA            12  ISO 3166-2:DZ   Africa   \n",
       "4  American Samoa      AS     ASM            16  ISO 3166-2:AS  Oceania   \n",
       "\n",
       "        sub-region intermediate-region  region-code  sub-region-code  \\\n",
       "0    Southern Asia                 NaN        142.0             34.0   \n",
       "1  Northern Europe                 NaN        150.0            154.0   \n",
       "2  Southern Europe                 NaN        150.0             39.0   \n",
       "3  Northern Africa                 NaN          2.0             15.0   \n",
       "4        Polynesia                 NaN          9.0             61.0   \n",
       "\n",
       "   intermediate-region-code  \n",
       "0                       NaN  \n",
       "1                       NaN  \n",
       "2                       NaN  \n",
       "3                       NaN  \n",
       "4                       NaN  "
      ]
     },
     "execution_count": 9,
     "metadata": {},
     "output_type": "execute_result"
    }
   ],
   "source": [
    "# Read in the dataset containing countries\n",
    "\n",
    "countries = pd.read_csv('../input/all-countries-yemsquare/all_countries_yemsquare.csv')\n",
    "countries.head()"
   ]
  },
  {
   "cell_type": "code",
   "execution_count": 10,
   "id": "c49c2569",
   "metadata": {
    "execution": {
     "iopub.execute_input": "2022-06-30T14:23:26.750480Z",
     "iopub.status.busy": "2022-06-30T14:23:26.749836Z",
     "iopub.status.idle": "2022-06-30T14:23:26.764484Z",
     "shell.execute_reply": "2022-06-30T14:23:26.763287Z"
    },
    "id": "9d2bf8b5",
    "outputId": "320f8af8-4e64-46cc-aaa4-7261f5334dc0",
    "papermill": {
     "duration": 0.039101,
     "end_time": "2022-06-30T14:23:26.767097",
     "exception": false,
     "start_time": "2022-06-30T14:23:26.727996",
     "status": "completed"
    },
    "tags": []
   },
   "outputs": [
    {
     "data": {
      "text/html": [
       "<div>\n",
       "<style scoped>\n",
       "    .dataframe tbody tr th:only-of-type {\n",
       "        vertical-align: middle;\n",
       "    }\n",
       "\n",
       "    .dataframe tbody tr th {\n",
       "        vertical-align: top;\n",
       "    }\n",
       "\n",
       "    .dataframe thead th {\n",
       "        text-align: right;\n",
       "    }\n",
       "</style>\n",
       "<table border=\"1\" class=\"dataframe\">\n",
       "  <thead>\n",
       "    <tr style=\"text-align: right;\">\n",
       "      <th></th>\n",
       "      <th>Country Name</th>\n",
       "      <th>Country Code</th>\n",
       "      <th>Region</th>\n",
       "      <th>Sub-Region</th>\n",
       "    </tr>\n",
       "  </thead>\n",
       "  <tbody>\n",
       "    <tr>\n",
       "      <th>0</th>\n",
       "      <td>Afghanistan</td>\n",
       "      <td>AFG</td>\n",
       "      <td>Asia</td>\n",
       "      <td>Southern Asia</td>\n",
       "    </tr>\n",
       "    <tr>\n",
       "      <th>1</th>\n",
       "      <td>Åland Islands</td>\n",
       "      <td>ALA</td>\n",
       "      <td>Europe</td>\n",
       "      <td>Northern Europe</td>\n",
       "    </tr>\n",
       "    <tr>\n",
       "      <th>2</th>\n",
       "      <td>Albania</td>\n",
       "      <td>ALB</td>\n",
       "      <td>Europe</td>\n",
       "      <td>Southern Europe</td>\n",
       "    </tr>\n",
       "    <tr>\n",
       "      <th>3</th>\n",
       "      <td>Algeria</td>\n",
       "      <td>DZA</td>\n",
       "      <td>Africa</td>\n",
       "      <td>Northern Africa</td>\n",
       "    </tr>\n",
       "    <tr>\n",
       "      <th>4</th>\n",
       "      <td>American Samoa</td>\n",
       "      <td>ASM</td>\n",
       "      <td>Oceania</td>\n",
       "      <td>Polynesia</td>\n",
       "    </tr>\n",
       "  </tbody>\n",
       "</table>\n",
       "</div>"
      ],
      "text/plain": [
       "     Country Name Country Code   Region       Sub-Region\n",
       "0     Afghanistan          AFG     Asia    Southern Asia\n",
       "1   Åland Islands          ALA   Europe  Northern Europe\n",
       "2         Albania          ALB   Europe  Southern Europe\n",
       "3         Algeria          DZA   Africa  Northern Africa\n",
       "4  American Samoa          ASM  Oceania        Polynesia"
      ]
     },
     "execution_count": 10,
     "metadata": {},
     "output_type": "execute_result"
    }
   ],
   "source": [
    "# Rename and select neccessary columns\n",
    "\n",
    "countries = countries.rename(columns={'name':'Country Name', 'alpha-3':'Country Code', 'region':'Region', 'sub-region':'Sub-Region'}, inplace=False)\n",
    "countries = countries[['Country Name', 'Country Code', 'Region', 'Sub-Region']]\n",
    "countries.head()"
   ]
  },
  {
   "cell_type": "code",
   "execution_count": 11,
   "id": "5ec3d33a",
   "metadata": {
    "execution": {
     "iopub.execute_input": "2022-06-30T14:23:26.809144Z",
     "iopub.status.busy": "2022-06-30T14:23:26.808737Z",
     "iopub.status.idle": "2022-06-30T14:23:26.848270Z",
     "shell.execute_reply": "2022-06-30T14:23:26.847296Z"
    },
    "id": "ca829a19",
    "outputId": "26c71564-c50b-457d-ee29-c28398a5490d",
    "papermill": {
     "duration": 0.063559,
     "end_time": "2022-06-30T14:23:26.850931",
     "exception": false,
     "start_time": "2022-06-30T14:23:26.787372",
     "status": "completed"
    },
    "tags": []
   },
   "outputs": [
    {
     "data": {
      "text/html": [
       "<div>\n",
       "<style scoped>\n",
       "    .dataframe tbody tr th:only-of-type {\n",
       "        vertical-align: middle;\n",
       "    }\n",
       "\n",
       "    .dataframe tbody tr th {\n",
       "        vertical-align: top;\n",
       "    }\n",
       "\n",
       "    .dataframe thead th {\n",
       "        text-align: right;\n",
       "    }\n",
       "</style>\n",
       "<table border=\"1\" class=\"dataframe\">\n",
       "  <thead>\n",
       "    <tr style=\"text-align: right;\">\n",
       "      <th></th>\n",
       "      <th>Country Name</th>\n",
       "      <th>Country Code</th>\n",
       "      <th>Region</th>\n",
       "      <th>Sub-Region</th>\n",
       "      <th>Indicator Name</th>\n",
       "      <th>Indicator Code</th>\n",
       "      <th>1960</th>\n",
       "      <th>1961</th>\n",
       "      <th>1962</th>\n",
       "      <th>1963</th>\n",
       "      <th>...</th>\n",
       "      <th>2012</th>\n",
       "      <th>2013</th>\n",
       "      <th>2014</th>\n",
       "      <th>2015</th>\n",
       "      <th>2016</th>\n",
       "      <th>2017</th>\n",
       "      <th>2018</th>\n",
       "      <th>2019</th>\n",
       "      <th>2020</th>\n",
       "      <th>2021</th>\n",
       "    </tr>\n",
       "  </thead>\n",
       "  <tbody>\n",
       "    <tr>\n",
       "      <th>0</th>\n",
       "      <td>Afghanistan</td>\n",
       "      <td>AFG</td>\n",
       "      <td>Asia</td>\n",
       "      <td>Southern Asia</td>\n",
       "      <td>CO2 emissions from solid fuel consumption (% o...</td>\n",
       "      <td>EN.ATM.CO2E.SF.ZS</td>\n",
       "      <td>30.973451</td>\n",
       "      <td>35.820896</td>\n",
       "      <td>43.085106</td>\n",
       "      <td>37.305699</td>\n",
       "      <td>...</td>\n",
       "      <td>35.090909</td>\n",
       "      <td>46.322268</td>\n",
       "      <td>56.061434</td>\n",
       "      <td>49.750038</td>\n",
       "      <td>65.351001</td>\n",
       "      <td>NaN</td>\n",
       "      <td>NaN</td>\n",
       "      <td>NaN</td>\n",
       "      <td>NaN</td>\n",
       "      <td>NaN</td>\n",
       "    </tr>\n",
       "    <tr>\n",
       "      <th>1</th>\n",
       "      <td>Albania</td>\n",
       "      <td>ALB</td>\n",
       "      <td>Europe</td>\n",
       "      <td>Southern Europe</td>\n",
       "      <td>CO2 emissions from solid fuel consumption (% o...</td>\n",
       "      <td>EN.ATM.CO2E.SF.ZS</td>\n",
       "      <td>16.123188</td>\n",
       "      <td>14.147910</td>\n",
       "      <td>14.732143</td>\n",
       "      <td>13.556338</td>\n",
       "      <td>...</td>\n",
       "      <td>13.691201</td>\n",
       "      <td>11.483299</td>\n",
       "      <td>13.417567</td>\n",
       "      <td>4.484300</td>\n",
       "      <td>0.297525</td>\n",
       "      <td>NaN</td>\n",
       "      <td>NaN</td>\n",
       "      <td>NaN</td>\n",
       "      <td>NaN</td>\n",
       "      <td>NaN</td>\n",
       "    </tr>\n",
       "    <tr>\n",
       "      <th>2</th>\n",
       "      <td>Algeria</td>\n",
       "      <td>DZA</td>\n",
       "      <td>Africa</td>\n",
       "      <td>Northern Africa</td>\n",
       "      <td>CO2 emissions from solid fuel consumption (% o...</td>\n",
       "      <td>EN.ATM.CO2E.SF.ZS</td>\n",
       "      <td>20.416667</td>\n",
       "      <td>12.636034</td>\n",
       "      <td>7.179819</td>\n",
       "      <td>4.662162</td>\n",
       "      <td>...</td>\n",
       "      <td>0.819458</td>\n",
       "      <td>0.558899</td>\n",
       "      <td>0.393619</td>\n",
       "      <td>0.344166</td>\n",
       "      <td>0.000000</td>\n",
       "      <td>NaN</td>\n",
       "      <td>NaN</td>\n",
       "      <td>NaN</td>\n",
       "      <td>NaN</td>\n",
       "      <td>NaN</td>\n",
       "    </tr>\n",
       "    <tr>\n",
       "      <th>3</th>\n",
       "      <td>American Samoa</td>\n",
       "      <td>ASM</td>\n",
       "      <td>Oceania</td>\n",
       "      <td>Polynesia</td>\n",
       "      <td>CO2 emissions from solid fuel consumption (% o...</td>\n",
       "      <td>EN.ATM.CO2E.SF.ZS</td>\n",
       "      <td>NaN</td>\n",
       "      <td>NaN</td>\n",
       "      <td>NaN</td>\n",
       "      <td>NaN</td>\n",
       "      <td>...</td>\n",
       "      <td>NaN</td>\n",
       "      <td>NaN</td>\n",
       "      <td>NaN</td>\n",
       "      <td>NaN</td>\n",
       "      <td>NaN</td>\n",
       "      <td>NaN</td>\n",
       "      <td>NaN</td>\n",
       "      <td>NaN</td>\n",
       "      <td>NaN</td>\n",
       "      <td>NaN</td>\n",
       "    </tr>\n",
       "    <tr>\n",
       "      <th>4</th>\n",
       "      <td>Andorra</td>\n",
       "      <td>AND</td>\n",
       "      <td>Europe</td>\n",
       "      <td>Southern Europe</td>\n",
       "      <td>CO2 emissions from solid fuel consumption (% o...</td>\n",
       "      <td>EN.ATM.CO2E.SF.ZS</td>\n",
       "      <td>NaN</td>\n",
       "      <td>NaN</td>\n",
       "      <td>NaN</td>\n",
       "      <td>NaN</td>\n",
       "      <td>...</td>\n",
       "      <td>0.000000</td>\n",
       "      <td>0.000000</td>\n",
       "      <td>0.000000</td>\n",
       "      <td>0.000000</td>\n",
       "      <td>0.000000</td>\n",
       "      <td>NaN</td>\n",
       "      <td>NaN</td>\n",
       "      <td>NaN</td>\n",
       "      <td>NaN</td>\n",
       "      <td>NaN</td>\n",
       "    </tr>\n",
       "  </tbody>\n",
       "</table>\n",
       "<p>5 rows × 68 columns</p>\n",
       "</div>"
      ],
      "text/plain": [
       "     Country Name Country Code   Region       Sub-Region  \\\n",
       "0     Afghanistan          AFG     Asia    Southern Asia   \n",
       "1         Albania          ALB   Europe  Southern Europe   \n",
       "2         Algeria          DZA   Africa  Northern Africa   \n",
       "3  American Samoa          ASM  Oceania        Polynesia   \n",
       "4         Andorra          AND   Europe  Southern Europe   \n",
       "\n",
       "                                      Indicator Name     Indicator Code  \\\n",
       "0  CO2 emissions from solid fuel consumption (% o...  EN.ATM.CO2E.SF.ZS   \n",
       "1  CO2 emissions from solid fuel consumption (% o...  EN.ATM.CO2E.SF.ZS   \n",
       "2  CO2 emissions from solid fuel consumption (% o...  EN.ATM.CO2E.SF.ZS   \n",
       "3  CO2 emissions from solid fuel consumption (% o...  EN.ATM.CO2E.SF.ZS   \n",
       "4  CO2 emissions from solid fuel consumption (% o...  EN.ATM.CO2E.SF.ZS   \n",
       "\n",
       "        1960       1961       1962       1963  ...       2012       2013  \\\n",
       "0  30.973451  35.820896  43.085106  37.305699  ...  35.090909  46.322268   \n",
       "1  16.123188  14.147910  14.732143  13.556338  ...  13.691201  11.483299   \n",
       "2  20.416667  12.636034   7.179819   4.662162  ...   0.819458   0.558899   \n",
       "3        NaN        NaN        NaN        NaN  ...        NaN        NaN   \n",
       "4        NaN        NaN        NaN        NaN  ...   0.000000   0.000000   \n",
       "\n",
       "        2014       2015       2016  2017  2018  2019  2020  2021  \n",
       "0  56.061434  49.750038  65.351001   NaN   NaN   NaN   NaN   NaN  \n",
       "1  13.417567   4.484300   0.297525   NaN   NaN   NaN   NaN   NaN  \n",
       "2   0.393619   0.344166   0.000000   NaN   NaN   NaN   NaN   NaN  \n",
       "3        NaN        NaN        NaN   NaN   NaN   NaN   NaN   NaN  \n",
       "4   0.000000   0.000000   0.000000   NaN   NaN   NaN   NaN   NaN  \n",
       "\n",
       "[5 rows x 68 columns]"
      ]
     },
     "execution_count": 11,
     "metadata": {},
     "output_type": "execute_result"
    }
   ],
   "source": [
    "# Merge datasets\n",
    "df_marge1 = countries.merge(df_co2, on = ['Country Name', 'Country Code'])\n",
    "df_marge2 = countries.merge(df_elec, on=['Country Name', 'Country Code'])\n",
    "df_marge1.head()"
   ]
  },
  {
   "cell_type": "code",
   "execution_count": 12,
   "id": "8664b2d2",
   "metadata": {
    "execution": {
     "iopub.execute_input": "2022-06-30T14:23:26.894240Z",
     "iopub.status.busy": "2022-06-30T14:23:26.893426Z",
     "iopub.status.idle": "2022-06-30T14:23:26.919014Z",
     "shell.execute_reply": "2022-06-30T14:23:26.917810Z"
    },
    "id": "c46a9510",
    "outputId": "b602684b-20cb-4f4c-ff12-858b746ad576",
    "papermill": {
     "duration": 0.049599,
     "end_time": "2022-06-30T14:23:26.921486",
     "exception": false,
     "start_time": "2022-06-30T14:23:26.871887",
     "status": "completed"
    },
    "tags": []
   },
   "outputs": [
    {
     "data": {
      "text/html": [
       "<div>\n",
       "<style scoped>\n",
       "    .dataframe tbody tr th:only-of-type {\n",
       "        vertical-align: middle;\n",
       "    }\n",
       "\n",
       "    .dataframe tbody tr th {\n",
       "        vertical-align: top;\n",
       "    }\n",
       "\n",
       "    .dataframe thead th {\n",
       "        text-align: right;\n",
       "    }\n",
       "</style>\n",
       "<table border=\"1\" class=\"dataframe\">\n",
       "  <thead>\n",
       "    <tr style=\"text-align: right;\">\n",
       "      <th></th>\n",
       "      <th>Country Name</th>\n",
       "      <th>Country Code</th>\n",
       "      <th>Region</th>\n",
       "      <th>Sub-Region</th>\n",
       "      <th>Indicator Name</th>\n",
       "      <th>Indicator Code</th>\n",
       "      <th>1960</th>\n",
       "      <th>1961</th>\n",
       "      <th>1962</th>\n",
       "      <th>1963</th>\n",
       "      <th>...</th>\n",
       "      <th>2012</th>\n",
       "      <th>2013</th>\n",
       "      <th>2014</th>\n",
       "      <th>2015</th>\n",
       "      <th>2016</th>\n",
       "      <th>2017</th>\n",
       "      <th>2018</th>\n",
       "      <th>2019</th>\n",
       "      <th>2020</th>\n",
       "      <th>2021</th>\n",
       "    </tr>\n",
       "  </thead>\n",
       "  <tbody>\n",
       "    <tr>\n",
       "      <th>0</th>\n",
       "      <td>Afghanistan</td>\n",
       "      <td>AFG</td>\n",
       "      <td>Asia</td>\n",
       "      <td>Southern Asia</td>\n",
       "      <td>Access to electricity (% of population)</td>\n",
       "      <td>EG.ELC.ACCS.ZS</td>\n",
       "      <td>NaN</td>\n",
       "      <td>NaN</td>\n",
       "      <td>NaN</td>\n",
       "      <td>NaN</td>\n",
       "      <td>...</td>\n",
       "      <td>69.099998</td>\n",
       "      <td>68.290649</td>\n",
       "      <td>89.500000</td>\n",
       "      <td>71.500000</td>\n",
       "      <td>97.699997</td>\n",
       "      <td>97.699997</td>\n",
       "      <td>96.616135</td>\n",
       "      <td>97.699997</td>\n",
       "      <td>97.699997</td>\n",
       "      <td>NaN</td>\n",
       "    </tr>\n",
       "    <tr>\n",
       "      <th>1</th>\n",
       "      <td>Albania</td>\n",
       "      <td>ALB</td>\n",
       "      <td>Europe</td>\n",
       "      <td>Southern Europe</td>\n",
       "      <td>Access to electricity (% of population)</td>\n",
       "      <td>EG.ELC.ACCS.ZS</td>\n",
       "      <td>NaN</td>\n",
       "      <td>NaN</td>\n",
       "      <td>NaN</td>\n",
       "      <td>NaN</td>\n",
       "      <td>...</td>\n",
       "      <td>99.900002</td>\n",
       "      <td>100.000000</td>\n",
       "      <td>99.949997</td>\n",
       "      <td>99.980003</td>\n",
       "      <td>99.889999</td>\n",
       "      <td>99.889999</td>\n",
       "      <td>100.000000</td>\n",
       "      <td>100.000000</td>\n",
       "      <td>100.000000</td>\n",
       "      <td>NaN</td>\n",
       "    </tr>\n",
       "    <tr>\n",
       "      <th>2</th>\n",
       "      <td>Algeria</td>\n",
       "      <td>DZA</td>\n",
       "      <td>Africa</td>\n",
       "      <td>Northern Africa</td>\n",
       "      <td>Access to electricity (% of population)</td>\n",
       "      <td>EG.ELC.ACCS.ZS</td>\n",
       "      <td>NaN</td>\n",
       "      <td>NaN</td>\n",
       "      <td>NaN</td>\n",
       "      <td>NaN</td>\n",
       "      <td>...</td>\n",
       "      <td>98.764664</td>\n",
       "      <td>99.002205</td>\n",
       "      <td>99.087013</td>\n",
       "      <td>99.186661</td>\n",
       "      <td>99.350250</td>\n",
       "      <td>99.635490</td>\n",
       "      <td>99.697838</td>\n",
       "      <td>99.500000</td>\n",
       "      <td>99.804131</td>\n",
       "      <td>NaN</td>\n",
       "    </tr>\n",
       "    <tr>\n",
       "      <th>3</th>\n",
       "      <td>American Samoa</td>\n",
       "      <td>ASM</td>\n",
       "      <td>Oceania</td>\n",
       "      <td>Polynesia</td>\n",
       "      <td>Access to electricity (% of population)</td>\n",
       "      <td>EG.ELC.ACCS.ZS</td>\n",
       "      <td>NaN</td>\n",
       "      <td>NaN</td>\n",
       "      <td>NaN</td>\n",
       "      <td>NaN</td>\n",
       "      <td>...</td>\n",
       "      <td>NaN</td>\n",
       "      <td>NaN</td>\n",
       "      <td>NaN</td>\n",
       "      <td>NaN</td>\n",
       "      <td>NaN</td>\n",
       "      <td>NaN</td>\n",
       "      <td>NaN</td>\n",
       "      <td>NaN</td>\n",
       "      <td>NaN</td>\n",
       "      <td>NaN</td>\n",
       "    </tr>\n",
       "    <tr>\n",
       "      <th>4</th>\n",
       "      <td>Andorra</td>\n",
       "      <td>AND</td>\n",
       "      <td>Europe</td>\n",
       "      <td>Southern Europe</td>\n",
       "      <td>Access to electricity (% of population)</td>\n",
       "      <td>EG.ELC.ACCS.ZS</td>\n",
       "      <td>NaN</td>\n",
       "      <td>NaN</td>\n",
       "      <td>NaN</td>\n",
       "      <td>NaN</td>\n",
       "      <td>...</td>\n",
       "      <td>100.000000</td>\n",
       "      <td>100.000000</td>\n",
       "      <td>100.000000</td>\n",
       "      <td>100.000000</td>\n",
       "      <td>100.000000</td>\n",
       "      <td>100.000000</td>\n",
       "      <td>100.000000</td>\n",
       "      <td>100.000000</td>\n",
       "      <td>100.000000</td>\n",
       "      <td>NaN</td>\n",
       "    </tr>\n",
       "  </tbody>\n",
       "</table>\n",
       "<p>5 rows × 68 columns</p>\n",
       "</div>"
      ],
      "text/plain": [
       "     Country Name Country Code   Region       Sub-Region  \\\n",
       "0     Afghanistan          AFG     Asia    Southern Asia   \n",
       "1         Albania          ALB   Europe  Southern Europe   \n",
       "2         Algeria          DZA   Africa  Northern Africa   \n",
       "3  American Samoa          ASM  Oceania        Polynesia   \n",
       "4         Andorra          AND   Europe  Southern Europe   \n",
       "\n",
       "                            Indicator Name  Indicator Code  1960  1961  1962  \\\n",
       "0  Access to electricity (% of population)  EG.ELC.ACCS.ZS   NaN   NaN   NaN   \n",
       "1  Access to electricity (% of population)  EG.ELC.ACCS.ZS   NaN   NaN   NaN   \n",
       "2  Access to electricity (% of population)  EG.ELC.ACCS.ZS   NaN   NaN   NaN   \n",
       "3  Access to electricity (% of population)  EG.ELC.ACCS.ZS   NaN   NaN   NaN   \n",
       "4  Access to electricity (% of population)  EG.ELC.ACCS.ZS   NaN   NaN   NaN   \n",
       "\n",
       "   1963  ...        2012        2013        2014        2015        2016  \\\n",
       "0   NaN  ...   69.099998   68.290649   89.500000   71.500000   97.699997   \n",
       "1   NaN  ...   99.900002  100.000000   99.949997   99.980003   99.889999   \n",
       "2   NaN  ...   98.764664   99.002205   99.087013   99.186661   99.350250   \n",
       "3   NaN  ...         NaN         NaN         NaN         NaN         NaN   \n",
       "4   NaN  ...  100.000000  100.000000  100.000000  100.000000  100.000000   \n",
       "\n",
       "         2017        2018        2019        2020  2021  \n",
       "0   97.699997   96.616135   97.699997   97.699997   NaN  \n",
       "1   99.889999  100.000000  100.000000  100.000000   NaN  \n",
       "2   99.635490   99.697838   99.500000   99.804131   NaN  \n",
       "3         NaN         NaN         NaN         NaN   NaN  \n",
       "4  100.000000  100.000000  100.000000  100.000000   NaN  \n",
       "\n",
       "[5 rows x 68 columns]"
      ]
     },
     "execution_count": 12,
     "metadata": {},
     "output_type": "execute_result"
    }
   ],
   "source": [
    "# Check the dataset\n",
    "\n",
    "df_marge2.head()"
   ]
  },
  {
   "cell_type": "code",
   "execution_count": 13,
   "id": "68177bed",
   "metadata": {
    "execution": {
     "iopub.execute_input": "2022-06-30T14:23:26.965082Z",
     "iopub.status.busy": "2022-06-30T14:23:26.964000Z",
     "iopub.status.idle": "2022-06-30T14:23:26.970948Z",
     "shell.execute_reply": "2022-06-30T14:23:26.970104Z"
    },
    "id": "796319a7",
    "outputId": "ce9db188-0370-45e6-f249-448ee6ce08a0",
    "papermill": {
     "duration": 0.031087,
     "end_time": "2022-06-30T14:23:26.973130",
     "exception": false,
     "start_time": "2022-06-30T14:23:26.942043",
     "status": "completed"
    },
    "tags": []
   },
   "outputs": [
    {
     "data": {
      "text/plain": [
       "(184, 68)"
      ]
     },
     "execution_count": 13,
     "metadata": {},
     "output_type": "execute_result"
    }
   ],
   "source": [
    "# Check the number of rows and columns\n",
    "\n",
    "df_marge2.shape"
   ]
  },
  {
   "cell_type": "code",
   "execution_count": 14,
   "id": "ea32af4a",
   "metadata": {
    "execution": {
     "iopub.execute_input": "2022-06-30T14:23:27.016552Z",
     "iopub.status.busy": "2022-06-30T14:23:27.015431Z",
     "iopub.status.idle": "2022-06-30T14:23:27.135999Z",
     "shell.execute_reply": "2022-06-30T14:23:27.134306Z"
    },
    "id": "d7351ff4",
    "papermill": {
     "duration": 0.144416,
     "end_time": "2022-06-30T14:23:27.137902",
     "exception": true,
     "start_time": "2022-06-30T14:23:26.993486",
     "status": "failed"
    },
    "tags": []
   },
   "outputs": [
    {
     "ename": "NameError",
     "evalue": "name 'df_merge1' is not defined",
     "output_type": "error",
     "traceback": [
      "\u001b[0;31m---------------------------------------------------------------------------\u001b[0m",
      "\u001b[0;31mNameError\u001b[0m                                 Traceback (most recent call last)",
      "\u001b[0;32m/tmp/ipykernel_19/284895629.py\u001b[0m in \u001b[0;36m<module>\u001b[0;34m\u001b[0m\n\u001b[1;32m      1\u001b[0m \u001b[0;31m# Drop un-needed columns\u001b[0m\u001b[0;34m\u001b[0m\u001b[0;34m\u001b[0m\u001b[0;34m\u001b[0m\u001b[0m\n\u001b[0;32m----> 2\u001b[0;31m \u001b[0mdf_marge1\u001b[0m \u001b[0;34m=\u001b[0m \u001b[0mdf_merge1\u001b[0m\u001b[0;34m.\u001b[0m\u001b[0mdrop\u001b[0m\u001b[0;34m(\u001b[0m\u001b[0;34m[\u001b[0m\u001b[0;34m'Region'\u001b[0m\u001b[0;34m]\u001b[0m\u001b[0;34m,\u001b[0m \u001b[0maxis\u001b[0m \u001b[0;34m=\u001b[0m \u001b[0;36m1\u001b[0m\u001b[0;34m,\u001b[0m \u001b[0minplace\u001b[0m\u001b[0;34m=\u001b[0m\u001b[0;32mFalse\u001b[0m\u001b[0;34m)\u001b[0m\u001b[0;34m\u001b[0m\u001b[0;34m\u001b[0m\u001b[0m\n\u001b[0m\u001b[1;32m      3\u001b[0m \u001b[0;31m#df_marge1 = df_marge1.drop(['Indicator Code', 'Indicator Name'], axis=1, inplace=False)\u001b[0m\u001b[0;34m\u001b[0m\u001b[0;34m\u001b[0m\u001b[0;34m\u001b[0m\u001b[0m\n\u001b[1;32m      4\u001b[0m \u001b[0;31m#df_marge2 = df_marge2.drop(['Indicator Code', 'Indicator Name'], axis=1, inplace=False)\u001b[0m\u001b[0;34m\u001b[0m\u001b[0;34m\u001b[0m\u001b[0;34m\u001b[0m\u001b[0m\n",
      "\u001b[0;31mNameError\u001b[0m: name 'df_merge1' is not defined"
     ]
    }
   ],
   "source": [
    "# Drop un-needed columns\n",
    "df_marge1 = df_merge1.drop(['Region'], axis = 1, inplace=False)\n",
    "#df_marge1 = df_marge1.drop(['Indicator Code', 'Indicator Name'], axis=1, inplace=False)\n",
    "#df_marge2 = df_marge2.drop(['Indicator Code', 'Indicator Name'], axis=1, inplace=False)"
   ]
  },
  {
   "cell_type": "code",
   "execution_count": null,
   "id": "74b2fa75",
   "metadata": {
    "id": "03a53d61",
    "outputId": "de534860-df89-452d-9bcc-ce5e873b10e5",
    "papermill": {
     "duration": null,
     "end_time": null,
     "exception": null,
     "start_time": null,
     "status": "pending"
    },
    "tags": []
   },
   "outputs": [],
   "source": [
    "# Melt (unpivot) the dataframe\n",
    "\n",
    "dataset1 = df_marge1.melt(id_vars=['Country Name', 'Country Code', 'Region', 'Sub-Region'], var_name='Year', value_name='CO2 emissions from solid fuel consumption (% of total)')\n",
    "dataset1.head()"
   ]
  },
  {
   "cell_type": "code",
   "execution_count": null,
   "id": "31bab162",
   "metadata": {
    "id": "c00129c7",
    "outputId": "314081e1-e717-4d32-a523-e94918ae1182",
    "papermill": {
     "duration": null,
     "end_time": null,
     "exception": null,
     "start_time": null,
     "status": "pending"
    },
    "tags": []
   },
   "outputs": [],
   "source": [
    "# Melt (unpivot) the dataframe\n",
    "\n",
    "dataset2 = df_marge2.melt(id_vars=['Country Name', 'Country Code', 'Region', 'Sub-Region'], var_name='Year', value_name='Access to electricity (% of population)')\n",
    "dataset2.head()"
   ]
  },
  {
   "cell_type": "code",
   "execution_count": null,
   "id": "54c19893",
   "metadata": {
    "id": "c738a576",
    "outputId": "65a480cf-3e77-47f6-9889-b37542c3acd1",
    "papermill": {
     "duration": null,
     "end_time": null,
     "exception": null,
     "start_time": null,
     "status": "pending"
    },
    "tags": []
   },
   "outputs": [],
   "source": [
    "# Merge the dataset\n",
    "\n",
    "merged_data = dataset1.merge(dataset2, on = ['Country Name', 'Country Code', 'Region', 'Sub-Region', 'Year'])\n",
    "merged_data.head()"
   ]
  },
  {
   "cell_type": "code",
   "execution_count": null,
   "id": "f1af6225",
   "metadata": {
    "id": "ea6933a9",
    "outputId": "95e739bb-526d-4dc0-bf4f-067e0d613531",
    "papermill": {
     "duration": null,
     "end_time": null,
     "exception": null,
     "start_time": null,
     "status": "pending"
    },
    "tags": []
   },
   "outputs": [],
   "source": [
    "# Extract data from year 1990 and above\n",
    "\n",
    "new_data = merged_data[merged_data['Year']>='1990']\n",
    "new_data.head()"
   ]
  },
  {
   "cell_type": "code",
   "execution_count": null,
   "id": "3733855e",
   "metadata": {
    "id": "b0aaf492",
    "outputId": "7ff88409-a6d1-405e-bf31-e456b666babc",
    "papermill": {
     "duration": null,
     "end_time": null,
     "exception": null,
     "start_time": null,
     "status": "pending"
    },
    "tags": []
   },
   "outputs": [],
   "source": [
    "# Check for the percentage of missing observations in each column\n",
    "\n",
    "new_data.isnull().mean()"
   ]
  },
  {
   "cell_type": "code",
   "execution_count": null,
   "id": "d3ec5d43",
   "metadata": {
    "id": "fb6f8428",
    "outputId": "ff3042d8-8433-40f0-d48d-b0c66a296559",
    "papermill": {
     "duration": null,
     "end_time": null,
     "exception": null,
     "start_time": null,
     "status": "pending"
    },
    "tags": []
   },
   "outputs": [],
   "source": [
    "# Replacing the missing values with the mean value (to avoid adding more noise to the data)\n",
    "\n",
    "data_1 = new_data.fillna(new_data['CO2 emissions from solid fuel consumption (% of total)'].mean())\n",
    "data_1 = new_data.fillna(new_data['Access to electricity (% of population)'].mean())\n",
    "data_1.head()"
   ]
  },
  {
   "cell_type": "code",
   "execution_count": null,
   "id": "e7820a5f",
   "metadata": {
    "id": "550bee8a",
    "outputId": "73b813a3-ae2d-4052-a4ba-99038a0be943",
    "papermill": {
     "duration": null,
     "end_time": null,
     "exception": null,
     "start_time": null,
     "status": "pending"
    },
    "tags": []
   },
   "outputs": [],
   "source": [
    "# Check the number of rows and columns\n",
    "\n",
    "data_1.shape"
   ]
  },
  {
   "cell_type": "code",
   "execution_count": null,
   "id": "eece695f",
   "metadata": {
    "id": "4ca516d1",
    "papermill": {
     "duration": null,
     "end_time": null,
     "exception": null,
     "start_time": null,
     "status": "pending"
    },
    "tags": []
   },
   "outputs": [],
   "source": [
    "# Create functions to normalize the data\n",
    "\n",
    "def norm(array):\n",
    "    \"\"\" Returns array normalised to [0,1]. Array can be a numpy array \n",
    "    or a column of a dataframe\"\"\"\n",
    "\n",
    "    min_val = np.min(array)\n",
    "    max_val = np.max(array)\n",
    "    \n",
    "    scaled = (array-min_val) / (max_val-min_val)\n",
    "    \n",
    "    return scaled\n",
    "\n",
    "def norm_df(df):\n",
    "    \"\"\" \n",
    "    Returns all columns of the dataframe normalised to [0,1] with the \n",
    "    exception the first (containing the names)\n",
    "    Calls function norm to do the normalisation of one column, but\n",
    "    doing all in one function is also fine. \n",
    "    \"\"\"\n",
    "    \n",
    "    # iterate over all columns\n",
    "    for col in df.columns[5:]:     # excluding the first column\n",
    "        df[col] = norm(df[col])\n",
    "        \n",
    "    return df"
   ]
  },
  {
   "cell_type": "code",
   "execution_count": null,
   "id": "9aa3a9dc",
   "metadata": {
    "id": "34523100",
    "outputId": "23aabb46-126d-4463-8c0f-10135bafd780",
    "papermill": {
     "duration": null,
     "end_time": null,
     "exception": null,
     "start_time": null,
     "status": "pending"
    },
    "tags": []
   },
   "outputs": [],
   "source": [
    "# Normalize the data\n",
    "\n",
    "norm_data = norm_df(data_1)\n",
    "norm_data.head()"
   ]
  },
  {
   "cell_type": "code",
   "execution_count": null,
   "id": "38593db7",
   "metadata": {
    "id": "1016f681",
    "outputId": "68af26cc-a48b-4433-c145-922546182323",
    "papermill": {
     "duration": null,
     "end_time": null,
     "exception": null,
     "start_time": null,
     "status": "pending"
    },
    "tags": []
   },
   "outputs": [],
   "source": [
    "# Group the data by year\n",
    "\n",
    "year_data = norm_data.groupby('Year').mean().reset_index()\n",
    "year_data.head()"
   ]
  },
  {
   "cell_type": "code",
   "execution_count": null,
   "id": "5fa15f02",
   "metadata": {
    "id": "9d794682",
    "outputId": "ad93373b-1e0c-4a8d-f33b-e43bca7480ce",
    "papermill": {
     "duration": null,
     "end_time": null,
     "exception": null,
     "start_time": null,
     "status": "pending"
    },
    "tags": []
   },
   "outputs": [],
   "source": [
    "# Check the number of rows and columns in the datas upon grouping by year\n",
    "\n",
    "year_data.shape"
   ]
  },
  {
   "cell_type": "markdown",
   "id": "ce03fec7",
   "metadata": {
    "id": "11a56375",
    "papermill": {
     "duration": null,
     "end_time": null,
     "exception": null,
     "start_time": null,
     "status": "pending"
    },
    "tags": []
   },
   "source": [
    "## Fit Exponential Curve"
   ]
  },
  {
   "cell_type": "code",
   "execution_count": null,
   "id": "0751622c",
   "metadata": {
    "id": "0273dd7e",
    "outputId": "c3ab67c6-d0de-4826-ba9f-a442d6fe3837",
    "papermill": {
     "duration": null,
     "end_time": null,
     "exception": null,
     "start_time": null,
     "status": "pending"
    },
    "tags": []
   },
   "outputs": [],
   "source": [
    "year_data['Year'] = year_data['Year'].astype(float)\n",
    "year_data.head()"
   ]
  },
  {
   "cell_type": "code",
   "execution_count": null,
   "id": "1b9a0670",
   "metadata": {
    "id": "e17af734",
    "papermill": {
     "duration": null,
     "end_time": null,
     "exception": null,
     "start_time": null,
     "status": "pending"
    },
    "tags": []
   },
   "outputs": [],
   "source": [
    "co2 = year_data['CO2 emissions from solid fuel consumption (% of total)']\n",
    "electricity = year_data['Access to electricity (% of population)']\n",
    "year= year_data['Year']"
   ]
  },
  {
   "cell_type": "code",
   "execution_count": null,
   "id": "25f517db",
   "metadata": {
    "id": "40736329",
    "papermill": {
     "duration": null,
     "end_time": null,
     "exception": null,
     "start_time": null,
     "status": "pending"
    },
    "tags": []
   },
   "outputs": [],
   "source": [
    "# Fit exponential curve for CO2 emission\n",
    "\n",
    "from scipy.optimize import curve_fit\n",
    "\n",
    "def exp_fit(x, a, b, c):\n",
    "    y = a * np.exp(-b * x) + c\n",
    "    return y\n",
    "\n",
    "fit = curve_fit(exp_fit, year, co2, p0=[0.005, 0.03, 5])\n",
    "fit_eq = fit[0][0]*np.exp(fit[0][1]*year+fit[0][2])"
   ]
  },
  {
   "cell_type": "code",
   "execution_count": null,
   "id": "b917d7e2",
   "metadata": {
    "id": "41f42ae3",
    "outputId": "9d78ba22-e0be-4cce-ce76-4859d68cf0fe",
    "papermill": {
     "duration": null,
     "end_time": null,
     "exception": null,
     "start_time": null,
     "status": "pending"
    },
    "tags": []
   },
   "outputs": [],
   "source": [
    "# Plot the curve\n",
    "fig = plt.figure()\n",
    "\n",
    "# Set fig size\n",
    "fig.set_size_inches(15, 10)\n",
    "\n",
    "ax = fig.subplots()\n",
    "ax.scatter(year, co2, color='r', s=10)\n",
    "ax.plot(year, fit_eq, color='b', alpha=0.5)\n",
    "ax.set_ylabel('CO2 emissions from solid fuel consumption')\n",
    "ax.set_xlabel('Year')\n",
    "\n",
    "plt.title('Exponential Curve of CO2 emissions from solid fuel consumption')\n",
    "plt.show()\n",
    "\n",
    "fig.savefig('Exponential Curve of CO2 emissions from solid fuel consumption')"
   ]
  },
  {
   "cell_type": "markdown",
   "id": "939a19dc",
   "metadata": {
    "id": "3dcbd00e",
    "papermill": {
     "duration": null,
     "end_time": null,
     "exception": null,
     "start_time": null,
     "status": "pending"
    },
    "tags": []
   },
   "source": [
    "Fitting the exponential curve, we found that CO2 emissions from solid fuel consumption exhibits an upward trend, which indicates that CO2 emissions from solid fuel consumption will most likely continue to increase over the years."
   ]
  },
  {
   "cell_type": "code",
   "execution_count": null,
   "id": "a3864b0a",
   "metadata": {
    "id": "530c0a25",
    "papermill": {
     "duration": null,
     "end_time": null,
     "exception": null,
     "start_time": null,
     "status": "pending"
    },
    "tags": []
   },
   "outputs": [],
   "source": [
    "# Fit exponential curve for population growth\n",
    "\n",
    "from scipy.optimize import curve_fit\n",
    "\n",
    "def exp_fit(x, a, b, c):\n",
    "    y = a * np.exp(-b * x) + c\n",
    "    return y\n",
    "\n",
    "fit = curve_fit(exp_fit, year, electricity, p0=[0.005, 0.03, 5])\n",
    "fit_eq = fit[0][0]*np.exp(fit[0][1]*year+fit[0][2])"
   ]
  },
  {
   "cell_type": "code",
   "execution_count": null,
   "id": "c0f6b24f",
   "metadata": {
    "id": "a9df6fd3",
    "outputId": "6ffd81a9-1ba6-43c8-e506-b0b4a784e9bf",
    "papermill": {
     "duration": null,
     "end_time": null,
     "exception": null,
     "start_time": null,
     "status": "pending"
    },
    "tags": []
   },
   "outputs": [],
   "source": [
    "fig = plt.figure()\n",
    "\n",
    "# Set fig size\n",
    "fig.set_size_inches(15, 10)\n",
    "\n",
    "ax = fig.subplots()\n",
    "ax.scatter(year, electricity, color='r', s=5)\n",
    "ax.plot(year, fit_eq, color='b', alpha=0.7)\n",
    "ax.set_ylabel('Annual Growth in Population')\n",
    "ax.set_xlabel('Year')\n",
    "\n",
    "plt.title('Exponential Curve of Access to electricity (% of population)')\n",
    "plt.show()\n",
    "\n",
    "fig.savefig('Exponential Curve of Access to electricity (% of population).png')"
   ]
  },
  {
   "cell_type": "markdown",
   "id": "9e3ffebf",
   "metadata": {
    "id": "428e4c30",
    "papermill": {
     "duration": null,
     "end_time": null,
     "exception": null,
     "start_time": null,
     "status": "pending"
    },
    "tags": []
   },
   "source": [
    "Fitting the exponential curve, we found that Access to electricity (% of population) exhibits an upward trend, which indicates that Access to electricity (% of population) will most likely continue to increase over the years."
   ]
  },
  {
   "cell_type": "markdown",
   "id": "de70072d",
   "metadata": {
    "id": "4a020a15",
    "papermill": {
     "duration": null,
     "end_time": null,
     "exception": null,
     "start_time": null,
     "status": "pending"
    },
    "tags": []
   },
   "source": [
    "## Applying clustering"
   ]
  },
  {
   "cell_type": "code",
   "execution_count": null,
   "id": "16c83ccd",
   "metadata": {
    "id": "d43842c7",
    "outputId": "4837f2a4-23cc-497e-cb67-c052db3fba8c",
    "papermill": {
     "duration": null,
     "end_time": null,
     "exception": null,
     "start_time": null,
     "status": "pending"
    },
    "tags": []
   },
   "outputs": [],
   "source": [
    "# Group the data by Country\n",
    "\n",
    "country_data = norm_data.groupby(['Country Name', 'Region']).mean().reset_index()\n",
    "country_data.head()"
   ]
  },
  {
   "cell_type": "code",
   "execution_count": null,
   "id": "04d50863",
   "metadata": {
    "id": "acef84ff",
    "outputId": "3bf41937-1965-4572-98ed-8d9cc3d57806",
    "papermill": {
     "duration": null,
     "end_time": null,
     "exception": null,
     "start_time": null,
     "status": "pending"
    },
    "tags": []
   },
   "outputs": [],
   "source": [
    "# Check the data\n",
    "\n",
    "country_data.head()"
   ]
  },
  {
   "cell_type": "code",
   "execution_count": null,
   "id": "e7298e4d",
   "metadata": {
    "id": "b7277ace",
    "outputId": "50bd5028-4f94-4a01-e49d-74df93ff9ffc",
    "papermill": {
     "duration": null,
     "end_time": null,
     "exception": null,
     "start_time": null,
     "status": "pending"
    },
    "tags": []
   },
   "outputs": [],
   "source": [
    "# Extract the data for clustering\n",
    "\n",
    "x = country_data.iloc[:, 2:]\n",
    "x.head()"
   ]
  },
  {
   "cell_type": "code",
   "execution_count": null,
   "id": "60435dc5",
   "metadata": {
    "id": "88c702e0",
    "papermill": {
     "duration": null,
     "end_time": null,
     "exception": null,
     "start_time": null,
     "status": "pending"
    },
    "tags": []
   },
   "outputs": [],
   "source": [
    "# Using the elbow approach, find the optimized number of clusters in the available dataset\n",
    "\n",
    "wcss = [] \n",
    "for k in range(1, 10): \n",
    "    kmeans = KMeans(n_clusters = k, init = 'k-means++', random_state = 0)\n",
    "    kmeans.fit(x) \n",
    "    wcss.append(kmeans.inertia_)"
   ]
  },
  {
   "cell_type": "code",
   "execution_count": null,
   "id": "b6595b9d",
   "metadata": {
    "id": "aa098dca",
    "outputId": "50f61b74-cca2-47b5-8eeb-818e528f7789",
    "papermill": {
     "duration": null,
     "end_time": null,
     "exception": null,
     "start_time": null,
     "status": "pending"
    },
    "tags": []
   },
   "outputs": [],
   "source": [
    "# Plot the elbow chart\n",
    "fig, ax = plt.subplots()\n",
    "\n",
    "# Set fig size\n",
    "fig.set_size_inches(15, 10)\n",
    "\n",
    "plt.plot(range(1, 10), wcss)\n",
    "plt.xlabel('Number of clusters')\n",
    "plt.ylabel('WCSS')\n",
    "plt.title('WCSS Chart for Clusters')\n",
    "plt.show()\n",
    "\n",
    "fig.savefig('WCSS Chart for Clusters.png')"
   ]
  },
  {
   "cell_type": "markdown",
   "id": "d5228d61",
   "metadata": {
    "id": "8b9dcdc9",
    "papermill": {
     "duration": null,
     "end_time": null,
     "exception": null,
     "start_time": null,
     "status": "pending"
    },
    "tags": []
   },
   "source": [
    "The above elbow chart (WCSS Chart) shows that the number of optimized clusters for the dataset is four (4)."
   ]
  },
  {
   "cell_type": "code",
   "execution_count": null,
   "id": "f72e7411",
   "metadata": {
    "id": "b4f65619",
    "outputId": "6f35e95c-32f0-41b7-cce3-d20329d0add3",
    "papermill": {
     "duration": null,
     "end_time": null,
     "exception": null,
     "start_time": null,
     "status": "pending"
    },
    "tags": []
   },
   "outputs": [],
   "source": [
    "####### kmeans set up the clusterer, 4 expected clusters\n",
    "kmeans = KMeans(n_clusters=4)\n",
    "\n",
    "# extract columns for fitting\n",
    "df_fit = country_data[[\"CO2 emissions from solid fuel consumption (% of total)\", \"Access to electricity (% of population)\",]].copy()\n",
    "kmeans.fit(df_fit)     \n",
    "\n",
    "# extract labels and cluster centres\n",
    "labels = kmeans.labels_\n",
    "cen = kmeans.cluster_centers_\n",
    "\n",
    "# plot using the labels to select colour\n",
    "plt.figure(figsize=(15,10))\n",
    "\n",
    "col = [\"blue\", \"red\", \"green\", \"magenta\"]\n",
    "for l in range(4):     # loop over the different labels\n",
    "    plt.plot(df_fit[\"CO2 emissions from solid fuel consumption (% of total)\"][labels==l], df_fit[\"Access to electricity (% of population)\"][labels==l], \"o\", markersize=3, color=col[l])\n",
    "    \n",
    "# show cluster centres\n",
    "for ic in range(4):\n",
    "    xc, yc = cen[ic,:]\n",
    "    plt.plot(xc, yc, \"dk\", markersize=10)\n",
    "    \n",
    "plt.xlabel(\"CO2 emissions from solid fuel consumption (% of total)\")\n",
    "plt.ylabel(\"Access to electricity (% of population)\")\n",
    "plt.show()"
   ]
  },
  {
   "cell_type": "code",
   "execution_count": null,
   "id": "481f88f1",
   "metadata": {
    "id": "db71a14a",
    "outputId": "2da187b5-0a4d-44c1-c9a0-60948b96979d",
    "papermill": {
     "duration": null,
     "end_time": null,
     "exception": null,
     "start_time": null,
     "status": "pending"
    },
    "tags": []
   },
   "outputs": [],
   "source": [
    "# Create a column for the matching clusters\n",
    "\n",
    "df_fit['Cluster']= labels\n",
    "df_fit.head()"
   ]
  },
  {
   "cell_type": "code",
   "execution_count": null,
   "id": "1fcea247",
   "metadata": {
    "id": "a938f1ae",
    "outputId": "1ce764e7-b106-45e2-d4f2-d556c4c5fcf7",
    "papermill": {
     "duration": null,
     "end_time": null,
     "exception": null,
     "start_time": null,
     "status": "pending"
    },
    "tags": []
   },
   "outputs": [],
   "source": [
    "# Merge the clustered data with the original data\n",
    "\n",
    "final_data = country_data.merge(df_fit, on=['CO2 emissions from solid fuel consumption (% of total)','Access to electricity (% of population)',])\n",
    "final_data.head()"
   ]
  },
  {
   "cell_type": "code",
   "execution_count": null,
   "id": "e2c7e8ee",
   "metadata": {
    "id": "5abc9b86",
    "outputId": "5ba44e76-b077-4913-e573-a385f0f73dc6",
    "papermill": {
     "duration": null,
     "end_time": null,
     "exception": null,
     "start_time": null,
     "status": "pending"
    },
    "tags": []
   },
   "outputs": [],
   "source": [
    "final_data = final_data[['Country Name', 'Region', 'CO2 emissions from solid fuel consumption (% of total)','Access to electricity (% of population)', 'Cluster']]\n",
    "final_data.head()"
   ]
  },
  {
   "cell_type": "code",
   "execution_count": null,
   "id": "43998599",
   "metadata": {
    "id": "5e584dfd",
    "outputId": "7bbd2b82-9610-4667-9ce0-574369e75009",
    "papermill": {
     "duration": null,
     "end_time": null,
     "exception": null,
     "start_time": null,
     "status": "pending"
    },
    "tags": []
   },
   "outputs": [],
   "source": [
    "fig, ax = plt.subplots()\n",
    "# Set fig size\n",
    "fig.set_size_inches(15, 10)\n",
    "\n",
    "sns.countplot(final_data['Cluster'])\n",
    "plt.ylabel('Number of Countries')\n",
    "plt.xlabel('Cluster')\n",
    "plt.show()\n",
    "\n",
    "fig.savefig('Cluster Count Plot.png')"
   ]
  },
  {
   "cell_type": "code",
   "execution_count": null,
   "id": "51b65417",
   "metadata": {
    "id": "b5a9690e",
    "outputId": "1a64740b-c60f-495a-9c4c-3ecbc6ae98ee",
    "papermill": {
     "duration": null,
     "end_time": null,
     "exception": null,
     "start_time": null,
     "status": "pending"
    },
    "tags": []
   },
   "outputs": [],
   "source": [
    "final_data.Cluster.value_counts()"
   ]
  },
  {
   "cell_type": "markdown",
   "id": "d2df515c",
   "metadata": {
    "id": "e9abc702",
    "papermill": {
     "duration": null,
     "end_time": null,
     "exception": null,
     "start_time": null,
     "status": "pending"
    },
    "tags": []
   },
   "source": [
    "There are 51 countries in cluster 1 (0), 35 in cluster 2 (1), 71 in cluster 3 (2) and 27 in cluster 4 (3)."
   ]
  },
  {
   "cell_type": "code",
   "execution_count": null,
   "id": "8c5b018b",
   "metadata": {
    "id": "b5a18c83",
    "outputId": "ec143131-8e68-4371-8138-889cb463b65a",
    "papermill": {
     "duration": null,
     "end_time": null,
     "exception": null,
     "start_time": null,
     "status": "pending"
    },
    "tags": []
   },
   "outputs": [],
   "source": [
    "# Correlation\n",
    "\n",
    "corr = df_fit.drop('Cluster', axis=1).corr()\n",
    "corr"
   ]
  },
  {
   "cell_type": "markdown",
   "id": "1ca65461",
   "metadata": {
    "id": "5877df75",
    "papermill": {
     "duration": null,
     "end_time": null,
     "exception": null,
     "start_time": null,
     "status": "pending"
    },
    "tags": []
   },
   "source": [
    "Per unit increment in annual population growth, there is a decrement in CO2 emission across countries by over 25%"
   ]
  },
  {
   "cell_type": "markdown",
   "id": "affe9ec6",
   "metadata": {
    "id": "66685fa7",
    "papermill": {
     "duration": null,
     "end_time": null,
     "exception": null,
     "start_time": null,
     "status": "pending"
    },
    "tags": []
   },
   "source": [
    "# Breakdown by Cluster"
   ]
  },
  {
   "cell_type": "markdown",
   "id": "0db8e03b",
   "metadata": {
    "id": "658b68a4",
    "papermill": {
     "duration": null,
     "end_time": null,
     "exception": null,
     "start_time": null,
     "status": "pending"
    },
    "tags": []
   },
   "source": [
    "### Cluster 1"
   ]
  },
  {
   "cell_type": "code",
   "execution_count": null,
   "id": "a7915f60",
   "metadata": {
    "id": "e31d4e1a",
    "outputId": "c2b9a9f7-5a99-43b2-a42c-298478795932",
    "papermill": {
     "duration": null,
     "end_time": null,
     "exception": null,
     "start_time": null,
     "status": "pending"
    },
    "tags": []
   },
   "outputs": [],
   "source": [
    "c_1 = final_data[final_data['Cluster']==0]\n",
    "c_1.head()"
   ]
  },
  {
   "cell_type": "code",
   "execution_count": null,
   "id": "ca41c7f0",
   "metadata": {
    "id": "7f0e7c61",
    "outputId": "966d8764-82d4-4e06-ced4-4c892a581779",
    "papermill": {
     "duration": null,
     "end_time": null,
     "exception": null,
     "start_time": null,
     "status": "pending"
    },
    "tags": []
   },
   "outputs": [],
   "source": [
    "c_1.Region.value_counts()"
   ]
  },
  {
   "cell_type": "markdown",
   "id": "6ef909a7",
   "metadata": {
    "id": "f04270df",
    "papermill": {
     "duration": null,
     "end_time": null,
     "exception": null,
     "start_time": null,
     "status": "pending"
    },
    "tags": []
   },
   "source": [
    "In cluster 1, there is no countries from Europe, 7 from the Americas, 9 from Asia, 10 from Africa and 3 from Oceania."
   ]
  },
  {
   "cell_type": "code",
   "execution_count": null,
   "id": "0fe4dbd2",
   "metadata": {
    "id": "5cb33444",
    "outputId": "9de8ca64-d600-4f23-e718-57a47c0769b5",
    "papermill": {
     "duration": null,
     "end_time": null,
     "exception": null,
     "start_time": null,
     "status": "pending"
    },
    "tags": []
   },
   "outputs": [],
   "source": [
    "c_1.describe()"
   ]
  },
  {
   "cell_type": "code",
   "execution_count": null,
   "id": "70e98553",
   "metadata": {
    "id": "a83a32be",
    "outputId": "9085ede3-c3cf-4ce3-915b-7a246cb817ff",
    "papermill": {
     "duration": null,
     "end_time": null,
     "exception": null,
     "start_time": null,
     "status": "pending"
    },
    "tags": []
   },
   "outputs": [],
   "source": [
    "corr = c_1.drop('Cluster', axis=1).corr()\n",
    "corr"
   ]
  },
  {
   "cell_type": "markdown",
   "id": "62e5bd20",
   "metadata": {
    "id": "aeb674d4",
    "papermill": {
     "duration": null,
     "end_time": null,
     "exception": null,
     "start_time": null,
     "status": "pending"
    },
    "tags": []
   },
   "source": [
    "### Cluster 2"
   ]
  },
  {
   "cell_type": "code",
   "execution_count": null,
   "id": "01bb69c1",
   "metadata": {
    "id": "baab9cec",
    "outputId": "bbb7c796-8836-44ba-a15a-f419bc3be80e",
    "papermill": {
     "duration": null,
     "end_time": null,
     "exception": null,
     "start_time": null,
     "status": "pending"
    },
    "tags": []
   },
   "outputs": [],
   "source": [
    "c_2 = final_data[final_data['Cluster']==1]\n",
    "c_2.head()"
   ]
  },
  {
   "cell_type": "code",
   "execution_count": null,
   "id": "88a3c6e0",
   "metadata": {
    "id": "16e1d0b5",
    "outputId": "e44bebe4-2101-47a0-a700-22e9096c8dc6",
    "papermill": {
     "duration": null,
     "end_time": null,
     "exception": null,
     "start_time": null,
     "status": "pending"
    },
    "tags": []
   },
   "outputs": [],
   "source": [
    "c_2.Region.value_counts()"
   ]
  },
  {
   "cell_type": "markdown",
   "id": "45bdb467",
   "metadata": {
    "id": "08d809df",
    "papermill": {
     "duration": null,
     "end_time": null,
     "exception": null,
     "start_time": null,
     "status": "pending"
    },
    "tags": []
   },
   "source": [
    "In cluster 2, there is no countries from Europe, 1 from Americas each, 3 from Oceania, 2 from Asia, while 33 are from Africa."
   ]
  },
  {
   "cell_type": "code",
   "execution_count": null,
   "id": "8ed24640",
   "metadata": {
    "id": "79889962",
    "outputId": "19461889-6f24-41f0-92b4-901a9dcdf2ac",
    "papermill": {
     "duration": null,
     "end_time": null,
     "exception": null,
     "start_time": null,
     "status": "pending"
    },
    "tags": []
   },
   "outputs": [],
   "source": [
    "c_2.describe()"
   ]
  },
  {
   "cell_type": "code",
   "execution_count": null,
   "id": "496ccd9a",
   "metadata": {
    "id": "52add4cd",
    "outputId": "30819fb2-9348-4ab0-8707-ac041710e7c3",
    "papermill": {
     "duration": null,
     "end_time": null,
     "exception": null,
     "start_time": null,
     "status": "pending"
    },
    "tags": []
   },
   "outputs": [],
   "source": [
    "corr = c_2.drop('Cluster', axis=1).corr()\n",
    "corr"
   ]
  },
  {
   "cell_type": "markdown",
   "id": "39b53204",
   "metadata": {
    "id": "a759f972",
    "papermill": {
     "duration": null,
     "end_time": null,
     "exception": null,
     "start_time": null,
     "status": "pending"
    },
    "tags": []
   },
   "source": [
    "### Cluster 3"
   ]
  },
  {
   "cell_type": "code",
   "execution_count": null,
   "id": "985930fd",
   "metadata": {
    "id": "d23f9895",
    "outputId": "e3302c93-5e53-4821-8ec4-c9cd05f39853",
    "papermill": {
     "duration": null,
     "end_time": null,
     "exception": null,
     "start_time": null,
     "status": "pending"
    },
    "tags": []
   },
   "outputs": [],
   "source": [
    "c_3 = final_data[final_data['Cluster']==2]\n",
    "c_3.head()"
   ]
  },
  {
   "cell_type": "code",
   "execution_count": null,
   "id": "69f71079",
   "metadata": {
    "id": "f43aeccd",
    "outputId": "fe2f09d8-628c-43ef-cec0-7a460e332817",
    "papermill": {
     "duration": null,
     "end_time": null,
     "exception": null,
     "start_time": null,
     "status": "pending"
    },
    "tags": []
   },
   "outputs": [],
   "source": [
    "c_3.Region.value_counts()"
   ]
  },
  {
   "cell_type": "markdown",
   "id": "4b5f4441",
   "metadata": {
    "id": "cbaf0db7",
    "papermill": {
     "duration": null,
     "end_time": null,
     "exception": null,
     "start_time": null,
     "status": "pending"
    },
    "tags": []
   },
   "source": [
    "In cluster 3, there 1 countries from Africa, 3 from Asia, 32 from the Americas, 16 from Oceania and 54 from Europe."
   ]
  },
  {
   "cell_type": "code",
   "execution_count": null,
   "id": "f62a81c8",
   "metadata": {
    "id": "bce76cbb",
    "outputId": "20eba235-68c0-4cc8-d5e1-4383b4d5ce76",
    "papermill": {
     "duration": null,
     "end_time": null,
     "exception": null,
     "start_time": null,
     "status": "pending"
    },
    "tags": []
   },
   "outputs": [],
   "source": [
    "c_3.describe()"
   ]
  },
  {
   "cell_type": "code",
   "execution_count": null,
   "id": "2e9885b0",
   "metadata": {
    "id": "0002be96",
    "outputId": "84d0f441-89c4-4a98-d7a5-0f6ee9a2b397",
    "papermill": {
     "duration": null,
     "end_time": null,
     "exception": null,
     "start_time": null,
     "status": "pending"
    },
    "tags": []
   },
   "outputs": [],
   "source": [
    "corr = c_3.drop('Cluster', axis=1).corr()\n",
    "corr"
   ]
  },
  {
   "cell_type": "markdown",
   "id": "fba4ecd9",
   "metadata": {
    "id": "c7c9d287",
    "papermill": {
     "duration": null,
     "end_time": null,
     "exception": null,
     "start_time": null,
     "status": "pending"
    },
    "tags": []
   },
   "source": [
    "### Cluster 4"
   ]
  },
  {
   "cell_type": "code",
   "execution_count": null,
   "id": "c549aaac",
   "metadata": {
    "id": "ac55d648",
    "outputId": "e8dab547-d562-42da-9bb2-a8251c879bfb",
    "papermill": {
     "duration": null,
     "end_time": null,
     "exception": null,
     "start_time": null,
     "status": "pending"
    },
    "tags": []
   },
   "outputs": [],
   "source": [
    "c_4 = final_data[final_data['Cluster']==3]\n",
    "c_4.head()"
   ]
  },
  {
   "cell_type": "code",
   "execution_count": null,
   "id": "32e52f3c",
   "metadata": {
    "id": "b8bc3dad",
    "outputId": "37c7ac23-eab4-4fbc-fd93-18dee91a417d",
    "papermill": {
     "duration": null,
     "end_time": null,
     "exception": null,
     "start_time": null,
     "status": "pending"
    },
    "tags": []
   },
   "outputs": [],
   "source": [
    "c_4.Region.value_counts()"
   ]
  },
  {
   "cell_type": "markdown",
   "id": "8493c162",
   "metadata": {
    "id": "d4d93edc",
    "papermill": {
     "duration": null,
     "end_time": null,
     "exception": null,
     "start_time": null,
     "status": "pending"
    },
    "tags": []
   },
   "source": [
    "In cluster 4, there 32 countries from Europe, 4 from Africa, 42 from Asia, 20 from the Americas, and 6 from Oceania."
   ]
  },
  {
   "cell_type": "code",
   "execution_count": null,
   "id": "0ed34433",
   "metadata": {
    "id": "d1448a3d",
    "outputId": "a79890ae-207c-49f4-90bd-3b08e5bf3e61",
    "papermill": {
     "duration": null,
     "end_time": null,
     "exception": null,
     "start_time": null,
     "status": "pending"
    },
    "tags": []
   },
   "outputs": [],
   "source": [
    "c_4.describe()"
   ]
  },
  {
   "cell_type": "code",
   "execution_count": null,
   "id": "a6ffbd30",
   "metadata": {
    "id": "6caff712",
    "outputId": "49c96685-d597-4433-dedc-4a9ebf88a5c3",
    "papermill": {
     "duration": null,
     "end_time": null,
     "exception": null,
     "start_time": null,
     "status": "pending"
    },
    "tags": []
   },
   "outputs": [],
   "source": [
    "corr = c_4.drop('Cluster', axis=1).corr()\n",
    "corr"
   ]
  },
  {
   "cell_type": "markdown",
   "id": "a1715fa9",
   "metadata": {
    "id": "c37e703d",
    "papermill": {
     "duration": null,
     "end_time": null,
     "exception": null,
     "start_time": null,
     "status": "pending"
    },
    "tags": []
   },
   "source": [
    "### Summary"
   ]
  },
  {
   "cell_type": "markdown",
   "id": "43b45fb5",
   "metadata": {
    "id": "0c4e25fb",
    "papermill": {
     "duration": null,
     "end_time": null,
     "exception": null,
     "start_time": null,
     "status": "pending"
    },
    "tags": []
   },
   "source": [
    "According to the aforementioned analysis, nations in cluster 1 had more CO2 emissions per unit increment in annual Access to electricity (percent of population), whereas countries in cluster 2 had the least. This shows that activities that contribute to CO2 emissions are more prevalent in nations in cluster 1 than in any other cluster, but they are rapidly dropping in cluster 2 countries."
   ]
  },
  {
   "cell_type": "markdown",
   "id": "39d39b55",
   "metadata": {
    "id": "f753b927",
    "papermill": {
     "duration": null,
     "end_time": null,
     "exception": null,
     "start_time": null,
     "status": "pending"
    },
    "tags": []
   },
   "source": [
    "## Comparison of selected countries (from each cluster)"
   ]
  },
  {
   "cell_type": "code",
   "execution_count": null,
   "id": "f73231dd",
   "metadata": {
    "id": "06f7753e",
    "outputId": "bf2d9a2c-ef85-41a3-8f68-30833044ded5",
    "papermill": {
     "duration": null,
     "end_time": null,
     "exception": null,
     "start_time": null,
     "status": "pending"
    },
    "tags": []
   },
   "outputs": [],
   "source": [
    "# Create a dataframe containing only the first country in each cluster\n",
    "\n",
    "df_comparison = data_1[(data_1['Country Name']=='Angola') | (data_1['Country Name']=='American Samoa') | (data_1['Country Name']=='Afghanistan') | (data_1['Country Name']=='Albania')]\n",
    "df_comparison.head()"
   ]
  },
  {
   "cell_type": "code",
   "execution_count": null,
   "id": "39c9ed86",
   "metadata": {
    "id": "a026a71c",
    "outputId": "69bad9a4-9a34-4e57-9a4c-bcc12a22bfdd",
    "papermill": {
     "duration": null,
     "end_time": null,
     "exception": null,
     "start_time": null,
     "status": "pending"
    },
    "tags": []
   },
   "outputs": [],
   "source": [
    "df_comparison.Region.nunique()"
   ]
  },
  {
   "cell_type": "code",
   "execution_count": null,
   "id": "746073ad",
   "metadata": {
    "id": "27d9bb49",
    "outputId": "1e5355a2-0cb4-4920-fb39-2435546bdd22",
    "papermill": {
     "duration": null,
     "end_time": null,
     "exception": null,
     "start_time": null,
     "status": "pending"
    },
    "tags": []
   },
   "outputs": [],
   "source": [
    "df_comparison.Region.value_counts()"
   ]
  },
  {
   "cell_type": "markdown",
   "id": "92426427",
   "metadata": {
    "id": "fa2d9eb4",
    "papermill": {
     "duration": null,
     "end_time": null,
     "exception": null,
     "start_time": null,
     "status": "pending"
    },
    "tags": []
   },
   "source": [
    "We found the picked countries each belongs to 4 unique regions."
   ]
  },
  {
   "cell_type": "code",
   "execution_count": null,
   "id": "80346971",
   "metadata": {
    "id": "6a2ba5a4",
    "outputId": "a84416d1-2795-4cf7-8667-d7e8d6421e04",
    "papermill": {
     "duration": null,
     "end_time": null,
     "exception": null,
     "start_time": null,
     "status": "pending"
    },
    "tags": []
   },
   "outputs": [],
   "source": [
    "# Line Plot of CO2 Emission\n",
    "\n",
    "sns.set_style('ticks')\n",
    "fig, ax = plt.subplots()\n",
    "\n",
    "# setting fig size\n",
    "fig.set_size_inches(20.00, 8.00)\n",
    "\n",
    "sns.lineplot(x='Year', y='CO2 emissions from solid fuel consumption (% of total)', hue='Country Name', data=df_comparison)\n",
    "plt.title('Line plot of CO2 emissions from solid fuel consumption (% of total)')\n",
    "sns.despine\n",
    "\n",
    "fig.savefig('Line plot of CO2 Emission.png')"
   ]
  },
  {
   "cell_type": "markdown",
   "id": "63368bb7",
   "metadata": {
    "id": "a2c48a49",
    "papermill": {
     "duration": null,
     "end_time": null,
     "exception": null,
     "start_time": null,
     "status": "pending"
    },
    "tags": []
   },
   "source": [
    "From the above chart, we observed that between the year 1990 and year 2021;\n",
    "\n",
    "1. CO2 emission in Angola has been on the increase, with an all-high value for the first time in the year 2016, while maining a uniform growth pattern in the year 2021.\n",
    "\n",
    "2. CO2 emission in Afghanistan experience as sharp in the year 2000, and has since then maintained a relatively high value as compared with pre-2000 values. Since year 2000 it has been rising steadily and got a uniform pattern from 2016 till 2021.\n",
    "\n",
    "3. CO2 emission in Albania has maintained a steady drop over the years. But since year 2016 it has increased drastically and gotten a uniform pattern up till 2021."
   ]
  }
 ],
 "metadata": {
  "kernelspec": {
   "display_name": "Python 3",
   "language": "python",
   "name": "python3"
  },
  "language_info": {
   "codemirror_mode": {
    "name": "ipython",
    "version": 3
   },
   "file_extension": ".py",
   "mimetype": "text/x-python",
   "name": "python",
   "nbconvert_exporter": "python",
   "pygments_lexer": "ipython3",
   "version": "3.7.12"
  },
  "papermill": {
   "default_parameters": {},
   "duration": 13.816394,
   "end_time": "2022-06-30T14:23:27.880079",
   "environment_variables": {},
   "exception": true,
   "input_path": "__notebook__.ipynb",
   "output_path": "__notebook__.ipynb",
   "parameters": {},
   "start_time": "2022-06-30T14:23:14.063685",
   "version": "2.3.4"
  }
 },
 "nbformat": 4,
 "nbformat_minor": 5
}
