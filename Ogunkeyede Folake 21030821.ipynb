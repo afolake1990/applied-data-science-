{
 "cells": [
  {
   "cell_type": "markdown",
   "metadata": {
    "id": "3tKHubpeYWIO"
   },
   "source": [
    "#### This interactive Python notebook is about your assignment (course work) to do some data analysis about sampled data regarding the key elements and ingredients leading to high quality white wines. "
   ]
  },
  {
   "cell_type": "code",
   "execution_count": 90,
   "metadata": {
    "id": "RV16YgSTX8MK"
   },
   "outputs": [],
   "source": [
    "import numpy as np\n",
    "import pandas as pd\n",
    "import matplotlib as mpl\n",
    "import matplotlib.pyplot as plt\n",
    "import seaborn as sns"
   ]
  },
  {
   "cell_type": "markdown",
   "metadata": {},
   "source": [
    "#### Task 1: Import the data as of the Excel file \"winequality-white.cvs\". Subsequently, write the code that displays the number of rows and columns in your imported data sample. [1 Mark]"
   ]
  },
  {
   "cell_type": "code",
   "execution_count": 91,
   "metadata": {},
   "outputs": [
    {
     "data": {
      "text/html": [
       "<div>\n",
       "<style scoped>\n",
       "    .dataframe tbody tr th:only-of-type {\n",
       "        vertical-align: middle;\n",
       "    }\n",
       "\n",
       "    .dataframe tbody tr th {\n",
       "        vertical-align: top;\n",
       "    }\n",
       "\n",
       "    .dataframe thead th {\n",
       "        text-align: right;\n",
       "    }\n",
       "</style>\n",
       "<table border=\"1\" class=\"dataframe\">\n",
       "  <thead>\n",
       "    <tr style=\"text-align: right;\">\n",
       "      <th></th>\n",
       "      <th>fixed acidity</th>\n",
       "      <th>volatile acidity</th>\n",
       "      <th>citric acid</th>\n",
       "      <th>residual sugar</th>\n",
       "      <th>chlorides</th>\n",
       "      <th>free sulfur dioxide</th>\n",
       "      <th>total sulfur dioxide</th>\n",
       "      <th>density</th>\n",
       "      <th>pH</th>\n",
       "      <th>sulphates</th>\n",
       "      <th>alcohol</th>\n",
       "      <th>quality</th>\n",
       "    </tr>\n",
       "  </thead>\n",
       "  <tbody>\n",
       "    <tr>\n",
       "      <td>0</td>\n",
       "      <td>7.0</td>\n",
       "      <td>0.27</td>\n",
       "      <td>0.36</td>\n",
       "      <td>20.7</td>\n",
       "      <td>0.045</td>\n",
       "      <td>45.0</td>\n",
       "      <td>170.0</td>\n",
       "      <td>1.00100</td>\n",
       "      <td>3.00</td>\n",
       "      <td>0.45</td>\n",
       "      <td>8.8</td>\n",
       "      <td>6</td>\n",
       "    </tr>\n",
       "    <tr>\n",
       "      <td>1</td>\n",
       "      <td>6.3</td>\n",
       "      <td>0.30</td>\n",
       "      <td>0.34</td>\n",
       "      <td>1.6</td>\n",
       "      <td>0.049</td>\n",
       "      <td>14.0</td>\n",
       "      <td>132.0</td>\n",
       "      <td>0.99400</td>\n",
       "      <td>3.30</td>\n",
       "      <td>0.49</td>\n",
       "      <td>9.5</td>\n",
       "      <td>6</td>\n",
       "    </tr>\n",
       "    <tr>\n",
       "      <td>2</td>\n",
       "      <td>8.1</td>\n",
       "      <td>0.28</td>\n",
       "      <td>0.40</td>\n",
       "      <td>6.9</td>\n",
       "      <td>0.050</td>\n",
       "      <td>30.0</td>\n",
       "      <td>97.0</td>\n",
       "      <td>0.99510</td>\n",
       "      <td>3.26</td>\n",
       "      <td>0.44</td>\n",
       "      <td>10.1</td>\n",
       "      <td>6</td>\n",
       "    </tr>\n",
       "    <tr>\n",
       "      <td>3</td>\n",
       "      <td>7.2</td>\n",
       "      <td>0.23</td>\n",
       "      <td>0.32</td>\n",
       "      <td>8.5</td>\n",
       "      <td>0.058</td>\n",
       "      <td>47.0</td>\n",
       "      <td>186.0</td>\n",
       "      <td>0.99560</td>\n",
       "      <td>3.19</td>\n",
       "      <td>0.40</td>\n",
       "      <td>9.9</td>\n",
       "      <td>6</td>\n",
       "    </tr>\n",
       "    <tr>\n",
       "      <td>4</td>\n",
       "      <td>7.2</td>\n",
       "      <td>0.23</td>\n",
       "      <td>0.32</td>\n",
       "      <td>8.5</td>\n",
       "      <td>0.058</td>\n",
       "      <td>47.0</td>\n",
       "      <td>186.0</td>\n",
       "      <td>0.99560</td>\n",
       "      <td>3.19</td>\n",
       "      <td>0.40</td>\n",
       "      <td>9.9</td>\n",
       "      <td>6</td>\n",
       "    </tr>\n",
       "    <tr>\n",
       "      <td>...</td>\n",
       "      <td>...</td>\n",
       "      <td>...</td>\n",
       "      <td>...</td>\n",
       "      <td>...</td>\n",
       "      <td>...</td>\n",
       "      <td>...</td>\n",
       "      <td>...</td>\n",
       "      <td>...</td>\n",
       "      <td>...</td>\n",
       "      <td>...</td>\n",
       "      <td>...</td>\n",
       "      <td>...</td>\n",
       "    </tr>\n",
       "    <tr>\n",
       "      <td>4893</td>\n",
       "      <td>6.2</td>\n",
       "      <td>0.21</td>\n",
       "      <td>0.29</td>\n",
       "      <td>1.6</td>\n",
       "      <td>0.039</td>\n",
       "      <td>24.0</td>\n",
       "      <td>92.0</td>\n",
       "      <td>0.99114</td>\n",
       "      <td>3.27</td>\n",
       "      <td>0.50</td>\n",
       "      <td>11.2</td>\n",
       "      <td>6</td>\n",
       "    </tr>\n",
       "    <tr>\n",
       "      <td>4894</td>\n",
       "      <td>6.6</td>\n",
       "      <td>0.32</td>\n",
       "      <td>0.36</td>\n",
       "      <td>8.0</td>\n",
       "      <td>0.047</td>\n",
       "      <td>57.0</td>\n",
       "      <td>168.0</td>\n",
       "      <td>0.99490</td>\n",
       "      <td>3.15</td>\n",
       "      <td>0.46</td>\n",
       "      <td>9.6</td>\n",
       "      <td>5</td>\n",
       "    </tr>\n",
       "    <tr>\n",
       "      <td>4895</td>\n",
       "      <td>6.5</td>\n",
       "      <td>0.24</td>\n",
       "      <td>0.19</td>\n",
       "      <td>1.2</td>\n",
       "      <td>0.041</td>\n",
       "      <td>30.0</td>\n",
       "      <td>111.0</td>\n",
       "      <td>0.99254</td>\n",
       "      <td>2.99</td>\n",
       "      <td>0.46</td>\n",
       "      <td>9.4</td>\n",
       "      <td>6</td>\n",
       "    </tr>\n",
       "    <tr>\n",
       "      <td>4896</td>\n",
       "      <td>5.5</td>\n",
       "      <td>0.29</td>\n",
       "      <td>0.30</td>\n",
       "      <td>1.1</td>\n",
       "      <td>0.022</td>\n",
       "      <td>20.0</td>\n",
       "      <td>110.0</td>\n",
       "      <td>0.98869</td>\n",
       "      <td>3.34</td>\n",
       "      <td>0.38</td>\n",
       "      <td>12.8</td>\n",
       "      <td>7</td>\n",
       "    </tr>\n",
       "    <tr>\n",
       "      <td>4897</td>\n",
       "      <td>6.0</td>\n",
       "      <td>0.21</td>\n",
       "      <td>0.38</td>\n",
       "      <td>0.8</td>\n",
       "      <td>0.020</td>\n",
       "      <td>22.0</td>\n",
       "      <td>98.0</td>\n",
       "      <td>0.98941</td>\n",
       "      <td>3.26</td>\n",
       "      <td>0.32</td>\n",
       "      <td>11.8</td>\n",
       "      <td>6</td>\n",
       "    </tr>\n",
       "  </tbody>\n",
       "</table>\n",
       "<p>4898 rows × 12 columns</p>\n",
       "</div>"
      ],
      "text/plain": [
       "      fixed acidity  volatile acidity  citric acid  residual sugar  chlorides  \\\n",
       "0               7.0              0.27         0.36            20.7      0.045   \n",
       "1               6.3              0.30         0.34             1.6      0.049   \n",
       "2               8.1              0.28         0.40             6.9      0.050   \n",
       "3               7.2              0.23         0.32             8.5      0.058   \n",
       "4               7.2              0.23         0.32             8.5      0.058   \n",
       "...             ...               ...          ...             ...        ...   \n",
       "4893            6.2              0.21         0.29             1.6      0.039   \n",
       "4894            6.6              0.32         0.36             8.0      0.047   \n",
       "4895            6.5              0.24         0.19             1.2      0.041   \n",
       "4896            5.5              0.29         0.30             1.1      0.022   \n",
       "4897            6.0              0.21         0.38             0.8      0.020   \n",
       "\n",
       "      free sulfur dioxide  total sulfur dioxide  density    pH  sulphates  \\\n",
       "0                    45.0                 170.0  1.00100  3.00       0.45   \n",
       "1                    14.0                 132.0  0.99400  3.30       0.49   \n",
       "2                    30.0                  97.0  0.99510  3.26       0.44   \n",
       "3                    47.0                 186.0  0.99560  3.19       0.40   \n",
       "4                    47.0                 186.0  0.99560  3.19       0.40   \n",
       "...                   ...                   ...      ...   ...        ...   \n",
       "4893                 24.0                  92.0  0.99114  3.27       0.50   \n",
       "4894                 57.0                 168.0  0.99490  3.15       0.46   \n",
       "4895                 30.0                 111.0  0.99254  2.99       0.46   \n",
       "4896                 20.0                 110.0  0.98869  3.34       0.38   \n",
       "4897                 22.0                  98.0  0.98941  3.26       0.32   \n",
       "\n",
       "      alcohol  quality  \n",
       "0         8.8        6  \n",
       "1         9.5        6  \n",
       "2        10.1        6  \n",
       "3         9.9        6  \n",
       "4         9.9        6  \n",
       "...       ...      ...  \n",
       "4893     11.2        6  \n",
       "4894      9.6        5  \n",
       "4895      9.4        6  \n",
       "4896     12.8        7  \n",
       "4897     11.8        6  \n",
       "\n",
       "[4898 rows x 12 columns]"
      ]
     },
     "execution_count": 91,
     "metadata": {},
     "output_type": "execute_result"
    }
   ],
   "source": [
    "wd= pd.read_csv('winequality-white.csv')\n",
    "wd"
   ]
  },
  {
   "cell_type": "markdown",
   "metadata": {},
   "source": [
    "#### Task 2: Write the code and type in the answer to the question “which are the three top independent (feature) variables with the least spread of data values?”. [1 Mark]"
   ]
  },
  {
   "cell_type": "code",
   "execution_count": 92,
   "metadata": {
    "scrolled": true
   },
   "outputs": [
    {
     "data": {
      "text/html": [
       "<div>\n",
       "<style scoped>\n",
       "    .dataframe tbody tr th:only-of-type {\n",
       "        vertical-align: middle;\n",
       "    }\n",
       "\n",
       "    .dataframe tbody tr th {\n",
       "        vertical-align: top;\n",
       "    }\n",
       "\n",
       "    .dataframe thead th {\n",
       "        text-align: right;\n",
       "    }\n",
       "</style>\n",
       "<table border=\"1\" class=\"dataframe\">\n",
       "  <thead>\n",
       "    <tr style=\"text-align: right;\">\n",
       "      <th></th>\n",
       "      <th>0</th>\n",
       "    </tr>\n",
       "  </thead>\n",
       "  <tbody>\n",
       "    <tr>\n",
       "      <td>density</td>\n",
       "      <td>0.002991</td>\n",
       "    </tr>\n",
       "    <tr>\n",
       "      <td>chlorides</td>\n",
       "      <td>0.021848</td>\n",
       "    </tr>\n",
       "    <tr>\n",
       "      <td>volatile acidity</td>\n",
       "      <td>0.100795</td>\n",
       "    </tr>\n",
       "  </tbody>\n",
       "</table>\n",
       "</div>"
      ],
      "text/plain": [
       "                         0\n",
       "density           0.002991\n",
       "chlorides         0.021848\n",
       "volatile acidity  0.100795"
      ]
     },
     "execution_count": 92,
     "metadata": {},
     "output_type": "execute_result"
    }
   ],
   "source": [
    "wd.std()\n",
    "df= pd.DataFrame(wd.std())\n",
    "df= df.sort_values(by=[0])[0:3]\n",
    "df"
   ]
  },
  {
   "cell_type": "markdown",
   "metadata": {},
   "source": [
    "The top three independent variables with the least spread of data are 'density', 'chlorides' and 'volatile acidity'"
   ]
  },
  {
   "cell_type": "markdown",
   "metadata": {},
   "source": [
    "#### Task 3: Write the code to generate and display the correlation matrix among all 12 variables (feature and target variables). Subsequently, answer the question about the top three feature variables, which appear to have the strongest correlation with the target variable “quality”. [3 Marks]"
   ]
  },
  {
   "cell_type": "code",
   "execution_count": 93,
   "metadata": {
    "scrolled": true
   },
   "outputs": [
    {
     "data": {
      "text/plain": [
       "<matplotlib.axes._subplots.AxesSubplot at 0x13a92d08>"
      ]
     },
     "execution_count": 93,
     "metadata": {},
     "output_type": "execute_result"
    },
    {
     "data": {
      "image/png": "[encoded data removed]",
      "text/plain": [
       "<Figure size 864x864 with 2 Axes>"
      ]
     },
     "metadata": {
      "needs_background": "light"
     },
     "output_type": "display_data"
    }
   ],
   "source": [
    "plt.figure(figsize= (12,12))\n",
    "cor= wd.corr()\n",
    "sns.heatmap(cor, annot=True, cmap=plt.cm.Reds)"
   ]
  },
  {
   "cell_type": "markdown",
   "metadata": {},
   "source": [
    "The most positively correlated each variable is separated or identifiable by the deepest colour next to the value 1 for each variable and the most negatively correlated is the lightest in colour"
   ]
  },
  {
   "cell_type": "markdown",
   "metadata": {},
   "source": [
    "#### Task 4: Write the code to examine which variables do follow the normal (Gaussian) distribution. Subsequently, provide and justify your answer based on your observations. [3 Marks]"
   ]
  },
  {
   "cell_type": "code",
   "execution_count": 94,
   "metadata": {},
   "outputs": [],
   "source": [
    "from statsmodels.graphics.gofplots import qqplot\n",
    "from scipy.stats import kstest, shapiro\n",
    "from matplotlib import pyplot\n"
   ]
  },
  {
   "cell_type": "code",
   "execution_count": 95,
   "metadata": {},
   "outputs": [
    {
     "name": "stdout",
     "output_type": "stream",
     "text": [
      "6.854787668436097\n",
      "0.8437820791264506\n"
     ]
    }
   ],
   "source": [
    "data=wd['fixed acidity'].values\n",
    "shared_bins = np.histogram_bin_edges(data,bins='auto')\n",
    "print(np.mean(data))\n",
    "print(np.std(data))"
   ]
  },
  {
   "cell_type": "code",
   "execution_count": 96,
   "metadata": {},
   "outputs": [
    {
     "data": {
      "text/plain": [
       "(0.9765733480453491, 1.1670058868147737e-27)"
      ]
     },
     "execution_count": 96,
     "metadata": {},
     "output_type": "execute_result"
    }
   ],
   "source": [
    "stat,p = shapiro(data)\n",
    "stat,p"
   ]
  },
  {
   "cell_type": "code",
   "execution_count": 97,
   "metadata": {},
   "outputs": [
    {
     "data": {
      "text/plain": [
       "KstestResult(statistic=0.9999276519560749, pvalue=0.0)"
      ]
     },
     "execution_count": 97,
     "metadata": {},
     "output_type": "execute_result"
    }
   ],
   "source": [
    "kstest(data,'norm')"
   ]
  },
  {
   "cell_type": "code",
   "execution_count": 98,
   "metadata": {},
   "outputs": [
    {
     "data": {
      "text/plain": [
       "(array([  2.,   0.,   0.,   2.,   0.,   4.,   1.,   5.,   9.,   7.,  24.,\n",
       "         51.,  27.,  28.,  31.,  71.,  88., 224., 184., 155., 194., 188.,\n",
       "        281., 515., 236., 308., 241., 232., 202., 384., 194., 123., 153.,\n",
       "         93.,  93., 154.,  56.,  56.,  52.,  35.,  32.,  40.,  18.,  16.,\n",
       "         17.,   6.,  21.,  14.,   2.,   5.,   4.,   8.,   2.,   3.,   1.,\n",
       "          2.,   0.,   0.,   0.,   2.,   0.,   0.,   0.,   0.,   0.,   0.,\n",
       "          0.,   0.,   1.,   0.,   0.,   0.,   0.,   0.,   0.,   0.,   0.,\n",
       "          0.,   0.,   0.,   0.,   0.,   0.,   0.,   0.,   0.,   0.,   0.,\n",
       "          1.]),\n",
       " array([ 3.8       ,  3.91685393,  4.03370787,  4.1505618 ,  4.26741573,\n",
       "         4.38426966,  4.5011236 ,  4.61797753,  4.73483146,  4.85168539,\n",
       "         4.96853933,  5.08539326,  5.20224719,  5.31910112,  5.43595506,\n",
       "         5.55280899,  5.66966292,  5.78651685,  5.90337079,  6.02022472,\n",
       "         6.13707865,  6.25393258,  6.37078652,  6.48764045,  6.60449438,\n",
       "         6.72134831,  6.83820225,  6.95505618,  7.07191011,  7.18876404,\n",
       "         7.30561798,  7.42247191,  7.53932584,  7.65617978,  7.77303371,\n",
       "         7.88988764,  8.00674157,  8.12359551,  8.24044944,  8.35730337,\n",
       "         8.4741573 ,  8.59101124,  8.70786517,  8.8247191 ,  8.94157303,\n",
       "         9.05842697,  9.1752809 ,  9.29213483,  9.40898876,  9.5258427 ,\n",
       "         9.64269663,  9.75955056,  9.87640449,  9.99325843, 10.11011236,\n",
       "        10.22696629, 10.34382022, 10.46067416, 10.57752809, 10.69438202,\n",
       "        10.81123596, 10.92808989, 11.04494382, 11.16179775, 11.27865169,\n",
       "        11.39550562, 11.51235955, 11.62921348, 11.74606742, 11.86292135,\n",
       "        11.97977528, 12.09662921, 12.21348315, 12.33033708, 12.44719101,\n",
       "        12.56404494, 12.68089888, 12.79775281, 12.91460674, 13.03146067,\n",
       "        13.14831461, 13.26516854, 13.38202247, 13.4988764 , 13.61573034,\n",
       "        13.73258427, 13.8494382 , 13.96629213, 14.08314607, 14.2       ]),\n",
       " <a list of 89 Patch objects>)"
      ]
     },
     "execution_count": 98,
     "metadata": {},
     "output_type": "execute_result"
    },
    {
     "data": {
      "image/png": "[encoded data removed]",
      "text/plain": [
       "<Figure size 432x288 with 1 Axes>"
      ]
     },
     "metadata": {
      "needs_background": "light"
     },
     "output_type": "display_data"
    }
   ],
   "source": [
    "plt.hist(data,bins=shared_bins)"
   ]
  },
  {
   "cell_type": "code",
   "execution_count": 99,
   "metadata": {},
   "outputs": [
    {
     "name": "stdout",
     "output_type": "stream",
     "text": [
      "0.27824111882400976\n",
      "0.10078425854188974\n"
     ]
    }
   ],
   "source": [
    "data=wd['volatile acidity'].values\n",
    "shared_bins = np.histogram_bin_edges(data,bins='auto')\n",
    "print(np.mean(data))\n",
    "print(np.std(data))"
   ]
  },
  {
   "cell_type": "code",
   "execution_count": 100,
   "metadata": {},
   "outputs": [
    {
     "data": {
      "text/plain": [
       "(0.9045486450195312, 0.0)"
      ]
     },
     "execution_count": 100,
     "metadata": {},
     "output_type": "execute_result"
    }
   ],
   "source": [
    "stat,p = shapiro(data)\n",
    "stat,p\n"
   ]
  },
  {
   "cell_type": "code",
   "execution_count": 101,
   "metadata": {},
   "outputs": [
    {
     "data": {
      "text/plain": [
       "KstestResult(statistic=0.5408168172006574, pvalue=0.0)"
      ]
     },
     "execution_count": 101,
     "metadata": {},
     "output_type": "execute_result"
    }
   ],
   "source": [
    "kstest(data,'norm')"
   ]
  },
  {
   "cell_type": "code",
   "execution_count": 102,
   "metadata": {},
   "outputs": [
    {
     "data": {
      "text/plain": [
       "(array([  6.,  12.,  16.,  81.,  57.,  97., 283., 178., 175., 218., 421.,\n",
       "        220., 261., 481., 223., 271., 163., 350., 188., 141., 230., 105.,\n",
       "         69.,  65., 122.,  59.,  38.,  83.,  29.,  32.,  35.,  17.,  16.,\n",
       "         10.,  18.,  10.,  17.,  13.,   7.,   8.,   7.,  16.,   2.,   7.,\n",
       "          9.,   5.,   4.,   5.,   3.,   0.,   1.,   2.,   2.,   0.,   2.,\n",
       "          0.,   1.,   0.,   0.,   1.,   0.,   0.,   0.,   1.,   1.,   1.,\n",
       "          0.,   0.,   1.,   0.,   0.,   1.,   0.,   0.,   0.,   0.,   0.,\n",
       "          0.,   1.]),\n",
       " array([0.08      , 0.09291139, 0.10582278, 0.11873418, 0.13164557,\n",
       "        0.14455696, 0.15746835, 0.17037975, 0.18329114, 0.19620253,\n",
       "        0.20911392, 0.22202532, 0.23493671, 0.2478481 , 0.26075949,\n",
       "        0.27367089, 0.28658228, 0.29949367, 0.31240506, 0.32531646,\n",
       "        0.33822785, 0.35113924, 0.36405063, 0.37696203, 0.38987342,\n",
       "        0.40278481, 0.4156962 , 0.42860759, 0.44151899, 0.45443038,\n",
       "        0.46734177, 0.48025316, 0.49316456, 0.50607595, 0.51898734,\n",
       "        0.53189873, 0.54481013, 0.55772152, 0.57063291, 0.5835443 ,\n",
       "        0.5964557 , 0.60936709, 0.62227848, 0.63518987, 0.64810127,\n",
       "        0.66101266, 0.67392405, 0.68683544, 0.69974684, 0.71265823,\n",
       "        0.72556962, 0.73848101, 0.75139241, 0.7643038 , 0.77721519,\n",
       "        0.79012658, 0.80303797, 0.81594937, 0.82886076, 0.84177215,\n",
       "        0.85468354, 0.86759494, 0.88050633, 0.89341772, 0.90632911,\n",
       "        0.91924051, 0.9321519 , 0.94506329, 0.95797468, 0.97088608,\n",
       "        0.98379747, 0.99670886, 1.00962025, 1.02253165, 1.03544304,\n",
       "        1.04835443, 1.06126582, 1.07417722, 1.08708861, 1.1       ]),\n",
       " <a list of 79 Patch objects>)"
      ]
     },
     "execution_count": 102,
     "metadata": {},
     "output_type": "execute_result"
    },
    {
     "data": {
      "image/png": "[encoded data removed]",
      "text/plain": [
       "<Figure size 432x288 with 1 Axes>"
      ]
     },
     "metadata": {
      "needs_background": "light"
     },
     "output_type": "display_data"
    }
   ],
   "source": [
    "plt.hist(data,bins=shared_bins)"
   ]
  },
  {
   "cell_type": "code",
   "execution_count": 103,
   "metadata": {},
   "outputs": [
    {
     "name": "stdout",
     "output_type": "stream",
     "text": [
      "0.33419150673744386\n",
      "0.12100744957029214\n"
     ]
    }
   ],
   "source": [
    "data=wd['citric acid'].values\n",
    "shared_bins = np.histogram_bin_edges(data,bins='auto')\n",
    "print(np.mean(data))\n",
    "print(np.std(data))"
   ]
  },
  {
   "cell_type": "code",
   "execution_count": 104,
   "metadata": {},
   "outputs": [
    {
     "data": {
      "text/plain": [
       "(0.9222353100776672, 9.80908925027372e-45)"
      ]
     },
     "execution_count": 104,
     "metadata": {},
     "output_type": "execute_result"
    }
   ],
   "source": [
    "stat,p = shapiro(data)\n",
    "stat,p"
   ]
  },
  {
   "cell_type": "code",
   "execution_count": 105,
   "metadata": {},
   "outputs": [
    {
     "data": {
      "text/plain": [
       "KstestResult(statistic=0.5279035695262004, pvalue=0.0)"
      ]
     },
     "execution_count": 105,
     "metadata": {},
     "output_type": "execute_result"
    }
   ],
   "source": [
    "kstest(data,'norm')"
   ]
  },
  {
   "cell_type": "code",
   "execution_count": 106,
   "metadata": {},
   "outputs": [
    {
     "data": {
      "text/plain": [
       "(array([ 26.,   6.,  14.,   5.,  18.,   4.,  12.,  15.,  19.,  44.,  23.,\n",
       "         33.,  76.,  48., 136., 104.,  83., 317., 219., 498., 223., 307.,\n",
       "        457., 183., 362., 177., 134., 223., 117., 177.,  37., 109.,  51.,\n",
       "         38., 254.,  35.,  48.,  16.,  19.,  33.,  13.,  27.,   6.,   9.,\n",
       "         18.,   6.,  15.,   7.,   7.,   8.,   9.,  10.,  41.,   0.,   0.,\n",
       "          2.,   4.,   2.,   2.,   0.,   0.,   1.,   1.,   0.,   2.,   0.,\n",
       "          0.,   0.,   0.,   0.,   1.,   5.,   0.,   0.,   0.,   0.,   0.,\n",
       "          0.,   0.,   0.,   0.,   0.,   0.,   0.,   0.,   0.,   0.,   1.,\n",
       "          0.,   0.,   0.,   0.,   0.,   0.,   0.,   0.,   0.,   0.,   0.,\n",
       "          0.,   0.,   0.,   0.,   0.,   0.,   0.,   0.,   0.,   0.,   0.,\n",
       "          0.,   0.,   0.,   0.,   0.,   0.,   0.,   1.]),\n",
       " array([0.        , 0.0140678 , 0.02813559, 0.04220339, 0.05627119,\n",
       "        0.07033898, 0.08440678, 0.09847458, 0.11254237, 0.12661017,\n",
       "        0.14067797, 0.15474576, 0.16881356, 0.18288136, 0.19694915,\n",
       "        0.21101695, 0.22508475, 0.23915254, 0.25322034, 0.26728814,\n",
       "        0.28135593, 0.29542373, 0.30949153, 0.32355932, 0.33762712,\n",
       "        0.35169492, 0.36576271, 0.37983051, 0.39389831, 0.4079661 ,\n",
       "        0.4220339 , 0.43610169, 0.45016949, 0.46423729, 0.47830508,\n",
       "        0.49237288, 0.50644068, 0.52050847, 0.53457627, 0.54864407,\n",
       "        0.56271186, 0.57677966, 0.59084746, 0.60491525, 0.61898305,\n",
       "        0.63305085, 0.64711864, 0.66118644, 0.67525424, 0.68932203,\n",
       "        0.70338983, 0.71745763, 0.73152542, 0.74559322, 0.75966102,\n",
       "        0.77372881, 0.78779661, 0.80186441, 0.8159322 , 0.83      ,\n",
       "        0.8440678 , 0.85813559, 0.87220339, 0.88627119, 0.90033898,\n",
       "        0.91440678, 0.92847458, 0.94254237, 0.95661017, 0.97067797,\n",
       "        0.98474576, 0.99881356, 1.01288136, 1.02694915, 1.04101695,\n",
       "        1.05508475, 1.06915254, 1.08322034, 1.09728814, 1.11135593,\n",
       "        1.12542373, 1.13949153, 1.15355932, 1.16762712, 1.18169492,\n",
       "        1.19576271, 1.20983051, 1.22389831, 1.2379661 , 1.2520339 ,\n",
       "        1.26610169, 1.28016949, 1.29423729, 1.30830508, 1.32237288,\n",
       "        1.33644068, 1.35050847, 1.36457627, 1.37864407, 1.39271186,\n",
       "        1.40677966, 1.42084746, 1.43491525, 1.44898305, 1.46305085,\n",
       "        1.47711864, 1.49118644, 1.50525424, 1.51932203, 1.53338983,\n",
       "        1.54745763, 1.56152542, 1.57559322, 1.58966102, 1.60372881,\n",
       "        1.61779661, 1.63186441, 1.6459322 , 1.66      ]),\n",
       " <a list of 118 Patch objects>)"
      ]
     },
     "execution_count": 106,
     "metadata": {},
     "output_type": "execute_result"
    },
    {
     "data": {
      "image/png": "[encoded data removed]",
      "text/plain": [
       "<Figure size 432x288 with 1 Axes>"
      ]
     },
     "metadata": {
      "needs_background": "light"
     },
     "output_type": "display_data"
    }
   ],
   "source": [
    "plt.hist(data,bins=shared_bins)"
   ]
  },
  {
   "cell_type": "code",
   "execution_count": 107,
   "metadata": {},
   "outputs": [
    {
     "name": "stdout",
     "output_type": "stream",
     "text": [
      "6.391414863209474\n",
      "5.071539989333933\n"
     ]
    }
   ],
   "source": [
    "data=wd['residual sugar'].values\n",
    "shared_bins = np.histogram_bin_edges(data,bins='auto')\n",
    "print(np.mean(data))\n",
    "print(np.std(data))"
   ]
  },
  {
   "cell_type": "code",
   "execution_count": 108,
   "metadata": {},
   "outputs": [
    {
     "data": {
      "text/plain": [
       "(0.8845694661140442, 0.0)"
      ]
     },
     "execution_count": 108,
     "metadata": {},
     "output_type": "execute_result"
    }
   ],
   "source": [
    "stat,p = shapiro(data)\n",
    "stat,p"
   ]
  },
  {
   "cell_type": "code",
   "execution_count": 109,
   "metadata": {},
   "outputs": [
    {
     "data": {
      "text/plain": [
       "KstestResult(statistic=0.8294217299886929, pvalue=0.0)"
      ]
     },
     "execution_count": 109,
     "metadata": {},
     "output_type": "execute_result"
    }
   ],
   "source": [
    "kstest(data,'norm')"
   ]
  },
  {
   "cell_type": "code",
   "execution_count": 110,
   "metadata": {
    "scrolled": true
   },
   "outputs": [
    {
     "data": {
      "text/plain": [
       "(array([991., 743., 233., 214., 311., 245., 294., 318., 224., 149., 195.,\n",
       "        177., 175., 152., 143., 103.,  67.,  74.,  43.,  21.,  15.,   2.,\n",
       "          3.,   1.,   0.,   0.,   2.,   0.,   0.,   0.,   0.,   0.,   2.,\n",
       "          0.,   0.,   0.,   0.,   0.,   0.,   0.,   0.,   0.,   0.,   0.,\n",
       "          0.,   0.,   0.,   0.,   0.,   0.,   0.,   0.,   0.,   0.,   0.,\n",
       "          0.,   0.,   0.,   0.,   0.,   0.,   0.,   0.,   0.,   0.,   0.,\n",
       "          0.,   1.]),\n",
       " array([ 0.6       ,  1.55882353,  2.51764706,  3.47647059,  4.43529412,\n",
       "         5.39411765,  6.35294118,  7.31176471,  8.27058824,  9.22941176,\n",
       "        10.18823529, 11.14705882, 12.10588235, 13.06470588, 14.02352941,\n",
       "        14.98235294, 15.94117647, 16.9       , 17.85882353, 18.81764706,\n",
       "        19.77647059, 20.73529412, 21.69411765, 22.65294118, 23.61176471,\n",
       "        24.57058824, 25.52941176, 26.48823529, 27.44705882, 28.40588235,\n",
       "        29.36470588, 30.32352941, 31.28235294, 32.24117647, 33.2       ,\n",
       "        34.15882353, 35.11764706, 36.07647059, 37.03529412, 37.99411765,\n",
       "        38.95294118, 39.91176471, 40.87058824, 41.82941176, 42.78823529,\n",
       "        43.74705882, 44.70588235, 45.66470588, 46.62352941, 47.58235294,\n",
       "        48.54117647, 49.5       , 50.45882353, 51.41764706, 52.37647059,\n",
       "        53.33529412, 54.29411765, 55.25294118, 56.21176471, 57.17058824,\n",
       "        58.12941176, 59.08823529, 60.04705882, 61.00588235, 61.96470588,\n",
       "        62.92352941, 63.88235294, 64.84117647, 65.8       ]),\n",
       " <a list of 68 Patch objects>)"
      ]
     },
     "execution_count": 110,
     "metadata": {},
     "output_type": "execute_result"
    },
    {
     "data": {
      "image/png": "[encoded data removed]",
      "text/plain": [
       "<Figure size 432x288 with 1 Axes>"
      ]
     },
     "metadata": {
      "needs_background": "light"
     },
     "output_type": "display_data"
    }
   ],
   "source": [
    "plt.hist(data,bins=shared_bins)"
   ]
  },
  {
   "cell_type": "code",
   "execution_count": 111,
   "metadata": {},
   "outputs": [
    {
     "name": "stdout",
     "output_type": "stream",
     "text": [
      "6.391414863209474\n",
      "5.071539989333933\n"
     ]
    }
   ],
   "source": [
    "data=wd['residual sugar'].values\n",
    "shared_bins = np.histogram_bin_edges(data,bins='auto')\n",
    "print(np.mean(data))\n",
    "print(np.std(data))"
   ]
  },
  {
   "cell_type": "code",
   "execution_count": 112,
   "metadata": {},
   "outputs": [
    {
     "data": {
      "text/plain": [
       "(0.8845694661140442, 0.0)"
      ]
     },
     "execution_count": 112,
     "metadata": {},
     "output_type": "execute_result"
    }
   ],
   "source": [
    "stat,p = shapiro(data)\n",
    "stat,p"
   ]
  },
  {
   "cell_type": "code",
   "execution_count": 113,
   "metadata": {},
   "outputs": [
    {
     "data": {
      "text/plain": [
       "KstestResult(statistic=0.8294217299886929, pvalue=0.0)"
      ]
     },
     "execution_count": 113,
     "metadata": {},
     "output_type": "execute_result"
    }
   ],
   "source": [
    "kstest(data,'norm')"
   ]
  },
  {
   "cell_type": "code",
   "execution_count": 114,
   "metadata": {
    "scrolled": true
   },
   "outputs": [
    {
     "data": {
      "text/plain": [
       "(array([991., 743., 233., 214., 311., 245., 294., 318., 224., 149., 195.,\n",
       "        177., 175., 152., 143., 103.,  67.,  74.,  43.,  21.,  15.,   2.,\n",
       "          3.,   1.,   0.,   0.,   2.,   0.,   0.,   0.,   0.,   0.,   2.,\n",
       "          0.,   0.,   0.,   0.,   0.,   0.,   0.,   0.,   0.,   0.,   0.,\n",
       "          0.,   0.,   0.,   0.,   0.,   0.,   0.,   0.,   0.,   0.,   0.,\n",
       "          0.,   0.,   0.,   0.,   0.,   0.,   0.,   0.,   0.,   0.,   0.,\n",
       "          0.,   1.]),\n",
       " array([ 0.6       ,  1.55882353,  2.51764706,  3.47647059,  4.43529412,\n",
       "         5.39411765,  6.35294118,  7.31176471,  8.27058824,  9.22941176,\n",
       "        10.18823529, 11.14705882, 12.10588235, 13.06470588, 14.02352941,\n",
       "        14.98235294, 15.94117647, 16.9       , 17.85882353, 18.81764706,\n",
       "        19.77647059, 20.73529412, 21.69411765, 22.65294118, 23.61176471,\n",
       "        24.57058824, 25.52941176, 26.48823529, 27.44705882, 28.40588235,\n",
       "        29.36470588, 30.32352941, 31.28235294, 32.24117647, 33.2       ,\n",
       "        34.15882353, 35.11764706, 36.07647059, 37.03529412, 37.99411765,\n",
       "        38.95294118, 39.91176471, 40.87058824, 41.82941176, 42.78823529,\n",
       "        43.74705882, 44.70588235, 45.66470588, 46.62352941, 47.58235294,\n",
       "        48.54117647, 49.5       , 50.45882353, 51.41764706, 52.37647059,\n",
       "        53.33529412, 54.29411765, 55.25294118, 56.21176471, 57.17058824,\n",
       "        58.12941176, 59.08823529, 60.04705882, 61.00588235, 61.96470588,\n",
       "        62.92352941, 63.88235294, 64.84117647, 65.8       ]),\n",
       " <a list of 68 Patch objects>)"
      ]
     },
     "execution_count": 114,
     "metadata": {},
     "output_type": "execute_result"
    },
    {
     "data": {
      "image/png": "[encoded data removed]",
      "text/plain": [
       "<Figure size 432x288 with 1 Axes>"
      ]
     },
     "metadata": {
      "needs_background": "light"
     },
     "output_type": "display_data"
    }
   ],
   "source": [
    "plt.hist(data,bins=shared_bins)"
   ]
  },
  {
   "cell_type": "code",
   "execution_count": 115,
   "metadata": {},
   "outputs": [
    {
     "name": "stdout",
     "output_type": "stream",
     "text": [
      "0.04577235606369947\n",
      "0.02184573768505638\n"
     ]
    }
   ],
   "source": [
    "data=wd['chlorides'].values\n",
    "shared_bins = np.histogram_bin_edges(data,bins='auto')\n",
    "print(np.mean(data))\n",
    "print(np.std(data))"
   ]
  },
  {
   "cell_type": "code",
   "execution_count": 116,
   "metadata": {},
   "outputs": [
    {
     "data": {
      "text/plain": [
       "(0.5908077955245972, 0.0)"
      ]
     },
     "execution_count": 116,
     "metadata": {},
     "output_type": "execute_result"
    }
   ],
   "source": [
    "stat,p = shapiro(data)\n",
    "stat,p"
   ]
  },
  {
   "cell_type": "code",
   "execution_count": 117,
   "metadata": {},
   "outputs": [
    {
     "data": {
      "text/plain": [
       "KstestResult(statistic=0.5049725145855052, pvalue=0.0)"
      ]
     },
     "execution_count": 117,
     "metadata": {},
     "output_type": "execute_result"
    }
   ],
   "source": [
    "kstest(data,'norm')"
   ]
  },
  {
   "cell_type": "code",
   "execution_count": 118,
   "metadata": {
    "scrolled": true
   },
   "outputs": [
    {
     "data": {
      "text/plain": [
       "(array([  1.,   1.,   1.,   8.,  10.,  10.,  25.,  38.,  20.,  64., 112.,\n",
       "         85., 189., 216., 119., 298., 200., 327., 339., 147., 325., 371.,\n",
       "        181., 345., 303., 115., 234., 160.,  88., 121.,  36.,  65.,  48.,\n",
       "         15.,  26.,  25.,  18.,  11.,   7.,   8.,  11.,   3.,   4.,   6.,\n",
       "          2.,  10.,   7.,   3.,   3.,   3.,   3.,   8.,   8.,   1.,   4.,\n",
       "          0.,   1.,   1.,   1.,   0.,   2.,   3.,   1.,   1.,   1.,   3.,\n",
       "          4.,   1.,   3.,   4.,   0.,   5.,   0.,   1.,   1.,   1.,   1.,\n",
       "          3.,   2.,   0.,   3.,   0.,   2.,   3.,   1.,   2.,   2.,   0.,\n",
       "          1.,   1.,   5.,   2.,   0.,   0.,   0.,   0.,   5.,   4.,   1.,\n",
       "          4.,   4.,   2.,   0.,   1.,   1.,   0.,   2.,   3.,   0.,   0.,\n",
       "          0.,   0.,   1.,   0.,   2.,   0.,   3.,   0.,   1.,   0.,   0.,\n",
       "          3.,   1.,   1.,   0.,   0.,   1.,   0.,   0.,   0.,   0.,   0.,\n",
       "          0.,   0.,   0.,   0.,   0.,   0.,   0.,   1.,   1.,   0.,   1.,\n",
       "          0.,   0.,   0.,   0.,   0.,   0.,   1.,   0.,   0.,   0.,   0.,\n",
       "          0.,   0.,   0.,   0.,   0.,   1.,   0.,   0.,   0.,   0.,   0.,\n",
       "          0.,   0.,   0.,   0.,   0.,   1.,   0.,   0.,   0.,   0.,   0.,\n",
       "          0.,   1.,   0.,   0.,   0.,   0.,   0.,   0.,   0.,   0.,   0.,\n",
       "          0.,   0.,   0.,   0.,   0.,   0.,   0.,   0.,   0.,   0.,   0.,\n",
       "          0.,   0.,   0.,   0.,   0.,   0.,   1.]),\n",
       " array([0.009     , 0.0106439 , 0.0122878 , 0.01393171, 0.01557561,\n",
       "        0.01721951, 0.01886341, 0.02050732, 0.02215122, 0.02379512,\n",
       "        0.02543902, 0.02708293, 0.02872683, 0.03037073, 0.03201463,\n",
       "        0.03365854, 0.03530244, 0.03694634, 0.03859024, 0.04023415,\n",
       "        0.04187805, 0.04352195, 0.04516585, 0.04680976, 0.04845366,\n",
       "        0.05009756, 0.05174146, 0.05338537, 0.05502927, 0.05667317,\n",
       "        0.05831707, 0.05996098, 0.06160488, 0.06324878, 0.06489268,\n",
       "        0.06653659, 0.06818049, 0.06982439, 0.07146829, 0.0731122 ,\n",
       "        0.0747561 , 0.0764    , 0.0780439 , 0.0796878 , 0.08133171,\n",
       "        0.08297561, 0.08461951, 0.08626341, 0.08790732, 0.08955122,\n",
       "        0.09119512, 0.09283902, 0.09448293, 0.09612683, 0.09777073,\n",
       "        0.09941463, 0.10105854, 0.10270244, 0.10434634, 0.10599024,\n",
       "        0.10763415, 0.10927805, 0.11092195, 0.11256585, 0.11420976,\n",
       "        0.11585366, 0.11749756, 0.11914146, 0.12078537, 0.12242927,\n",
       "        0.12407317, 0.12571707, 0.12736098, 0.12900488, 0.13064878,\n",
       "        0.13229268, 0.13393659, 0.13558049, 0.13722439, 0.13886829,\n",
       "        0.1405122 , 0.1421561 , 0.1438    , 0.1454439 , 0.1470878 ,\n",
       "        0.14873171, 0.15037561, 0.15201951, 0.15366341, 0.15530732,\n",
       "        0.15695122, 0.15859512, 0.16023902, 0.16188293, 0.16352683,\n",
       "        0.16517073, 0.16681463, 0.16845854, 0.17010244, 0.17174634,\n",
       "        0.17339024, 0.17503415, 0.17667805, 0.17832195, 0.17996585,\n",
       "        0.18160976, 0.18325366, 0.18489756, 0.18654146, 0.18818537,\n",
       "        0.18982927, 0.19147317, 0.19311707, 0.19476098, 0.19640488,\n",
       "        0.19804878, 0.19969268, 0.20133659, 0.20298049, 0.20462439,\n",
       "        0.20626829, 0.2079122 , 0.2095561 , 0.2112    , 0.2128439 ,\n",
       "        0.2144878 , 0.21613171, 0.21777561, 0.21941951, 0.22106341,\n",
       "        0.22270732, 0.22435122, 0.22599512, 0.22763902, 0.22928293,\n",
       "        0.23092683, 0.23257073, 0.23421463, 0.23585854, 0.23750244,\n",
       "        0.23914634, 0.24079024, 0.24243415, 0.24407805, 0.24572195,\n",
       "        0.24736585, 0.24900976, 0.25065366, 0.25229756, 0.25394146,\n",
       "        0.25558537, 0.25722927, 0.25887317, 0.26051707, 0.26216098,\n",
       "        0.26380488, 0.26544878, 0.26709268, 0.26873659, 0.27038049,\n",
       "        0.27202439, 0.27366829, 0.2753122 , 0.2769561 , 0.2786    ,\n",
       "        0.2802439 , 0.2818878 , 0.28353171, 0.28517561, 0.28681951,\n",
       "        0.28846341, 0.29010732, 0.29175122, 0.29339512, 0.29503902,\n",
       "        0.29668293, 0.29832683, 0.29997073, 0.30161463, 0.30325854,\n",
       "        0.30490244, 0.30654634, 0.30819024, 0.30983415, 0.31147805,\n",
       "        0.31312195, 0.31476585, 0.31640976, 0.31805366, 0.31969756,\n",
       "        0.32134146, 0.32298537, 0.32462927, 0.32627317, 0.32791707,\n",
       "        0.32956098, 0.33120488, 0.33284878, 0.33449268, 0.33613659,\n",
       "        0.33778049, 0.33942439, 0.34106829, 0.3427122 , 0.3443561 ,\n",
       "        0.346     ]),\n",
       " <a list of 205 Patch objects>)"
      ]
     },
     "execution_count": 118,
     "metadata": {},
     "output_type": "execute_result"
    },
    {
     "data": {
      "image/png": "[encoded data removed]",
      "text/plain": [
       "<Figure size 432x288 with 1 Axes>"
      ]
     },
     "metadata": {
      "needs_background": "light"
     },
     "output_type": "display_data"
    }
   ],
   "source": [
    "plt.hist(data,bins=shared_bins)"
   ]
  },
  {
   "cell_type": "code",
   "execution_count": 119,
   "metadata": {},
   "outputs": [
    {
     "name": "stdout",
     "output_type": "stream",
     "text": [
      "35.30808493262556\n",
      "17.005401105808414\n"
     ]
    }
   ],
   "source": [
    "data=wd['free sulfur dioxide'].values\n",
    "shared_bins = np.histogram_bin_edges(data,bins='auto')\n",
    "print(np.mean(data))\n",
    "print(np.std(data))"
   ]
  },
  {
   "cell_type": "code",
   "execution_count": 120,
   "metadata": {},
   "outputs": [
    {
     "data": {
      "text/plain": [
       "(0.942058801651001, 3.83382648153091e-40)"
      ]
     },
     "execution_count": 120,
     "metadata": {},
     "output_type": "execute_result"
    }
   ],
   "source": [
    "stat,p = shapiro(data)\n",
    "stat,p"
   ]
  },
  {
   "cell_type": "code",
   "execution_count": 121,
   "metadata": {},
   "outputs": [
    {
     "data": {
      "text/plain": [
       "KstestResult(statistic=0.9984459370030779, pvalue=0.0)"
      ]
     },
     "execution_count": 121,
     "metadata": {},
     "output_type": "execute_result"
    }
   ],
   "source": [
    "kstest(data,'norm')"
   ]
  },
  {
   "cell_type": "code",
   "execution_count": 122,
   "metadata": {
    "scrolled": true
   },
   "outputs": [
    {
     "data": {
      "text/plain": [
       "(array([ 22.,  82., 119.,  97., 203., 227., 186., 306., 358., 372., 232.,\n",
       "        349., 369., 193., 297., 244., 221., 155., 199., 161.,  81., 129.,\n",
       "         82.,  32.,  63.,  23.,  24.,  11.,  11.,  14.,   2.,   7.,   1.,\n",
       "          1.,   4.,   4.,   2.,   0.,   2.,   4.,   1.,   0.,   0.,   1.,\n",
       "          1.,   1.,   1.,   1.,   0.,   0.,   1.,   0.,   0.,   1.,   0.,\n",
       "          0.,   0.,   0.,   0.,   0.,   0.,   0.,   0.,   0.,   0.,   0.,\n",
       "          0.,   0.,   0.,   0.,   0.,   0.,   0.,   0.,   0.,   0.,   0.,\n",
       "          0.,   0.,   0.,   0.,   0.,   0.,   0.,   0.,   0.,   0.,   0.,\n",
       "          0.,   0.,   0.,   0.,   0.,   0.,   0.,   0.,   0.,   0.,   0.,\n",
       "          0.,   0.,   0.,   0.,   0.,   0.,   1.]),\n",
       " array([  2.        ,   4.70754717,   7.41509434,  10.12264151,\n",
       "         12.83018868,  15.53773585,  18.24528302,  20.95283019,\n",
       "         23.66037736,  26.36792453,  29.0754717 ,  31.78301887,\n",
       "         34.49056604,  37.19811321,  39.90566038,  42.61320755,\n",
       "         45.32075472,  48.02830189,  50.73584906,  53.44339623,\n",
       "         56.1509434 ,  58.85849057,  61.56603774,  64.27358491,\n",
       "         66.98113208,  69.68867925,  72.39622642,  75.10377358,\n",
       "         77.81132075,  80.51886792,  83.22641509,  85.93396226,\n",
       "         88.64150943,  91.3490566 ,  94.05660377,  96.76415094,\n",
       "         99.47169811, 102.17924528, 104.88679245, 107.59433962,\n",
       "        110.30188679, 113.00943396, 115.71698113, 118.4245283 ,\n",
       "        121.13207547, 123.83962264, 126.54716981, 129.25471698,\n",
       "        131.96226415, 134.66981132, 137.37735849, 140.08490566,\n",
       "        142.79245283, 145.5       , 148.20754717, 150.91509434,\n",
       "        153.62264151, 156.33018868, 159.03773585, 161.74528302,\n",
       "        164.45283019, 167.16037736, 169.86792453, 172.5754717 ,\n",
       "        175.28301887, 177.99056604, 180.69811321, 183.40566038,\n",
       "        186.11320755, 188.82075472, 191.52830189, 194.23584906,\n",
       "        196.94339623, 199.6509434 , 202.35849057, 205.06603774,\n",
       "        207.77358491, 210.48113208, 213.18867925, 215.89622642,\n",
       "        218.60377358, 221.31132075, 224.01886792, 226.72641509,\n",
       "        229.43396226, 232.14150943, 234.8490566 , 237.55660377,\n",
       "        240.26415094, 242.97169811, 245.67924528, 248.38679245,\n",
       "        251.09433962, 253.80188679, 256.50943396, 259.21698113,\n",
       "        261.9245283 , 264.63207547, 267.33962264, 270.04716981,\n",
       "        272.75471698, 275.46226415, 278.16981132, 280.87735849,\n",
       "        283.58490566, 286.29245283, 289.        ]),\n",
       " <a list of 106 Patch objects>)"
      ]
     },
     "execution_count": 122,
     "metadata": {},
     "output_type": "execute_result"
    },
    {
     "data": {
      "image/png": "[encoded data removed]",
      "text/plain": [
       "<Figure size 432x288 with 1 Axes>"
      ]
     },
     "metadata": {
      "needs_background": "light"
     },
     "output_type": "display_data"
    }
   ],
   "source": [
    "plt.hist(data,bins=shared_bins)"
   ]
  },
  {
   "cell_type": "code",
   "execution_count": 123,
   "metadata": {},
   "outputs": [
    {
     "name": "stdout",
     "output_type": "stream",
     "text": [
      "138.36065741118824\n",
      "42.49372602475034\n"
     ]
    }
   ],
   "source": [
    "data=wd['total sulfur dioxide'].values\n",
    "shared_bins = np.histogram_bin_edges(data,bins='auto')\n",
    "print(np.mean(data))\n",
    "print(np.std(data))"
   ]
  },
  {
   "cell_type": "code",
   "execution_count": 124,
   "metadata": {},
   "outputs": [
    {
     "data": {
      "text/plain": [
       "(0.9890115857124329, 4.355319441087306e-19)"
      ]
     },
     "execution_count": 124,
     "metadata": {},
     "output_type": "execute_result"
    }
   ],
   "source": [
    "stat,p = shapiro(data)\n",
    "stat,p"
   ]
  },
  {
   "cell_type": "code",
   "execution_count": 125,
   "metadata": {},
   "outputs": [
    {
     "data": {
      "text/plain": [
       "KstestResult(statistic=1.0, pvalue=0.0)"
      ]
     },
     "execution_count": 125,
     "metadata": {},
     "output_type": "execute_result"
    }
   ],
   "source": [
    "kstest(data,'norm')"
   ]
  },
  {
   "cell_type": "code",
   "execution_count": 126,
   "metadata": {
    "scrolled": true
   },
   "outputs": [
    {
     "data": {
      "text/plain": [
       "(array([  2.,   4.,  11.,   6.,  10.,  16.,  19.,  41.,  65., 115., 137.,\n",
       "        174., 203., 282., 303., 351., 315., 316., 248., 264., 290., 248.,\n",
       "        227., 223., 197., 159., 153., 128.,  85.,  97.,  58.,  40.,  39.,\n",
       "         23.,  22.,  13.,   4.,   0.,   2.,   1.,   0.,   1.,   1.,   1.,\n",
       "          1.,   0.,   0.,   0.,   1.,   0.,   0.,   0.,   1.,   0.,   0.,\n",
       "          0.,   0.,   0.,   0.,   0.,   0.,   0.,   1.]),\n",
       " array([  9.        ,  15.84126984,  22.68253968,  29.52380952,\n",
       "         36.36507937,  43.20634921,  50.04761905,  56.88888889,\n",
       "         63.73015873,  70.57142857,  77.41269841,  84.25396825,\n",
       "         91.0952381 ,  97.93650794, 104.77777778, 111.61904762,\n",
       "        118.46031746, 125.3015873 , 132.14285714, 138.98412698,\n",
       "        145.82539683, 152.66666667, 159.50793651, 166.34920635,\n",
       "        173.19047619, 180.03174603, 186.87301587, 193.71428571,\n",
       "        200.55555556, 207.3968254 , 214.23809524, 221.07936508,\n",
       "        227.92063492, 234.76190476, 241.6031746 , 248.44444444,\n",
       "        255.28571429, 262.12698413, 268.96825397, 275.80952381,\n",
       "        282.65079365, 289.49206349, 296.33333333, 303.17460317,\n",
       "        310.01587302, 316.85714286, 323.6984127 , 330.53968254,\n",
       "        337.38095238, 344.22222222, 351.06349206, 357.9047619 ,\n",
       "        364.74603175, 371.58730159, 378.42857143, 385.26984127,\n",
       "        392.11111111, 398.95238095, 405.79365079, 412.63492063,\n",
       "        419.47619048, 426.31746032, 433.15873016, 440.        ]),\n",
       " <a list of 63 Patch objects>)"
      ]
     },
     "execution_count": 126,
     "metadata": {},
     "output_type": "execute_result"
    },
    {
     "data": {
      "image/png": "[encoded data removed]",
      "text/plain": [
       "<Figure size 432x288 with 1 Axes>"
      ]
     },
     "metadata": {
      "needs_background": "light"
     },
     "output_type": "display_data"
    }
   ],
   "source": [
    "plt.hist(data,bins=shared_bins)"
   ]
  },
  {
   "cell_type": "code",
   "execution_count": 127,
   "metadata": {},
   "outputs": [
    {
     "name": "stdout",
     "output_type": "stream",
     "text": [
      "0.9940273764801959\n",
      "0.0029906015821480306\n"
     ]
    }
   ],
   "source": [
    "data=wd['density'].values\n",
    "shared_bins = np.histogram_bin_edges(data,bins='auto')\n",
    "print(np.mean(data))\n",
    "print(np.std(data))"
   ]
  },
  {
   "cell_type": "code",
   "execution_count": 128,
   "metadata": {},
   "outputs": [
    {
     "data": {
      "text/plain": [
       "(0.9548046588897705, 1.7806248018391963e-36)"
      ]
     },
     "execution_count": 128,
     "metadata": {},
     "output_type": "execute_result"
    }
   ],
   "source": [
    "stat,p = shapiro(data)\n",
    "stat,p"
   ]
  },
  {
   "cell_type": "code",
   "execution_count": 129,
   "metadata": {},
   "outputs": [
    {
     "data": {
      "text/plain": [
       "KstestResult(statistic=0.8382056420155723, pvalue=0.0)"
      ]
     },
     "execution_count": 129,
     "metadata": {},
     "output_type": "execute_result"
    }
   ],
   "source": [
    "kstest(data,'norm')"
   ]
  },
  {
   "cell_type": "code",
   "execution_count": 130,
   "metadata": {
    "scrolled": true
   },
   "outputs": [
    {
     "data": {
      "text/plain": [
       "(array([  9.,   5.,  23.,  66., 155., 164., 242., 272., 293., 331., 290.,\n",
       "        342., 264., 280., 284., 237., 318., 182., 182., 162., 187., 236.,\n",
       "        117.,  86.,  76.,  61.,  13.,  10.,   4.,   2.,   2.,   0.,   0.,\n",
       "          0.,   0.,   0.,   0.,   0.,   0.,   0.,   0.,   0.,   0.,   0.,\n",
       "          0.,   2.,   0.,   0.,   0.,   0.,   0.,   0.,   0.,   0.,   0.,\n",
       "          0.,   0.,   0.,   0.,   0.,   0.,   0.,   0.,   0.,   0.,   0.,\n",
       "          0.,   0.,   0.,   0.,   0.,   0.,   0.,   0.,   0.,   0.,   0.,\n",
       "          0.,   0.,   0.,   0.,   0.,   0.,   0.,   0.,   0.,   0.,   0.,\n",
       "          0.,   0.,   0.,   0.,   0.,   0.,   0.,   0.,   0.,   0.,   0.,\n",
       "          0.,   1.]),\n",
       " array([0.98711   , 0.98762356, 0.98813713, 0.98865069, 0.98916426,\n",
       "        0.98967782, 0.99019139, 0.99070495, 0.99121851, 0.99173208,\n",
       "        0.99224564, 0.99275921, 0.99327277, 0.99378634, 0.9942999 ,\n",
       "        0.99481347, 0.99532703, 0.99584059, 0.99635416, 0.99686772,\n",
       "        0.99738129, 0.99789485, 0.99840842, 0.99892198, 0.99943554,\n",
       "        0.99994911, 1.00046267, 1.00097624, 1.0014898 , 1.00200337,\n",
       "        1.00251693, 1.0030305 , 1.00354406, 1.00405762, 1.00457119,\n",
       "        1.00508475, 1.00559832, 1.00611188, 1.00662545, 1.00713901,\n",
       "        1.00765257, 1.00816614, 1.0086797 , 1.00919327, 1.00970683,\n",
       "        1.0102204 , 1.01073396, 1.01124752, 1.01176109, 1.01227465,\n",
       "        1.01278822, 1.01330178, 1.01381535, 1.01432891, 1.01484248,\n",
       "        1.01535604, 1.0158696 , 1.01638317, 1.01689673, 1.0174103 ,\n",
       "        1.01792386, 1.01843743, 1.01895099, 1.01946455, 1.01997812,\n",
       "        1.02049168, 1.02100525, 1.02151881, 1.02203238, 1.02254594,\n",
       "        1.0230595 , 1.02357307, 1.02408663, 1.0246002 , 1.02511376,\n",
       "        1.02562733, 1.02614089, 1.02665446, 1.02716802, 1.02768158,\n",
       "        1.02819515, 1.02870871, 1.02922228, 1.02973584, 1.03024941,\n",
       "        1.03076297, 1.03127653, 1.0317901 , 1.03230366, 1.03281723,\n",
       "        1.03333079, 1.03384436, 1.03435792, 1.03487149, 1.03538505,\n",
       "        1.03589861, 1.03641218, 1.03692574, 1.03743931, 1.03795287,\n",
       "        1.03846644, 1.03898   ]),\n",
       " <a list of 101 Patch objects>)"
      ]
     },
     "execution_count": 130,
     "metadata": {},
     "output_type": "execute_result"
    },
    {
     "data": {
      "image/png": "[encoded data removed]",
      "text/plain": [
       "<Figure size 432x288 with 1 Axes>"
      ]
     },
     "metadata": {
      "needs_background": "light"
     },
     "output_type": "display_data"
    }
   ],
   "source": [
    "plt.hist(data,bins=shared_bins)"
   ]
  },
  {
   "cell_type": "code",
   "execution_count": 131,
   "metadata": {},
   "outputs": [
    {
     "name": "stdout",
     "output_type": "stream",
     "text": [
      "3.1882666394446715\n",
      "0.15098518431212068\n"
     ]
    }
   ],
   "source": [
    "data=wd['pH'].values\n",
    "shared_bins = np.histogram_bin_edges(data,bins='auto')\n",
    "print(np.mean(data))\n",
    "print(np.std(data))"
   ]
  },
  {
   "cell_type": "code",
   "execution_count": 132,
   "metadata": {},
   "outputs": [
    {
     "data": {
      "text/plain": [
       "(0.9881061911582947, 6.633951677288629e-20)"
      ]
     },
     "execution_count": 132,
     "metadata": {},
     "output_type": "execute_result"
    }
   ],
   "source": [
    "stat,p = shapiro(data)\n",
    "stat,p"
   ]
  },
  {
   "cell_type": "code",
   "execution_count": 133,
   "metadata": {},
   "outputs": [
    {
     "data": {
      "text/plain": [
       "KstestResult(statistic=0.9967888554366511, pvalue=0.0)"
      ]
     },
     "execution_count": 133,
     "metadata": {},
     "output_type": "execute_result"
    }
   ],
   "source": [
    "kstest(data,'norm')"
   ]
  },
  {
   "cell_type": "code",
   "execution_count": 134,
   "metadata": {
    "scrolled": true
   },
   "outputs": [
    {
     "data": {
      "text/plain": [
       "(array([  2.,   0.,   1.,   6.,   1.,  14.,  18.,  28.,  46.,  56., 124.,\n",
       "         73., 142., 117., 175., 283., 228., 261., 251., 308., 426., 282.,\n",
       "        241., 248., 210., 257., 172., 135., 127., 132., 137.,  78.,  53.,\n",
       "         45.,  42.,  52.,  30.,  23.,  13.,  11.,  11.,   8.,   9.,   3.,\n",
       "          3.,   3.,   4.,   4.,   1.,   4.]),\n",
       " array([2.72 , 2.742, 2.764, 2.786, 2.808, 2.83 , 2.852, 2.874, 2.896,\n",
       "        2.918, 2.94 , 2.962, 2.984, 3.006, 3.028, 3.05 , 3.072, 3.094,\n",
       "        3.116, 3.138, 3.16 , 3.182, 3.204, 3.226, 3.248, 3.27 , 3.292,\n",
       "        3.314, 3.336, 3.358, 3.38 , 3.402, 3.424, 3.446, 3.468, 3.49 ,\n",
       "        3.512, 3.534, 3.556, 3.578, 3.6  , 3.622, 3.644, 3.666, 3.688,\n",
       "        3.71 , 3.732, 3.754, 3.776, 3.798, 3.82 ]),\n",
       " <a list of 50 Patch objects>)"
      ]
     },
     "execution_count": 134,
     "metadata": {},
     "output_type": "execute_result"
    },
    {
     "data": {
      "image/png": "[encoded data removed]",
      "text/plain": [
       "<Figure size 432x288 with 1 Axes>"
      ]
     },
     "metadata": {
      "needs_background": "light"
     },
     "output_type": "display_data"
    }
   ],
   "source": [
    "plt.hist(data,bins=shared_bins)"
   ]
  },
  {
   "cell_type": "code",
   "execution_count": 135,
   "metadata": {},
   "outputs": [
    {
     "name": "stdout",
     "output_type": "stream",
     "text": [
      "0.48984687627603113\n",
      "0.1141141831056649\n"
     ]
    }
   ],
   "source": [
    "data=wd['sulphates'].values\n",
    "shared_bins = np.histogram_bin_edges(data,bins='auto')\n",
    "print(np.mean(data))\n",
    "print(np.std(data))"
   ]
  },
  {
   "cell_type": "code",
   "execution_count": 136,
   "metadata": {},
   "outputs": [
    {
     "data": {
      "text/plain": [
       "(0.951604425907135, 1.8156972845314579e-37)"
      ]
     },
     "execution_count": 136,
     "metadata": {},
     "output_type": "execute_result"
    }
   ],
   "source": [
    "stat,p = shapiro(data)\n",
    "stat,p"
   ]
  },
  {
   "cell_type": "code",
   "execution_count": 137,
   "metadata": {},
   "outputs": [
    {
     "data": {
      "text/plain": [
       "KstestResult(statistic=0.6072948439937709, pvalue=0.0)"
      ]
     },
     "execution_count": 137,
     "metadata": {},
     "output_type": "execute_result"
    }
   ],
   "source": [
    "kstest(data,'norm')"
   ]
  },
  {
   "cell_type": "code",
   "execution_count": 138,
   "metadata": {
    "scrolled": true
   },
   "outputs": [
    {
     "data": {
      "text/plain": [
       "(array([  2.,   4.,   4.,  26.,  47.,  35., 113.,  84., 205., 343., 151.,\n",
       "        307., 342., 216., 403., 172., 345., 389., 156., 302., 210.,  83.,\n",
       "        196.,  88., 113., 115.,  28.,  71.,  74.,  27.,  51.,  12.,  41.,\n",
       "         35.,  19.,  21.,  18.,   2.,   7.,   2.,   9.,   6.,   0.,   2.,\n",
       "          7.,   3.,   7.,   1.,   2.,   0.,   0.,   1.,   1.]),\n",
       " array([0.22      , 0.23622642, 0.25245283, 0.26867925, 0.28490566,\n",
       "        0.30113208, 0.31735849, 0.33358491, 0.34981132, 0.36603774,\n",
       "        0.38226415, 0.39849057, 0.41471698, 0.4309434 , 0.44716981,\n",
       "        0.46339623, 0.47962264, 0.49584906, 0.51207547, 0.52830189,\n",
       "        0.5445283 , 0.56075472, 0.57698113, 0.59320755, 0.60943396,\n",
       "        0.62566038, 0.64188679, 0.65811321, 0.67433962, 0.69056604,\n",
       "        0.70679245, 0.72301887, 0.73924528, 0.7554717 , 0.77169811,\n",
       "        0.78792453, 0.80415094, 0.82037736, 0.83660377, 0.85283019,\n",
       "        0.8690566 , 0.88528302, 0.90150943, 0.91773585, 0.93396226,\n",
       "        0.95018868, 0.96641509, 0.98264151, 0.99886792, 1.01509434,\n",
       "        1.03132075, 1.04754717, 1.06377358, 1.08      ]),\n",
       " <a list of 53 Patch objects>)"
      ]
     },
     "execution_count": 138,
     "metadata": {},
     "output_type": "execute_result"
    },
    {
     "data": {
      "image/png": "[encoded data removed]",
      "text/plain": [
       "<Figure size 432x288 with 1 Axes>"
      ]
     },
     "metadata": {
      "needs_background": "light"
     },
     "output_type": "display_data"
    }
   ],
   "source": [
    "plt.hist(data,bins=shared_bins)"
   ]
  },
  {
   "cell_type": "code",
   "execution_count": 139,
   "metadata": {},
   "outputs": [
    {
     "name": "stdout",
     "output_type": "stream",
     "text": [
      "10.51426704777011\n",
      "1.2304949365368165\n"
     ]
    }
   ],
   "source": [
    "data=wd['alcohol'].values\n",
    "shared_bins = np.histogram_bin_edges(data,bins='auto')\n",
    "print(np.mean(data))\n",
    "print(np.std(data))"
   ]
  },
  {
   "cell_type": "code",
   "execution_count": 140,
   "metadata": {},
   "outputs": [
    {
     "data": {
      "text/plain": [
       "(0.955296516418457, 2.5578040326544056e-36)"
      ]
     },
     "execution_count": 140,
     "metadata": {},
     "output_type": "execute_result"
    }
   ],
   "source": [
    "stat,p = shapiro(data)\n",
    "stat,p"
   ]
  },
  {
   "cell_type": "code",
   "execution_count": 141,
   "metadata": {},
   "outputs": [
    {
     "data": {
      "text/plain": [
       "KstestResult(statistic=0.9999999999999993, pvalue=0.0)"
      ]
     },
     "execution_count": 141,
     "metadata": {},
     "output_type": "execute_result"
    }
   ],
   "source": [
    "kstest(data,'norm')"
   ]
  },
  {
   "cell_type": "code",
   "execution_count": 142,
   "metadata": {},
   "outputs": [
    {
     "data": {
      "text/plain": [
       "(array([  2.,   3.,  32., 185., 424., 333., 460., 239., 245., 412., 238.,\n",
       "        281., 231., 255., 297., 220., 111., 117., 243., 132., 146., 113.,\n",
       "         78.,  40.,  32.,  17.,   5.,   7.]),\n",
       " array([ 8.        ,  8.22142857,  8.44285714,  8.66428571,  8.88571429,\n",
       "         9.10714286,  9.32857143,  9.55      ,  9.77142857,  9.99285714,\n",
       "        10.21428571, 10.43571429, 10.65714286, 10.87857143, 11.1       ,\n",
       "        11.32142857, 11.54285714, 11.76428571, 11.98571429, 12.20714286,\n",
       "        12.42857143, 12.65      , 12.87142857, 13.09285714, 13.31428571,\n",
       "        13.53571429, 13.75714286, 13.97857143, 14.2       ]),\n",
       " <a list of 28 Patch objects>)"
      ]
     },
     "execution_count": 142,
     "metadata": {},
     "output_type": "execute_result"
    },
    {
     "data": {
      "image/png": "[encoded data removed]",
      "text/plain": [
       "<Figure size 432x288 with 1 Axes>"
      ]
     },
     "metadata": {
      "needs_background": "light"
     },
     "output_type": "display_data"
    }
   ],
   "source": [
    "plt.hist(data, bins=shared_bins)"
   ]
  },
  {
   "cell_type": "code",
   "execution_count": 143,
   "metadata": {
    "scrolled": true
   },
   "outputs": [
    {
     "data": {
      "text/plain": [
       "(array([  20.,    0.,    0.,    0.,    0.,    0.,    0.,    0.,  163.,\n",
       "           0.,    0.,    0.,    0.,    0.,    0.,    0.,    0., 1457.,\n",
       "           0.,    0.,    0.,    0.,    0.,    0.,    0., 2198.,    0.,\n",
       "           0.,    0.,    0.,    0.,    0.,    0.,    0.,  880.,    0.,\n",
       "           0.,    0.,    0.,    0.,    0.,    0.,  175.,    0.,    0.,\n",
       "           0.,    0.,    0.,    0.,    0.,    5.]),\n",
       " array([3.        , 3.11764706, 3.23529412, 3.35294118, 3.47058824,\n",
       "        3.58823529, 3.70588235, 3.82352941, 3.94117647, 4.05882353,\n",
       "        4.17647059, 4.29411765, 4.41176471, 4.52941176, 4.64705882,\n",
       "        4.76470588, 4.88235294, 5.        , 5.11764706, 5.23529412,\n",
       "        5.35294118, 5.47058824, 5.58823529, 5.70588235, 5.82352941,\n",
       "        5.94117647, 6.05882353, 6.17647059, 6.29411765, 6.41176471,\n",
       "        6.52941176, 6.64705882, 6.76470588, 6.88235294, 7.        ,\n",
       "        7.11764706, 7.23529412, 7.35294118, 7.47058824, 7.58823529,\n",
       "        7.70588235, 7.82352941, 7.94117647, 8.05882353, 8.17647059,\n",
       "        8.29411765, 8.41176471, 8.52941176, 8.64705882, 8.76470588,\n",
       "        8.88235294, 9.        ]),\n",
       " <a list of 51 Patch objects>)"
      ]
     },
     "execution_count": 143,
     "metadata": {},
     "output_type": "execute_result"
    },
    {
     "data": {
      "image/png": "[encoded data removed]",
      "text/plain": [
       "<Figure size 432x288 with 12 Axes>"
      ]
     },
     "metadata": {
      "needs_background": "light"
     },
     "output_type": "display_data"
    }
   ],
   "source": [
    "plt.subplot(3,4,1)\n",
    "data=wd['fixed acidity'].values\n",
    "shared_bins = np.histogram_bin_edges(data,bins='auto')\n",
    "plt.hist(data, bins=shared_bins)\n",
    "\n",
    "plt.subplot(3,4,2)\n",
    "data=wd['volatile acidity'].values\n",
    "shared_bins = np.histogram_bin_edges(data,bins='auto')\n",
    "plt.hist(data, bins=shared_bins)\n",
    "\n",
    "plt.subplot(3,4,3)\n",
    "data=wd['citric acid'].values\n",
    "shared_bins = np.histogram_bin_edges(data,bins='auto')\n",
    "plt.hist(data, bins=shared_bins)\n",
    "\n",
    "plt.subplot(3,4,4)\n",
    "data=wd['residual sugar'].values\n",
    "shared_bins = np.histogram_bin_edges(data,bins='auto')\n",
    "plt.hist(data, bins=shared_bins)\n",
    "\n",
    "plt.subplot(3,4,5)\n",
    "data=wd['chlorides'].values\n",
    "shared_bins = np.histogram_bin_edges(data,bins='auto')\n",
    "plt.hist(data, bins=shared_bins)\n",
    "\n",
    "plt.subplot(3,4,6)\n",
    "data=wd['free sulfur dioxide'].values\n",
    "shared_bins = np.histogram_bin_edges(data,bins='auto')\n",
    "plt.hist(data, bins=shared_bins)\n",
    "\n",
    "plt.subplot(3,4,7)\n",
    "data=wd['total sulfur dioxide'].values\n",
    "shared_bins = np.histogram_bin_edges(data,bins='auto')\n",
    "plt.hist(data, bins=shared_bins)\n",
    "\n",
    "plt.subplot(3,4,8)\n",
    "data=wd['density'].values\n",
    "shared_bins = np.histogram_bin_edges(data,bins='auto')\n",
    "plt.hist(data, bins=shared_bins)\n",
    "\n",
    "plt.subplot(3,4,9)\n",
    "data=wd['pH'].values\n",
    "shared_bins = np.histogram_bin_edges(data,bins='auto')\n",
    "plt.hist(data, bins=shared_bins)\n",
    "\n",
    "plt.subplot(3,4,10)\n",
    "data=wd['sulphates'].values\n",
    "shared_bins = np.histogram_bin_edges(data,bins='auto')\n",
    "plt.hist(data, bins=shared_bins)\n",
    "\n",
    "plt.subplot(3,4,11)\n",
    "data=wd['alcohol'].values\n",
    "shared_bins = np.histogram_bin_edges(data,bins='auto')\n",
    "plt.hist(data, bins=shared_bins)\n",
    "\n",
    "plt.subplot(3,4,12)\n",
    "data=wd['quality'].values\n",
    "shared_bins = np.histogram_bin_edges(data,bins='auto')\n",
    "plt.hist(data, bins=shared_bins)"
   ]
  },
  {
   "cell_type": "markdown",
   "metadata": {},
   "source": [
    "#The most normally distributed variable from the plot is 'pH'"
   ]
  },
  {
   "cell_type": "markdown",
   "metadata": {},
   "source": [
    "#### Task 5: Modify the given code such that a Principal Component Analysis (PCA) is carried out for all feature (independent) variables. Subsequently, draw a Scree plot to explain the ratio of variance as well as modify the given code to answer the question “which feature variables mostly contribute to the observed variance distribution by more than 30%”. [5 Marks]"
   ]
  },
  {
   "cell_type": "code",
   "execution_count": 144,
   "metadata": {},
   "outputs": [
    {
     "data": {
      "image/png": "[encoded data removed]",
      "text/plain": [
       "<Figure size 432x288 with 1 Axes>"
      ]
     },
     "metadata": {
      "needs_background": "light"
     },
     "output_type": "display_data"
    }
   ],
   "source": [
    "\n",
    "import numpy as np\n",
    "import pandas as pd\n",
    "import matplotlib as mpl\n",
    "import matplotlib.pyplot as plt\n",
    "from sklearn.preprocessing import StandardScaler\n",
    "\n",
    "X= pd.read_csv('winequality-white.csv',usecols= ['fixed acidity','volatile acidity','citric acid','residual sugar','chlorides','free sulfur dioxide','total sulfur dioxide','density','pH','sulphates','alcohol'])\n",
    "\n",
    "from sklearn.decomposition import PCA\n",
    "pca = PCA(n_components=11)\n",
    "vals = X.values\n",
    "\n",
    "pca.fit(vals)\n",
    "wines_pca = pca.fit_transform(vals)\n",
    "pca.explained_variance_ratio_\n",
    "\n",
    "\n",
    "np.arange(pca.n_components_)\n",
    "PC_values=['01','02','03','04','05','06','07','08','09','10','11']\n",
    "plt.plot(PC_values,pca.explained_variance_ratio_,'o-',linewidth=2, color='blue')\n",
    "\n",
    "plt.title('Scree Plot')\n",
    "plt.xlabel('Principal Component')\n",
    "plt.ylabel('Variance Explained')\n",
    "plt.show()\n"
   ]
  },
  {
   "cell_type": "markdown",
   "metadata": {},
   "source": [
    "#The Principal Component that contributes more than 30 percent to the Variance is PC1, as seen in the Scree plot"
   ]
  },
  {
   "cell_type": "code",
   "execution_count": 145,
   "metadata": {},
   "outputs": [
    {
     "data": {
      "text/plain": [
       "Text(0, 0.5, 'PC 2')"
      ]
     },
     "execution_count": 145,
     "metadata": {},
     "output_type": "execute_result"
    },
    {
     "data": {
      "image/png": "[encoded data removed]",
      "text/plain": [
       "<Figure size 432x288 with 1 Axes>"
      ]
     },
     "metadata": {
      "needs_background": "light"
     },
     "output_type": "display_data"
    }
   ],
   "source": [
    "ax = plt.gca()\n",
    "ax.scatter(wines_pca[:,0], wines_pca[:,1], color='blue')\n",
    "ax.set_title(\"Scatter plot\")\n",
    "ax.set_xlabel('PC 1')\n",
    "ax.set_ylabel('PC 2')"
   ]
  },
  {
   "cell_type": "markdown",
   "metadata": {},
   "source": [
    "The scatter plot consist of some outliner points. It is also almost impossible  to draw a single line of separation in between the different plots"
   ]
  },
  {
   "cell_type": "code",
   "execution_count": 146,
   "metadata": {},
   "outputs": [
    {
     "data": {
      "image/png": "[encoded data removed]",
      "text/plain": [
       "<Figure size 432x288 with 1 Axes>"
      ]
     },
     "metadata": {
      "needs_background": "light"
     },
     "output_type": "display_data"
    }
   ],
   "source": [
    "\n",
    "ax = plt.gca()\n",
    "\n",
    "expl_var = pca.explained_variance_ratio_\n",
    "\n",
    "ax.plot(expl_var,marker= 'o',linewidth=2, color= 'blue')\n",
    "\n",
    "ax.set_title(\"Scree plot\")\n",
    "\n",
    "ax.set_ylim(0,1)\n",
    "\n",
    "ax.set_xticks([0,1])\n",
    "\n",
    "ax.set_xticklabels([\"PC{}\".format(i+1) for i in range(2)])\n",
    "\n",
    "PC_values=np.arange(pca.n_components_)+1\n",
    "\n",
    "plt.ylabel('Variance Explained')\n",
    "plt.xlabel('Principal components')\n",
    "plt.show()\n"
   ]
  },
  {
   "cell_type": "code",
   "execution_count": 147,
   "metadata": {},
   "outputs": [
    {
     "data": {
      "text/plain": [
       "[<matplotlib.axis.XTick at 0x15d06a08>, <matplotlib.axis.XTick at 0x16e4c148>]"
      ]
     },
     "execution_count": 147,
     "metadata": {},
     "output_type": "execute_result"
    },
    {
     "data": {
      "image/png": "[encoded data removed]",
      "text/plain": [
       "<Figure size 432x288 with 2 Axes>"
      ]
     },
     "metadata": {
      "needs_background": "light"
     },
     "output_type": "display_data"
    }
   ],
   "source": [
    "comps = pca.components_\n",
    "ax = plt.gca()\n",
    "img = ax.imshow(comps, cmap='seismic', vmin=-1, vmax=1)\n",
    "plt.colorbar(img, label=\"weight\")\n",
    "ax.set_yticks([0,1])\n",
    "t = ax.set_yticklabels([\"PC{}\".format(i+1)for i in range(2)])\n",
    "\n",
    "ax.set_xticks([0,1])"
   ]
  },
  {
   "cell_type": "code",
   "execution_count": 148,
   "metadata": {},
   "outputs": [],
   "source": [
    "# print(np.array(X_feature_names)[np.where(pca.components_[0,:] > 0.1)[0]])"
   ]
  },
  {
   "cell_type": "markdown",
   "metadata": {},
   "source": [
    "#### Task 6: Write/modify the code to repeat task 5, this time, however, this time with normalized values across all feature variables. Explain the observed differences and answer again the question: Which feature variables mostly contribute to the observed variance distribution by more than 30%? [5 Marks]"
   ]
  },
  {
   "cell_type": "code",
   "execution_count": 149,
   "metadata": {
    "id": "hOTyT8ZhX8Mc"
   },
   "outputs": [],
   "source": [
    "# Normalize feature variables\n",
    "from sklearn import preprocessing as pp"
   ]
  },
  {
   "cell_type": "code",
   "execution_count": 150,
   "metadata": {
    "scrolled": true
   },
   "outputs": [
    {
     "data": {
      "image/png": "[encoded data removed]",
      "text/plain": [
       "<Figure size 432x288 with 1 Axes>"
      ]
     },
     "metadata": {
      "needs_background": "light"
     },
     "output_type": "display_data"
    },
    {
     "name": "stdout",
     "output_type": "stream",
     "text": [
      "[0.29293217 0.14320363 0.11106103 0.09259294 0.08848496 0.08534014\n",
      " 0.06605437 0.05448713 0.03764942 0.02631701 0.00187719]\n"
     ]
    }
   ],
   "source": [
    "ss = pp.StandardScaler()\n",
    "# ss.fit(X.values)\n",
    "pca_norm = PCA()\n",
    "# pca_norm.fit(ss.transform(X.values))\n",
    "# wines_pca_norm = pca_norm.transform(ss.transform(X.values))\n",
    "from sklearn.preprocessing import StandardScaler\n",
    "\n",
    "X= pd.read_csv('winequality-white.csv',usecols= ['fixed acidity', 'volatile acidity','citric acid','residual sugar','chlorides',\n",
    "                                               'free sulfur dioxide','total sulfur dioxide','density','pH','sulphates','alcohol'])\n",
    "\n",
    "scaler = StandardScaler()\n",
    "\n",
    "scaled_df=X.copy()\n",
    "\n",
    "scaled_df=pd.DataFrame(scaler.fit_transform(scaled_df),columns=scaled_df.columns)\n",
    "\n",
    "from sklearn.decomposition import PCA\n",
    "pca = PCA(n_components=11)\n",
    "vals = X.values\n",
    "vals=scaled_df\n",
    "pca.fit(vals)\n",
    "wines_pca = pca.fit_transform(vals)\n",
    "pca.explained_variance_ratio_\n",
    "\n",
    "import matplotlib.pyplot as plt\n",
    "import numpy as np\n",
    "PC_values=['01','02','03','04','05','06','07','08','09','10','11']\n",
    "plt.plot(PC_values,pca.explained_variance_ratio_,'o-', linewidth=2, color= 'blue')\n",
    "plt.title('Scree Plot')\n",
    "plt.xlabel('Principal Component')\n",
    "plt.ylabel('Variance Explained')\n",
    "plt.show()\n",
    "\n",
    "print(pca.explained_variance_ratio_)\n",
    "\n"
   ]
  },
  {
   "cell_type": "markdown",
   "metadata": {},
   "source": [
    "#The variable that contributes more than 30 percents of the observed variable is PC01 with 0.29293217 point value"
   ]
  },
  {
   "cell_type": "code",
   "execution_count": 151,
   "metadata": {},
   "outputs": [],
   "source": [
    "#print(np.array(X_feature_names)[np.where(pca_norm.components_[0,:] > 0.3)[0]])"
   ]
  },
  {
   "cell_type": "code",
   "execution_count": 152,
   "metadata": {},
   "outputs": [],
   "source": [
    "#print(np.array(X_feature_names)[np.where(pca_norm.components_[0,:] > 0.3)[0]])"
   ]
  },
  {
   "cell_type": "markdown",
   "metadata": {},
   "source": [
    "#### Task 7: Write/modify the code to calculate the following two empirical probabilities (e.g., all 4898 rows as sample data): a) Probability of white wine quality to be less than 5, i.e., P(X<5), b) Probability of white wine quality to be equal or greater than 8, i.e., P(X ≥ 8), X = “quality”. [4 Marks]"
   ]
  },
  {
   "cell_type": "code",
   "execution_count": 153,
   "metadata": {},
   "outputs": [],
   "source": [
    "from matplotlib import pyplot\n",
    "from numpy.random import normal\n",
    "from numpy import hstack\n",
    "from statsmodels.distributions.empirical_distribution import ECDF"
   ]
  },
  {
   "cell_type": "code",
   "execution_count": 154,
   "metadata": {},
   "outputs": [
    {
     "name": "stdout",
     "output_type": "stream",
     "text": [
      "   quality  Count\n",
      "0        3     20\n",
      "1        4    163\n",
      "2        5   1457\n",
      "3        6   2198\n",
      "4        7    880\n",
      "5        8    175\n",
      "6        9      5\n",
      "Count_less_than_5 =  183\n",
      "Count_greater_than_or_equal_to_8 =  180\n",
      "Totalcount =  4898\n",
      "Probability_Quality_Less_Than_5_quality =  0.03736218864842793\n",
      "Probability_Quality_greater_than_or_equal_to_8 =  0.03674969375255206\n"
     ]
    }
   ],
   "source": [
    "import numpy as np\n",
    "import pandas as pd\n",
    "import matplotlib as mpl\n",
    "import matplotlib.pyplot as plt\n",
    "\n",
    "df1= pd.read_csv('winequality-white.csv')\n",
    "df1.head(20)\n",
    "\n",
    "df1 =df1.groupby(['quality']).quality.agg('count').to_frame('Count').reset_index()\n",
    "print(df1)\n",
    "\n",
    "#Probilit of less than 5 quality\n",
    "\n",
    "Count_less_than_5 = df1[df1['quality']< 5]['Count'].sum()\n",
    "Count_greater_than_or_equal_to_8 = df1[df1['quality']>= 8]['Count'].sum()\n",
    "\n",
    "print('Count_less_than_5 = ',Count_less_than_5)\n",
    "print('Count_greater_than_or_equal_to_8 = ',Count_greater_than_or_equal_to_8)\n",
    "Totalcount  = df1[df1['quality']>0]['Count'].sum()\n",
    "Totalcount\n",
    "print('Totalcount = ',Totalcount)\n",
    "\n",
    "Probability_Quality_Less_Than_5_quality=Count_less_than_5/Totalcount\n",
    "print('Probability_Quality_Less_Than_5_quality = ',Probability_Quality_Less_Than_5_quality)\n",
    "\n",
    "\n",
    "Probability_Quality_greater_than_or_equal_to_8=Count_greater_than_or_equal_to_8/Totalcount\n",
    "\n",
    "print('Probability_Quality_greater_than_or_equal_to_8 = ',Probability_Quality_greater_than_or_equal_to_8)\n",
    "\n"
   ]
  },
  {
   "cell_type": "markdown",
   "metadata": {},
   "source": [
    "#### Task 8: Let us assume that French wine makers and producers claim that it is possible to produce next year 1,000,000 bottles of white wines, to be considered as a population, a) with an average of quality equal or greater than 7, b) the distribution of quality scores will not be equal. Formulate and implement the Null (Ho) and alternative (H1) hypotheses for both claims. Subsequently, elaborate on  rejecting or accepting these two claims, with confidence values 98% and 95%, respectively, and on the basis of evidence provided by your 4898 large sample data. [6 Marks]"
   ]
  },
  {
   "cell_type": "code",
   "execution_count": 198,
   "metadata": {},
   "outputs": [],
   "source": [
    "from scipy import stats\n",
    "from scipy.stats import ttest_1samp"
   ]
  },
  {
   "cell_type": "code",
   "execution_count": null,
   "metadata": {},
   "outputs": [],
   "source": []
  },
  {
   "cell_type": "code",
   "execution_count": null,
   "metadata": {},
   "outputs": [],
   "source": []
  },
  {
   "cell_type": "code",
   "execution_count": 199,
   "metadata": {},
   "outputs": [
    {
     "data": {
      "text/plain": [
       "5.87790935075541"
      ]
     },
     "execution_count": 199,
     "metadata": {},
     "output_type": "execute_result"
    }
   ],
   "source": [
    "x= df.quality.mean()\n",
    "x"
   ]
  },
  {
   "cell_type": "markdown",
   "metadata": {},
   "source": [
    "#### Task 9: Let us assume that you have a first attempt at estimating a simple linear regression model with all 11 predictor (feature) variables to be used for predicting the quality of white wine (target variable). Your initial model should take the form y = α + b1X1 + b2X2+….+b11X11, with α being the intercept and b1,…,b11 the co-efficients. Uncomment and modify the following code such that the model will be trained with a split of 75% training data and 25% of test data. You should also assume that the values of all predictor variables are normalised. You should also write the code to estimate the fitness of this model. The metrics to be used are R-square, Mean Squared Error and Root Mean Square Error. [6 Marks]"
   ]
  },
  {
   "cell_type": "code",
   "execution_count": 216,
   "metadata": {},
   "outputs": [
    {
     "name": "stdout",
     "output_type": "stream",
     "text": [
      "*******************************************************\n",
      "model.intercept\n",
      "******************\n",
      "alpha = 197.5310910320213\n",
      "\n",
      "*******************************************************\n",
      "\n",
      "model.coef\n",
      "******************\n",
      "betas = [ 1.15953365e-01 -1.98333673e+02 -1.66810488e-02 -5.13583573e-01\n",
      "  4.74413246e-03 -1.81594265e+00  8.79948572e-01  1.31644131e-01\n",
      "  6.27189921e-01  9.65149311e-02 -2.17957734e-04]\n",
      "*******************************************************\n"
     ]
    }
   ],
   "source": [
    "import numpy as np\n",
    "import pandas as pd\n",
    "import matplotlib as mpl\n",
    "import matplotlib.pyplot as plt\n",
    "from sklearn.linear_model import LinearRegression\n",
    "from sklearn.model_selection import train_test_split\n",
    "from sklearn import linear_model\n",
    "import seaborn as sns\n",
    "from sklearn.preprocessing import StandardScaler\n",
    "\n",
    "# Build linear regression model using different variables as predictors of quality\n",
    "# Split data into predictors X and output Y\n",
    "\n",
    "\n",
    "df= pd.read_csv('winequality-white.csv')\n",
    "predictors = ['fixed acidity', 'density', 'citric acid', 'chlorides', 'free sulfur dioxide', 'volatile acidity', 'pH', 'alcohol', 'sulphates', 'residual sugar', 'total sulfur dioxide']\n",
    "X = df[predictors]\n",
    "y = df['quality']\n",
    "\n",
    "X_train, X_test, y_train, y_test = train_test_split(X, y, test_size=0.25, random_state=0)\n",
    "\n",
    "\n",
    "# Initialise and fit model\n",
    "\n",
    "lm = LinearRegression()\n",
    "model = lm.fit(X_train, y_train)\n",
    "\n",
    "print(\"*******************************************************\")\n",
    "print(\"model.intercept\")\n",
    "print(\"******************\")\n",
    "print(f'alpha = {model.intercept_}')\n",
    "\n",
    "print(\"\")\n",
    "print(\"*******************************************************\")\n",
    "print(\"\")\n",
    "print(\"model.coef\")\n",
    "print(\"******************\")\n",
    "print(f'betas = {model.coef_}')\n",
    "print(\"*******************************************************\")\n",
    "\n"
   ]
  },
  {
   "cell_type": "code",
   "execution_count": null,
   "metadata": {},
   "outputs": [],
   "source": [
    "corr_matrix = np.corrcoef(y_test,y_pred)\n",
    "corr = corr_matrix[0, 1]\n",
    "RSQ = corr**2\n",
    "print(\"\")\n",
    "print(\"\")\n",
    "print(\"R Square\")\n",
    "print(RSQ)"
   ]
  },
  {
   "cell_type": "code",
   "execution_count": null,
   "metadata": {},
   "outputs": [],
   "source": [
    "corr_matrix = np.corrcoef(y_test,y_pred)\n",
    "corr = corr_matrix[0, 1]\n",
    "RSQ = corr**2\n",
    "print(\"\")\n",
    "print(\"\")\n",
    "print(\"R Square\")\n",
    "print(RSQ)"
   ]
  },
  {
   "cell_type": "markdown",
   "metadata": {},
   "source": [
    "#### Task 10: Based on the results of task 9, you should now make an attempt to improve your linear regression model by turning it into a polynomial expression. You shall assume that the initial raw data, not the normalised ones, will be taken into consideration. Uncomment the following code and blend it with the code from task 9 to re-train and re-estimate the fitness of your polynomial regression models with degrees 2 and 3. Subsequently, explain whether the performance of this more complicated version of the model has neem improved in terms of the same fitness measuring metrics. [6 Marks]"
   ]
  },
  {
   "cell_type": "code",
   "execution_count": 161,
   "metadata": {},
   "outputs": [],
   "source": [
    "# import numpy as np\n",
    "from sklearn.linear_model import LinearRegression\n",
    "# from sklearn.preprocessing import PolynomialFeatures"
   ]
  },
  {
   "cell_type": "code",
   "execution_count": 162,
   "metadata": {},
   "outputs": [],
   "source": [
    "import numpy as np\n",
    "from sklearn.linear_model import LinearRegression\n",
    "from sklearn.preprocessing import PolynomialFeatures"
   ]
  },
  {
   "cell_type": "code",
   "execution_count": 163,
   "metadata": {},
   "outputs": [],
   "source": [
    "# poly = PolynomialFeatures(degree=3, include_bias=False)\n",
    "# poly_features = poly.fit_transform(X.values)\n",
    "# poly_reg_model = LinearRegression()\n",
    "# poly_reg_model.fit(X_poly_train, y_train)"
   ]
  },
  {
   "cell_type": "code",
   "execution_count": 164,
   "metadata": {},
   "outputs": [],
   "source": [
    "import numpy as np\n",
    "import pandas as pd\n",
    "import matplotlib.pyplot as plt\n",
    "\n",
    "from sklearn.preprocessing import scale \n",
    "from sklearn.linear_model import LinearRegression, Ridge, RidgeCV, Lasso, LassoCV\n",
    "from sklearn.model_selection import KFold, cross_val_score, train_test_split\n",
    "from sklearn.metrics import mean_squared_error\n",
    "from sklearn.decomposition import PCA"
   ]
  },
  {
   "cell_type": "code",
   "execution_count": 165,
   "metadata": {
    "scrolled": true
   },
   "outputs": [
    {
     "data": {
      "text/html": [
       "<div>\n",
       "<style scoped>\n",
       "    .dataframe tbody tr th:only-of-type {\n",
       "        vertical-align: middle;\n",
       "    }\n",
       "\n",
       "    .dataframe tbody tr th {\n",
       "        vertical-align: top;\n",
       "    }\n",
       "\n",
       "    .dataframe thead th {\n",
       "        text-align: right;\n",
       "    }\n",
       "</style>\n",
       "<table border=\"1\" class=\"dataframe\">\n",
       "  <thead>\n",
       "    <tr style=\"text-align: right;\">\n",
       "      <th></th>\n",
       "      <th>fixed acidity</th>\n",
       "      <th>volatile acidity</th>\n",
       "      <th>citric acid</th>\n",
       "      <th>residual sugar</th>\n",
       "      <th>chlorides</th>\n",
       "      <th>free sulfur dioxide</th>\n",
       "      <th>total sulfur dioxide</th>\n",
       "      <th>density</th>\n",
       "      <th>pH</th>\n",
       "      <th>sulphates</th>\n",
       "      <th>alcohol</th>\n",
       "      <th>quality</th>\n",
       "    </tr>\n",
       "  </thead>\n",
       "  <tbody>\n",
       "    <tr>\n",
       "      <td>0</td>\n",
       "      <td>7.0</td>\n",
       "      <td>0.27</td>\n",
       "      <td>0.36</td>\n",
       "      <td>20.7</td>\n",
       "      <td>0.045</td>\n",
       "      <td>45.0</td>\n",
       "      <td>170.0</td>\n",
       "      <td>1.0010</td>\n",
       "      <td>3.00</td>\n",
       "      <td>0.45</td>\n",
       "      <td>8.8</td>\n",
       "      <td>6</td>\n",
       "    </tr>\n",
       "    <tr>\n",
       "      <td>1</td>\n",
       "      <td>6.3</td>\n",
       "      <td>0.30</td>\n",
       "      <td>0.34</td>\n",
       "      <td>1.6</td>\n",
       "      <td>0.049</td>\n",
       "      <td>14.0</td>\n",
       "      <td>132.0</td>\n",
       "      <td>0.9940</td>\n",
       "      <td>3.30</td>\n",
       "      <td>0.49</td>\n",
       "      <td>9.5</td>\n",
       "      <td>6</td>\n",
       "    </tr>\n",
       "    <tr>\n",
       "      <td>2</td>\n",
       "      <td>8.1</td>\n",
       "      <td>0.28</td>\n",
       "      <td>0.40</td>\n",
       "      <td>6.9</td>\n",
       "      <td>0.050</td>\n",
       "      <td>30.0</td>\n",
       "      <td>97.0</td>\n",
       "      <td>0.9951</td>\n",
       "      <td>3.26</td>\n",
       "      <td>0.44</td>\n",
       "      <td>10.1</td>\n",
       "      <td>6</td>\n",
       "    </tr>\n",
       "    <tr>\n",
       "      <td>3</td>\n",
       "      <td>7.2</td>\n",
       "      <td>0.23</td>\n",
       "      <td>0.32</td>\n",
       "      <td>8.5</td>\n",
       "      <td>0.058</td>\n",
       "      <td>47.0</td>\n",
       "      <td>186.0</td>\n",
       "      <td>0.9956</td>\n",
       "      <td>3.19</td>\n",
       "      <td>0.40</td>\n",
       "      <td>9.9</td>\n",
       "      <td>6</td>\n",
       "    </tr>\n",
       "    <tr>\n",
       "      <td>4</td>\n",
       "      <td>7.2</td>\n",
       "      <td>0.23</td>\n",
       "      <td>0.32</td>\n",
       "      <td>8.5</td>\n",
       "      <td>0.058</td>\n",
       "      <td>47.0</td>\n",
       "      <td>186.0</td>\n",
       "      <td>0.9956</td>\n",
       "      <td>3.19</td>\n",
       "      <td>0.40</td>\n",
       "      <td>9.9</td>\n",
       "      <td>6</td>\n",
       "    </tr>\n",
       "  </tbody>\n",
       "</table>\n",
       "</div>"
      ],
      "text/plain": [
       "   fixed acidity  volatile acidity  citric acid  residual sugar  chlorides  \\\n",
       "0            7.0              0.27         0.36            20.7      0.045   \n",
       "1            6.3              0.30         0.34             1.6      0.049   \n",
       "2            8.1              0.28         0.40             6.9      0.050   \n",
       "3            7.2              0.23         0.32             8.5      0.058   \n",
       "4            7.2              0.23         0.32             8.5      0.058   \n",
       "\n",
       "   free sulfur dioxide  total sulfur dioxide  density    pH  sulphates  \\\n",
       "0                 45.0                 170.0   1.0010  3.00       0.45   \n",
       "1                 14.0                 132.0   0.9940  3.30       0.49   \n",
       "2                 30.0                  97.0   0.9951  3.26       0.44   \n",
       "3                 47.0                 186.0   0.9956  3.19       0.40   \n",
       "4                 47.0                 186.0   0.9956  3.19       0.40   \n",
       "\n",
       "   alcohol  quality  \n",
       "0      8.8        6  \n",
       "1      9.5        6  \n",
       "2     10.1        6  \n",
       "3      9.9        6  \n",
       "4      9.9        6  "
      ]
     },
     "execution_count": 165,
     "metadata": {},
     "output_type": "execute_result"
    }
   ],
   "source": [
    "df = pd.read_csv('winequality-white.csv', sep=',')\n",
    "df.head()"
   ]
  },
  {
   "cell_type": "code",
   "execution_count": null,
   "metadata": {},
   "outputs": [],
   "source": [
    "#Data Preparation"
   ]
  },
  {
   "cell_type": "code",
   "execution_count": 167,
   "metadata": {},
   "outputs": [],
   "source": [
    "target = 'quality'\n",
    "X = df.drop(target,axis=1)\n",
    "y = df[target]"
   ]
  },
  {
   "cell_type": "code",
   "execution_count": 168,
   "metadata": {},
   "outputs": [],
   "source": [
    "#Train set split\n",
    "X_train, X_test, y_train, y_test = train_test_split(X, y, test_size=0.2, random_state=42)"
   ]
  },
  {
   "cell_type": "code",
   "execution_count": 169,
   "metadata": {},
   "outputs": [
    {
     "data": {
      "text/plain": [
       "(3918, 11)"
      ]
     },
     "execution_count": 169,
     "metadata": {},
     "output_type": "execute_result"
    }
   ],
   "source": [
    "X_train.shape"
   ]
  },
  {
   "cell_type": "code",
   "execution_count": 170,
   "metadata": {},
   "outputs": [
    {
     "data": {
      "text/plain": [
       "array([[7.00000000e+00, 2.70000000e-01, 3.60000000e-01, ...,\n",
       "        1.37998080e+02, 2.69862912e+03, 5.27731917e+04],\n",
       "       [6.30000000e+00, 3.00000000e-01, 3.40000000e-01, ...,\n",
       "        2.05855737e+02, 3.99108063e+03, 7.73780938e+04],\n",
       "       [8.10000000e+00, 2.80000000e-01, 4.00000000e-01, ...,\n",
       "        1.99466274e+02, 4.57865764e+03, 1.05101005e+05],\n",
       "       ...,\n",
       "       [6.50000000e+00, 2.40000000e-01, 1.90000000e-01, ...,\n",
       "        1.75751574e+02, 3.59144522e+03, 7.33904022e+04],\n",
       "       [5.50000000e+00, 2.90000000e-01, 3.00000000e-01, ...,\n",
       "        3.02828749e+02, 1.02005473e+04, 3.43597384e+05],\n",
       "       [6.00000000e+00, 2.10000000e-01, 3.80000000e-01, ...,\n",
       "        1.68246477e+02, 6.20408883e+03, 2.28775776e+05]])"
      ]
     },
     "execution_count": 170,
     "metadata": {},
     "output_type": "execute_result"
    }
   ],
   "source": [
    "import numpy as np\n",
    "from sklearn.linear_model import LinearRegression\n",
    "from sklearn.preprocessing import PolynomialFeatures\n",
    "\n",
    "X_pol = PolynomialFeatures(degree=5, interaction_only=False, include_bias=False).fit_transform(X)\n",
    "X_pol"
   ]
  },
  {
   "cell_type": "code",
   "execution_count": 171,
   "metadata": {},
   "outputs": [
    {
     "data": {
      "text/plain": [
       "(4898, 4367)"
      ]
     },
     "execution_count": 171,
     "metadata": {},
     "output_type": "execute_result"
    }
   ],
   "source": [
    "X_pol.shape"
   ]
  },
  {
   "cell_type": "code",
   "execution_count": 172,
   "metadata": {},
   "outputs": [
    {
     "data": {
      "text/plain": [
       "array([[ 0.51511931, -1.07623315,  0.22773076, ..., -0.32826101,\n",
       "        -0.70244474,  1.54037099],\n",
       "       [-0.66918809, -0.28877673,  0.89583195, ..., -0.06188569,\n",
       "         0.26607415, -0.82171197],\n",
       "       [-1.49820327,  0.40024764, -0.02280718, ...,  0.40427112,\n",
       "         0.00193263,  0.48150622],\n",
       "       ...,\n",
       "       [ 0.87041153, -0.09191263,  1.56393313, ..., -1.12738698,\n",
       "         0.35412132,  0.72585963],\n",
       "       [-0.66918809, -0.38720878, -0.35685777, ..., -0.12847952,\n",
       "        -0.96658625,  0.07425053],\n",
       "       [ 1.46256523, -0.09191263,  0.14421812, ...,  0.20448963,\n",
       "         1.23459303, -0.08865174]])"
      ]
     },
     "execution_count": 172,
     "metadata": {},
     "output_type": "execute_result"
    }
   ],
   "source": [
    "# Run standardization on X variables\n",
    "X_train_scaled, X_test_scaled = scale(X_train), scale(X_test)\n",
    "X_train_scaled"
   ]
  },
  {
   "cell_type": "code",
   "execution_count": 174,
   "metadata": {},
   "outputs": [
    {
     "data": {
      "text/plain": [
       "(3918, 11)"
      ]
     },
     "execution_count": 174,
     "metadata": {},
     "output_type": "execute_result"
    }
   ],
   "source": [
    "X_train_scaled.shape"
   ]
  },
  {
   "cell_type": "code",
   "execution_count": 175,
   "metadata": {},
   "outputs": [],
   "source": [
    "# Define cross-validation folds\n",
    "cv = KFold(n_splits=10, shuffle=True, random_state=42)"
   ]
  },
  {
   "cell_type": "code",
   "execution_count": 176,
   "metadata": {},
   "outputs": [],
   "source": [
    "#Train set cross-validation\n",
    "lin_reg = LinearRegression().fit(X_train_scaled, y_train)"
   ]
  },
  {
   "cell_type": "code",
   "execution_count": 177,
   "metadata": {},
   "outputs": [
    {
     "data": {
      "text/plain": [
       "array([-0.30503566, -0.23681022, -0.27957668, -0.27087678, -0.24766941,\n",
       "       -0.26736163, -0.26805709, -0.22973045, -0.28936646, -0.34223002])"
      ]
     },
     "execution_count": 177,
     "metadata": {},
     "output_type": "execute_result"
    }
   ],
   "source": [
    "lr_scores = -1 * cross_val_score(lin_reg, \n",
    "                                 X_train_scaled, \n",
    "                                 y_train, \n",
    "                                 cv=cv)\n",
    "lr_scores"
   ]
  },
  {
   "cell_type": "code",
   "execution_count": 196,
   "metadata": {},
   "outputs": [
    {
     "data": {
      "text/plain": [
       "-0.2736714411799058"
      ]
     },
     "execution_count": 196,
     "metadata": {},
     "output_type": "execute_result"
    }
   ],
   "source": [
    "lr_score_train = np.mean(lr_scores)\n",
    "lr_score_train"
   ]
  },
  {
   "cell_type": "code",
   "execution_count": null,
   "metadata": {},
   "outputs": [],
   "source": [
    "#Predict\n",
    "y_predicted = lin_reg.predict(X_test_scaled)\n",
    "lr_score_test = mean_squared_error(y_test, y_predicted, squared=False) #RMSE instead of MSE\n",
    "lr_score_test"
   ]
  },
  {
   "cell_type": "code",
   "execution_count": 181,
   "metadata": {},
   "outputs": [],
   "source": [
    "#Evaluate different numbers of Principal components\n",
    "\n",
    "lin_reg = LinearRegression()\n",
    "rmse_list = []"
   ]
  },
  {
   "cell_type": "code",
   "execution_count": 182,
   "metadata": {},
   "outputs": [
    {
     "data": {
      "text/plain": [
       "(3918, 11)"
      ]
     },
     "execution_count": 182,
     "metadata": {},
     "output_type": "execute_result"
    }
   ],
   "source": [
    "# First generate all the principal components\n",
    "pca = PCA()\n",
    "X_train_pc = pca.fit_transform(X_train_scaled)\n",
    "X_train_pc.shape"
   ]
  },
  {
   "cell_type": "code",
   "execution_count": 183,
   "metadata": {},
   "outputs": [
    {
     "data": {
      "text/html": [
       "<div>\n",
       "<style scoped>\n",
       "    .dataframe tbody tr th:only-of-type {\n",
       "        vertical-align: middle;\n",
       "    }\n",
       "\n",
       "    .dataframe tbody tr th {\n",
       "        vertical-align: top;\n",
       "    }\n",
       "\n",
       "    .dataframe thead th {\n",
       "        text-align: right;\n",
       "    }\n",
       "</style>\n",
       "<table border=\"1\" class=\"dataframe\">\n",
       "  <thead>\n",
       "    <tr style=\"text-align: right;\">\n",
       "      <th></th>\n",
       "      <th>0</th>\n",
       "      <th>1</th>\n",
       "      <th>2</th>\n",
       "      <th>3</th>\n",
       "      <th>4</th>\n",
       "      <th>5</th>\n",
       "      <th>6</th>\n",
       "      <th>7</th>\n",
       "      <th>8</th>\n",
       "      <th>9</th>\n",
       "      <th>10</th>\n",
       "    </tr>\n",
       "  </thead>\n",
       "  <tbody>\n",
       "    <tr>\n",
       "      <td>0</td>\n",
       "      <td>0.153130</td>\n",
       "      <td>0.593869</td>\n",
       "      <td>0.113250</td>\n",
       "      <td>0.042745</td>\n",
       "      <td>0.213469</td>\n",
       "      <td>0.134625</td>\n",
       "      <td>-0.194105</td>\n",
       "      <td>-0.584225</td>\n",
       "      <td>0.346548</td>\n",
       "      <td>-0.128133</td>\n",
       "      <td>-0.173252</td>\n",
       "    </tr>\n",
       "    <tr>\n",
       "      <td>1</td>\n",
       "      <td>0.011361</td>\n",
       "      <td>-0.050665</td>\n",
       "      <td>-0.575843</td>\n",
       "      <td>0.312131</td>\n",
       "      <td>0.662860</td>\n",
       "      <td>-0.100609</td>\n",
       "      <td>0.220231</td>\n",
       "      <td>-0.018302</td>\n",
       "      <td>-0.138301</td>\n",
       "      <td>-0.224521</td>\n",
       "      <td>-0.020090</td>\n",
       "    </tr>\n",
       "    <tr>\n",
       "      <td>2</td>\n",
       "      <td>0.140480</td>\n",
       "      <td>0.363638</td>\n",
       "      <td>0.492552</td>\n",
       "      <td>0.140582</td>\n",
       "      <td>0.082233</td>\n",
       "      <td>-0.138273</td>\n",
       "      <td>0.697305</td>\n",
       "      <td>0.161543</td>\n",
       "      <td>-0.214950</td>\n",
       "      <td>-0.033970</td>\n",
       "      <td>-0.009646</td>\n",
       "    </tr>\n",
       "    <tr>\n",
       "      <td>3</td>\n",
       "      <td>0.429776</td>\n",
       "      <td>-0.017826</td>\n",
       "      <td>-0.211475</td>\n",
       "      <td>-0.256870</td>\n",
       "      <td>0.014734</td>\n",
       "      <td>0.297510</td>\n",
       "      <td>0.207713</td>\n",
       "      <td>0.400846</td>\n",
       "      <td>0.394997</td>\n",
       "      <td>0.093459</td>\n",
       "      <td>-0.496953</td>\n",
       "    </tr>\n",
       "    <tr>\n",
       "      <td>4</td>\n",
       "      <td>0.209227</td>\n",
       "      <td>0.009398</td>\n",
       "      <td>-0.103175</td>\n",
       "      <td>0.672829</td>\n",
       "      <td>-0.359287</td>\n",
       "      <td>-0.445155</td>\n",
       "      <td>-0.059703</td>\n",
       "      <td>0.105600</td>\n",
       "      <td>0.384851</td>\n",
       "      <td>0.045278</td>\n",
       "      <td>-0.025786</td>\n",
       "    </tr>\n",
       "  </tbody>\n",
       "</table>\n",
       "</div>"
      ],
      "text/plain": [
       "          0         1         2         3         4         5         6  \\\n",
       "0  0.153130  0.593869  0.113250  0.042745  0.213469  0.134625 -0.194105   \n",
       "1  0.011361 -0.050665 -0.575843  0.312131  0.662860 -0.100609  0.220231   \n",
       "2  0.140480  0.363638  0.492552  0.140582  0.082233 -0.138273  0.697305   \n",
       "3  0.429776 -0.017826 -0.211475 -0.256870  0.014734  0.297510  0.207713   \n",
       "4  0.209227  0.009398 -0.103175  0.672829 -0.359287 -0.445155 -0.059703   \n",
       "\n",
       "          7         8         9        10  \n",
       "0 -0.584225  0.346548 -0.128133 -0.173252  \n",
       "1 -0.018302 -0.138301 -0.224521 -0.020090  \n",
       "2  0.161543 -0.214950 -0.033970 -0.009646  \n",
       "3  0.400846  0.394997  0.093459 -0.496953  \n",
       "4  0.105600  0.384851  0.045278 -0.025786  "
      ]
     },
     "execution_count": 183,
     "metadata": {},
     "output_type": "execute_result"
    }
   ],
   "source": [
    "# View first 5 rows of all principal components\n",
    "pd.DataFrame(pca.components_.T).loc[:4,:]"
   ]
  },
  {
   "cell_type": "code",
   "execution_count": 184,
   "metadata": {},
   "outputs": [],
   "source": [
    "# Loop through different count of principal components for linear regression\n",
    "for i in range(1, X_train_pc.shape[1]+1):\n",
    "    rmse_score = -1 * cross_val_score(lin_reg, \n",
    "                                      X_train_pc[:,:i], # Use first k principal components\n",
    "                                      y_train, \n",
    "                                      cv=cv).mean()\n",
    "    rmse_list.append(rmse_score)"
   ]
  },
  {
   "cell_type": "code",
   "execution_count": 185,
   "metadata": {},
   "outputs": [
    {
     "data": {
      "text/plain": [
       "[-0.07846794473611723,\n",
       " -0.08249208570825767,\n",
       " -0.13523601339713262,\n",
       " -0.16927018411309216,\n",
       " -0.17136572284154267,\n",
       " -0.1709839173271101,\n",
       " -0.17055862147121006,\n",
       " -0.2000971744694109,\n",
       " -0.2701491155141244,\n",
       " -0.273853976244398,\n",
       " -0.2736714411799057]"
      ]
     },
     "execution_count": 185,
     "metadata": {},
     "output_type": "execute_result"
    }
   ],
   "source": [
    "rmse_list"
   ]
  },
  {
   "cell_type": "code",
   "execution_count": 186,
   "metadata": {},
   "outputs": [
    {
     "data": {
      "image/png": "[encoded data removed]",
      "text/plain": [
       "<Figure size 432x288 with 1 Axes>"
      ]
     },
     "metadata": {
      "needs_background": "light"
     },
     "output_type": "display_data"
    }
   ],
   "source": [
    "# Plot RMSE vs count of principal components used\n",
    "plt.plot(rmse_list, '-o')\n",
    "plt.xlabel('Number of principal components in regression')\n",
    "plt.ylabel('Cross-Validation RMSE')\n",
    "plt.title('Wine Quality')\n",
    "plt.xlim(xmin=-1);\n",
    "plt.xticks(np.arange(X_train_pc.shape[1]), np.arange(1, X_train_pc.shape[1]+1))\n",
    "plt.axhline(y=lr_score_train, color='g', linestyle='-');"
   ]
  },
  {
   "cell_type": "code",
   "execution_count": 187,
   "metadata": {},
   "outputs": [],
   "source": [
    "# Visually determine optimal number of principal components\n",
    "best_pc_num = 9"
   ]
  },
  {
   "cell_type": "code",
   "execution_count": 188,
   "metadata": {},
   "outputs": [],
   "source": [
    "# Train model on training set\n",
    "lin_reg_pc = LinearRegression().fit(X_train_pc[:,:best_pc_num], y_train)"
   ]
  },
  {
   "cell_type": "code",
   "execution_count": 189,
   "metadata": {},
   "outputs": [
    {
     "data": {
      "text/plain": [
       "0.27611360734592916"
      ]
     },
     "execution_count": 189,
     "metadata": {},
     "output_type": "execute_result"
    }
   ],
   "source": [
    "# Get R2 score\n",
    "lin_reg_pc.score(X_train_pc[:,:best_pc_num], y_train)"
   ]
  },
  {
   "cell_type": "code",
   "execution_count": 190,
   "metadata": {},
   "outputs": [
    {
     "data": {
      "text/plain": [
       "array([-0.29470743, -0.27922424, -0.25593946, -0.25963096, -0.23539652,\n",
       "       -0.27530561, -0.26652021, -0.21483964, -0.27847633, -0.34145077])"
      ]
     },
     "execution_count": 190,
     "metadata": {},
     "output_type": "execute_result"
    }
   ],
   "source": [
    "pcr_score_train = -1 * cross_val_score(lin_reg_pc, \n",
    "                                       X_train_pc[:,:best_pc_num], \n",
    "                                       y_train, \n",
    "                                       cv=cv)\n",
    "pcr_score_train"
   ]
  },
  {
   "cell_type": "code",
   "execution_count": 191,
   "metadata": {},
   "outputs": [
    {
     "data": {
      "text/plain": [
       "(980, 9)"
      ]
     },
     "execution_count": 191,
     "metadata": {},
     "output_type": "execute_result"
    }
   ],
   "source": [
    "# Get principal components of test set\n",
    "X_test_pc = pca.transform(X_test_scaled)[:,:best_pc_num]\n",
    "X_test_pc.shape"
   ]
  },
  {
   "cell_type": "code",
   "execution_count": null,
   "metadata": {},
   "outputs": [],
   "source": [
    "\n",
    "# Predict on test data\n",
    "preds = lin_reg_pc.predict(X_test_pc)\n",
    "pcr_score_test = mean_squared_error(y_test, preds, squared=False)\n",
    "pcr_score_test"
   ]
  },
  {
   "cell_type": "code",
   "execution_count": null,
   "metadata": {},
   "outputs": [],
   "source": []
  }
 ],
 "metadata": {
  "colab": {
   "collapsed_sections": [],
   "name": "Copy of LIMEdemo.ipynb",
   "provenance": [
    {
     "file_id": "1vPtZflZswKfQTS_KMkx5MbO9HViLjyfF",
     "timestamp": 1620384176589
    }
   ]
  },
  "kernelspec": {
   "display_name": "Python 3",
   "language": "python",
   "name": "python3"
  },
  "language_info": {
   "codemirror_mode": {
    "name": "ipython",
    "version": 3
   },
   "file_extension": ".py",
   "mimetype": "text/x-python",
   "name": "python",
   "nbconvert_exporter": "python",
   "pygments_lexer": "ipython3",
   "version": "3.7.4"
  }
 },
 "nbformat": 4,
 "nbformat_minor": 4
}
